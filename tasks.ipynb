{
 "cells": [
  {
   "attachments": {
    "download.png": {
     "image/png": "[encoded data removed]"
    }
   },
   "cell_type": "markdown",
   "id": "a341c792",
   "metadata": {},
   "source": [
    "# Atlantic Technological University\n",
    "![download.png](attachment:download.png)"
   ]
  },
  {
   "cell_type": "markdown",
   "id": "6f120b73",
   "metadata": {},
   "source": [
    "# Higher Diploma in Science in Computing (Data Analytics)-Level 8"
   ]
  },
  {
   "cell_type": "markdown",
   "id": "782fdcb3",
   "metadata": {},
   "source": [
    "# Applied Statistics 24-25\n"
   ]
  },
  {
   "cell_type": "markdown",
   "id": "7a23e923",
   "metadata": {},
   "source": [
    "#                                                    Tasks 24-25\n",
    "\n",
    "\n",
    "###                                                        Due: last commit 20 December 2024\n",
    "    \n",
    "    \n",
    "    \n",
    "###                                                        by Jean-Samuel Bonsenge-Bokanga\n",
    "\n"
   ]
  },
  {
   "cell_type": "markdown",
   "id": "b9e66e61",
   "metadata": {},
   "source": [
    "### Introduction"
   ]
  },
  {
   "cell_type": "markdown",
   "id": "d7340288",
   "metadata": {},
   "source": [
    "For the purpose of the Higher Diploma in Science in Computing in Data Analytics, I am required to submit tasks as part of the Applied Statistics module assessment. The notebook file is called **tasks.ipynb** and will carried out computation operations as per the instructions below, using the Python Programming Language."
   ]
  },
  {
   "cell_type": "markdown",
   "id": "4e137855",
   "metadata": {},
   "source": [
    "## Instructions"
   ]
  },
  {
   "cell_type": "markdown",
   "id": "cee4d378",
   "metadata": {},
   "source": [
    "Refer to the README.md for the instructions"
   ]
  },
  {
   "cell_type": "markdown",
   "id": "da2766f8",
   "metadata": {},
   "source": [
    "### Task 1: Permutations and Combinations"
   ]
  },
  {
   "cell_type": "markdown",
   "id": "9b673f5a",
   "metadata": {},
   "source": [
    "#### References"
   ]
  },
  {
   "cell_type": "markdown",
   "id": "ef7f20a5",
   "metadata": {},
   "source": [
    "GitHub Copilot(2024). Available at: https://github.com/features/copilot (Accessed on 23/11/2024.\n",
    "\n",
    "Ian MacLouglin (2024) Applied Statistics. Available at: https://github.com/ianmcloughlin/2425_applied_statistics (Accessed on 23/11/2024).\n",
    "\n",
    "The Python Standard Library » Numeric and Mathematical Modules » math — Mathematical(2024)\n",
    "math.factorial. Available at: \n",
    "https://docs.python.org/3.12/library/math.html#math.factorial (Accessed on 23/11/2024)\n",
    "\n",
    "The Python Standard Library » Numeric and Mathematical Modules » math — Mathematical(2024)\n",
    "math.comb(n, k). Available at:\n",
    "https://docs.python.org/3/library/math.html#math.comb (Accessed on 23/11/2024)\n",
    "\n",
    "The Python Standard Library » Functional Programming Modules — Functions creating iterators for efficient looping. Available at: https://docs.python.org/3/library/itertools.html#itertools.combinations (Accessed on 23/11/2024)\n",
    "\n",
    "\n",
    "Ronald Fisher (1935) The Design of Experiments. Available at: https://en.wikipedia.org/wiki/The_Design_of_Experiments (Accessed on 23/11/2024) \n",
    "\n",
    "Type I and Type II errors: https://en.wikipedia.org/wiki/Type_I_and_type_II_errors#Table_of_error_types (2024). Accessed on 23/11/2024\n",
    "\n",
    "Power: https://en.wikipedia.org/wiki/Power_(statistics)#Description (2024). (Accessed on 23/11/2024)"
   ]
  },
  {
   "cell_type": "markdown",
   "id": "bd3f84a7",
   "metadata": {},
   "source": [
    "### Lady Testing Tea.\n",
    "\n",
    "The ‘Lady Testing Tea’ experiment is a common reference in the permutation literature, described in Fisher (1935a, Ch. II). This experiment is usually referred to as the first published permutation test (International Statistical Review (2021), 89, 2, 367–381 doi:10.1111/insr.12431 (https://onlinelibrary.wiley.com/doi/epdf/10.1111/insr.12431h).\n",
    "\n",
    "The experiment provides a subject with eight randomly ordered cups of tea – four prepared by pouring milk and then tea, four by pouring tea and then milk. The subject attempts to select the four cups prepared by one method or the other, and may compare cups directly against each other as desired. The method employed in the experiment is fully disclosed to the subject. The null hypothesis is that the subject has no ability to distinguish the teas (https://en.wikipedia.org/wiki/Lady_tasting_tea)."
   ]
  },
  {
   "cell_type": "markdown",
   "id": "95f9f9cd",
   "metadata": {},
   "source": [
    "### Import Required Python Libraries"
   ]
  },
  {
   "cell_type": "code",
   "execution_count": 7,
   "id": "7e439067",
   "metadata": {},
   "outputs": [],
   "source": [
    "# Mathematical functions from the standard library.\n",
    "# https://docs.python.org/3/library/math.html\n",
    "import math\n",
    "\n",
    "# Permutations and combinations.\n",
    "# https://docs.python.org/3/library/itertools.html\n",
    "import itertools\n",
    "\n",
    "# Random selections.\n",
    "# https://docs.python.org/3/library/random.html\n",
    "import random\n",
    "\n",
    "# Numerical structures and operations.\n",
    "# https://numpy.org/doc/stable/reference/index.html#reference\n",
    "import numpy as np\n",
    "\n",
    "# Plotting.\n",
    "# https://matplotlib.org/stable/contents.html\n",
    "import matplotlib.pyplot as plt\n",
    "\n",
    "# Standard plot size.\n",
    "plt.rcParams['figure.figsize'] = (20, 18)\n",
    "\n",
    "# Standard colour scheme.\n",
    "plt.style.use('ggplot')\n"
   ]
  },
  {
   "cell_type": "markdown",
   "id": "4103419e",
   "metadata": {},
   "source": [
    "### Tea Test."
   ]
  },
  {
   "cell_type": "markdown",
   "id": "c75fb038",
   "metadata": {},
   "source": [
    "### Permutations and Combinations"
   ]
  },
  {
   "cell_type": "markdown",
   "id": "db1b87d0",
   "metadata": {},
   "source": [
    "https://onlinelibrary.wiley.com/doi/10.1111/insr.12431\n",
    "\n",
    "A permutation test fundamentally requires that the set of permutations has a group structure. Permutation tests are based on random sampling from populations. The ‘Lady Tasting Tea’ experiment, mentionned above is a general example in the permutation literature.\n",
    "\n",
    "#### References\n",
    "\n",
    "International Statistical Review (2021) \"Another Look at the Lady Tasting Tea and Differences Between PermutationTests and Randomisation Tests\". Available at https://onlinelibrary.wiley.com/doi/10.1111/insr.12431 (Accessed on 15/02/2025)."
   ]
  },
  {
   "cell_type": "code",
   "execution_count": 5,
   "id": "cc8e1d40",
   "metadata": {},
   "outputs": [],
   "source": [
    "# Number of cups of tea in total.\n",
    "no_cups = 12\n",
    "\n",
    "# Number of cups of tea with milk in first.\n",
    "no_cups_milk_first = 6\n",
    "\n",
    "# Number of cups of tea with tea in first.\n",
    "no_cups_tea_first = 6"
   ]
  },
  {
   "cell_type": "code",
   "execution_count": 6,
   "id": "b1d29158",
   "metadata": {},
   "outputs": [
    {
     "data": {
      "text/plain": [
       "924"
      ]
     },
     "execution_count": 6,
     "metadata": {},
     "output_type": "execute_result"
    }
   ],
   "source": [
    "# Number of ways of selecting six cups from eight.\n",
    "ways = math.comb(no_cups, no_cups_milk_first)\n",
    "\n",
    "# Show.\n",
    "ways"
   ]
  },
  {
   "cell_type": "code",
   "execution_count": 7,
   "id": "0b75e6d8",
   "metadata": {},
   "outputs": [
    {
     "data": {
      "text/plain": [
       "665280"
      ]
     },
     "execution_count": 7,
     "metadata": {},
     "output_type": "execute_result"
    }
   ],
   "source": [
    "# Total number of ways of selecting six cups from twelve, keeping them in order.\n",
    "ways_ordered = 12 * 11 * 10 * 9 * 8 * 7 \n",
    "\n",
    "# Show.\n",
    "ways_ordered"
   ]
  },
  {
   "cell_type": "code",
   "execution_count": 8,
   "id": "1112f814",
   "metadata": {},
   "outputs": [
    {
     "data": {
      "text/plain": [
       "720"
      ]
     },
     "execution_count": 8,
     "metadata": {},
     "output_type": "execute_result"
    }
   ],
   "source": [
    "# No of ways of shuffling six cups.\n",
    "no_shuffles = 6 *  5 *  4 *  3 *  2 *  1\n",
    "\n",
    "# Show.\n",
    "no_shuffles"
   ]
  },
  {
   "cell_type": "code",
   "execution_count": 9,
   "id": "1cf48623",
   "metadata": {},
   "outputs": [
    {
     "data": {
      "text/plain": [
       "924"
      ]
     },
     "execution_count": 9,
     "metadata": {},
     "output_type": "execute_result"
    }
   ],
   "source": [
    "# No of combinations.\n",
    "no_combs = ways_ordered // no_shuffles\n",
    "\n",
    "# Show.\n",
    "no_combs"
   ]
  },
  {
   "cell_type": "code",
   "execution_count": 11,
   "id": "cdb12f76",
   "metadata": {},
   "outputs": [],
   "source": [
    "# Number of cups of tea in total.\n",
    "n = 12"
   ]
  },
  {
   "cell_type": "code",
   "execution_count": 12,
   "id": "63e80a2e",
   "metadata": {},
   "outputs": [],
   "source": [
    "# Number of cups of tea with milk in first.\n",
    "k = 6"
   ]
  },
  {
   "cell_type": "markdown",
   "id": "2846e483",
   "metadata": {},
   "source": [
    "## math.factorial\n",
    "https://docs.python.org/3.12/library/math.html#math.factorial"
   ]
  },
  {
   "cell_type": "code",
   "execution_count": 13,
   "id": "19313831",
   "metadata": {},
   "outputs": [
    {
     "data": {
      "text/plain": [
       "720"
      ]
     },
     "execution_count": 13,
     "metadata": {},
     "output_type": "execute_result"
    }
   ],
   "source": [
    "# Six factorial.\n",
    "math.factorial(k)"
   ]
  },
  {
   "cell_type": "code",
   "execution_count": 14,
   "id": "70dadc35",
   "metadata": {},
   "outputs": [
    {
     "data": {
      "text/plain": [
       "720"
      ]
     },
     "execution_count": 14,
     "metadata": {},
     "output_type": "execute_result"
    }
   ],
   "source": [
    "# Six factorial.\n",
    "math.factorial(n - k)"
   ]
  },
  {
   "cell_type": "code",
   "execution_count": 15,
   "id": "c1802009",
   "metadata": {},
   "outputs": [
    {
     "data": {
      "text/plain": [
       "924"
      ]
     },
     "execution_count": 15,
     "metadata": {},
     "output_type": "execute_result"
    }
   ],
   "source": [
    "# No of ways of selecting k objects from n without replacement and without order.\n",
    "math.factorial(n) // (math.factorial(k) * math.factorial(n - k))"
   ]
  },
  {
   "cell_type": "markdown",
   "id": "18bad630",
   "metadata": {},
   "source": [
    "### Aside"
   ]
  },
  {
   "cell_type": "code",
   "execution_count": 16,
   "id": "747d05d9",
   "metadata": {},
   "outputs": [
    {
     "data": {
      "text/plain": [
       "80658175170943878571660636856403766975289505440883277824000000000000"
      ]
     },
     "execution_count": 16,
     "metadata": {},
     "output_type": "execute_result"
    }
   ],
   "source": [
    "# How many ways are there to shuffle a deck of 52 cards?\n",
    "math.factorial(52)"
   ]
  },
  {
   "cell_type": "markdown",
   "id": "807d2b4c",
   "metadata": {},
   "source": [
    "## Ordering of Results\n",
    "\n",
    "https://docs.python.org/3/library/itertools.html#itertools.combinations"
   ]
  },
  {
   "cell_type": "code",
   "execution_count": 17,
   "id": "035e85d3",
   "metadata": {},
   "outputs": [
    {
     "data": {
      "text/plain": [
       "[0, 1, 2, 3, 4, 5, 6, 7, 8, 9, 10, 11]"
      ]
     },
     "execution_count": 17,
     "metadata": {},
     "output_type": "execute_result"
    }
   ],
   "source": [
    "# The cup labels.\n",
    "labels = list(range(no_cups))\n",
    "\n",
    "# Show.\n",
    "labels"
   ]
  },
  {
   "cell_type": "code",
   "execution_count": 18,
   "id": "e0022e09",
   "metadata": {},
   "outputs": [
    {
     "data": {
      "text/plain": [
       "[(0, 1, 2, 3, 4, 5),\n",
       " (0, 1, 2, 3, 4, 6),\n",
       " (0, 1, 2, 3, 4, 7),\n",
       " (0, 1, 2, 3, 4, 8),\n",
       " (0, 1, 2, 3, 4, 9),\n",
       " (0, 1, 2, 3, 4, 10),\n",
       " (0, 1, 2, 3, 4, 11),\n",
       " (0, 1, 2, 3, 5, 6),\n",
       " (0, 1, 2, 3, 5, 7),\n",
       " (0, 1, 2, 3, 5, 8),\n",
       " (0, 1, 2, 3, 5, 9),\n",
       " (0, 1, 2, 3, 5, 10),\n",
       " (0, 1, 2, 3, 5, 11),\n",
       " (0, 1, 2, 3, 6, 7),\n",
       " (0, 1, 2, 3, 6, 8),\n",
       " (0, 1, 2, 3, 6, 9),\n",
       " (0, 1, 2, 3, 6, 10),\n",
       " (0, 1, 2, 3, 6, 11),\n",
       " (0, 1, 2, 3, 7, 8),\n",
       " (0, 1, 2, 3, 7, 9),\n",
       " (0, 1, 2, 3, 7, 10),\n",
       " (0, 1, 2, 3, 7, 11),\n",
       " (0, 1, 2, 3, 8, 9),\n",
       " (0, 1, 2, 3, 8, 10),\n",
       " (0, 1, 2, 3, 8, 11),\n",
       " (0, 1, 2, 3, 9, 10),\n",
       " (0, 1, 2, 3, 9, 11),\n",
       " (0, 1, 2, 3, 10, 11),\n",
       " (0, 1, 2, 4, 5, 6),\n",
       " (0, 1, 2, 4, 5, 7),\n",
       " (0, 1, 2, 4, 5, 8),\n",
       " (0, 1, 2, 4, 5, 9),\n",
       " (0, 1, 2, 4, 5, 10),\n",
       " (0, 1, 2, 4, 5, 11),\n",
       " (0, 1, 2, 4, 6, 7),\n",
       " (0, 1, 2, 4, 6, 8),\n",
       " (0, 1, 2, 4, 6, 9),\n",
       " (0, 1, 2, 4, 6, 10),\n",
       " (0, 1, 2, 4, 6, 11),\n",
       " (0, 1, 2, 4, 7, 8),\n",
       " (0, 1, 2, 4, 7, 9),\n",
       " (0, 1, 2, 4, 7, 10),\n",
       " (0, 1, 2, 4, 7, 11),\n",
       " (0, 1, 2, 4, 8, 9),\n",
       " (0, 1, 2, 4, 8, 10),\n",
       " (0, 1, 2, 4, 8, 11),\n",
       " (0, 1, 2, 4, 9, 10),\n",
       " (0, 1, 2, 4, 9, 11),\n",
       " (0, 1, 2, 4, 10, 11),\n",
       " (0, 1, 2, 5, 6, 7),\n",
       " (0, 1, 2, 5, 6, 8),\n",
       " (0, 1, 2, 5, 6, 9),\n",
       " (0, 1, 2, 5, 6, 10),\n",
       " (0, 1, 2, 5, 6, 11),\n",
       " (0, 1, 2, 5, 7, 8),\n",
       " (0, 1, 2, 5, 7, 9),\n",
       " (0, 1, 2, 5, 7, 10),\n",
       " (0, 1, 2, 5, 7, 11),\n",
       " (0, 1, 2, 5, 8, 9),\n",
       " (0, 1, 2, 5, 8, 10),\n",
       " (0, 1, 2, 5, 8, 11),\n",
       " (0, 1, 2, 5, 9, 10),\n",
       " (0, 1, 2, 5, 9, 11),\n",
       " (0, 1, 2, 5, 10, 11),\n",
       " (0, 1, 2, 6, 7, 8),\n",
       " (0, 1, 2, 6, 7, 9),\n",
       " (0, 1, 2, 6, 7, 10),\n",
       " (0, 1, 2, 6, 7, 11),\n",
       " (0, 1, 2, 6, 8, 9),\n",
       " (0, 1, 2, 6, 8, 10),\n",
       " (0, 1, 2, 6, 8, 11),\n",
       " (0, 1, 2, 6, 9, 10),\n",
       " (0, 1, 2, 6, 9, 11),\n",
       " (0, 1, 2, 6, 10, 11),\n",
       " (0, 1, 2, 7, 8, 9),\n",
       " (0, 1, 2, 7, 8, 10),\n",
       " (0, 1, 2, 7, 8, 11),\n",
       " (0, 1, 2, 7, 9, 10),\n",
       " (0, 1, 2, 7, 9, 11),\n",
       " (0, 1, 2, 7, 10, 11),\n",
       " (0, 1, 2, 8, 9, 10),\n",
       " (0, 1, 2, 8, 9, 11),\n",
       " (0, 1, 2, 8, 10, 11),\n",
       " (0, 1, 2, 9, 10, 11),\n",
       " (0, 1, 3, 4, 5, 6),\n",
       " (0, 1, 3, 4, 5, 7),\n",
       " (0, 1, 3, 4, 5, 8),\n",
       " (0, 1, 3, 4, 5, 9),\n",
       " (0, 1, 3, 4, 5, 10),\n",
       " (0, 1, 3, 4, 5, 11),\n",
       " (0, 1, 3, 4, 6, 7),\n",
       " (0, 1, 3, 4, 6, 8),\n",
       " (0, 1, 3, 4, 6, 9),\n",
       " (0, 1, 3, 4, 6, 10),\n",
       " (0, 1, 3, 4, 6, 11),\n",
       " (0, 1, 3, 4, 7, 8),\n",
       " (0, 1, 3, 4, 7, 9),\n",
       " (0, 1, 3, 4, 7, 10),\n",
       " (0, 1, 3, 4, 7, 11),\n",
       " (0, 1, 3, 4, 8, 9),\n",
       " (0, 1, 3, 4, 8, 10),\n",
       " (0, 1, 3, 4, 8, 11),\n",
       " (0, 1, 3, 4, 9, 10),\n",
       " (0, 1, 3, 4, 9, 11),\n",
       " (0, 1, 3, 4, 10, 11),\n",
       " (0, 1, 3, 5, 6, 7),\n",
       " (0, 1, 3, 5, 6, 8),\n",
       " (0, 1, 3, 5, 6, 9),\n",
       " (0, 1, 3, 5, 6, 10),\n",
       " (0, 1, 3, 5, 6, 11),\n",
       " (0, 1, 3, 5, 7, 8),\n",
       " (0, 1, 3, 5, 7, 9),\n",
       " (0, 1, 3, 5, 7, 10),\n",
       " (0, 1, 3, 5, 7, 11),\n",
       " (0, 1, 3, 5, 8, 9),\n",
       " (0, 1, 3, 5, 8, 10),\n",
       " (0, 1, 3, 5, 8, 11),\n",
       " (0, 1, 3, 5, 9, 10),\n",
       " (0, 1, 3, 5, 9, 11),\n",
       " (0, 1, 3, 5, 10, 11),\n",
       " (0, 1, 3, 6, 7, 8),\n",
       " (0, 1, 3, 6, 7, 9),\n",
       " (0, 1, 3, 6, 7, 10),\n",
       " (0, 1, 3, 6, 7, 11),\n",
       " (0, 1, 3, 6, 8, 9),\n",
       " (0, 1, 3, 6, 8, 10),\n",
       " (0, 1, 3, 6, 8, 11),\n",
       " (0, 1, 3, 6, 9, 10),\n",
       " (0, 1, 3, 6, 9, 11),\n",
       " (0, 1, 3, 6, 10, 11),\n",
       " (0, 1, 3, 7, 8, 9),\n",
       " (0, 1, 3, 7, 8, 10),\n",
       " (0, 1, 3, 7, 8, 11),\n",
       " (0, 1, 3, 7, 9, 10),\n",
       " (0, 1, 3, 7, 9, 11),\n",
       " (0, 1, 3, 7, 10, 11),\n",
       " (0, 1, 3, 8, 9, 10),\n",
       " (0, 1, 3, 8, 9, 11),\n",
       " (0, 1, 3, 8, 10, 11),\n",
       " (0, 1, 3, 9, 10, 11),\n",
       " (0, 1, 4, 5, 6, 7),\n",
       " (0, 1, 4, 5, 6, 8),\n",
       " (0, 1, 4, 5, 6, 9),\n",
       " (0, 1, 4, 5, 6, 10),\n",
       " (0, 1, 4, 5, 6, 11),\n",
       " (0, 1, 4, 5, 7, 8),\n",
       " (0, 1, 4, 5, 7, 9),\n",
       " (0, 1, 4, 5, 7, 10),\n",
       " (0, 1, 4, 5, 7, 11),\n",
       " (0, 1, 4, 5, 8, 9),\n",
       " (0, 1, 4, 5, 8, 10),\n",
       " (0, 1, 4, 5, 8, 11),\n",
       " (0, 1, 4, 5, 9, 10),\n",
       " (0, 1, 4, 5, 9, 11),\n",
       " (0, 1, 4, 5, 10, 11),\n",
       " (0, 1, 4, 6, 7, 8),\n",
       " (0, 1, 4, 6, 7, 9),\n",
       " (0, 1, 4, 6, 7, 10),\n",
       " (0, 1, 4, 6, 7, 11),\n",
       " (0, 1, 4, 6, 8, 9),\n",
       " (0, 1, 4, 6, 8, 10),\n",
       " (0, 1, 4, 6, 8, 11),\n",
       " (0, 1, 4, 6, 9, 10),\n",
       " (0, 1, 4, 6, 9, 11),\n",
       " (0, 1, 4, 6, 10, 11),\n",
       " (0, 1, 4, 7, 8, 9),\n",
       " (0, 1, 4, 7, 8, 10),\n",
       " (0, 1, 4, 7, 8, 11),\n",
       " (0, 1, 4, 7, 9, 10),\n",
       " (0, 1, 4, 7, 9, 11),\n",
       " (0, 1, 4, 7, 10, 11),\n",
       " (0, 1, 4, 8, 9, 10),\n",
       " (0, 1, 4, 8, 9, 11),\n",
       " (0, 1, 4, 8, 10, 11),\n",
       " (0, 1, 4, 9, 10, 11),\n",
       " (0, 1, 5, 6, 7, 8),\n",
       " (0, 1, 5, 6, 7, 9),\n",
       " (0, 1, 5, 6, 7, 10),\n",
       " (0, 1, 5, 6, 7, 11),\n",
       " (0, 1, 5, 6, 8, 9),\n",
       " (0, 1, 5, 6, 8, 10),\n",
       " (0, 1, 5, 6, 8, 11),\n",
       " (0, 1, 5, 6, 9, 10),\n",
       " (0, 1, 5, 6, 9, 11),\n",
       " (0, 1, 5, 6, 10, 11),\n",
       " (0, 1, 5, 7, 8, 9),\n",
       " (0, 1, 5, 7, 8, 10),\n",
       " (0, 1, 5, 7, 8, 11),\n",
       " (0, 1, 5, 7, 9, 10),\n",
       " (0, 1, 5, 7, 9, 11),\n",
       " (0, 1, 5, 7, 10, 11),\n",
       " (0, 1, 5, 8, 9, 10),\n",
       " (0, 1, 5, 8, 9, 11),\n",
       " (0, 1, 5, 8, 10, 11),\n",
       " (0, 1, 5, 9, 10, 11),\n",
       " (0, 1, 6, 7, 8, 9),\n",
       " (0, 1, 6, 7, 8, 10),\n",
       " (0, 1, 6, 7, 8, 11),\n",
       " (0, 1, 6, 7, 9, 10),\n",
       " (0, 1, 6, 7, 9, 11),\n",
       " (0, 1, 6, 7, 10, 11),\n",
       " (0, 1, 6, 8, 9, 10),\n",
       " (0, 1, 6, 8, 9, 11),\n",
       " (0, 1, 6, 8, 10, 11),\n",
       " (0, 1, 6, 9, 10, 11),\n",
       " (0, 1, 7, 8, 9, 10),\n",
       " (0, 1, 7, 8, 9, 11),\n",
       " (0, 1, 7, 8, 10, 11),\n",
       " (0, 1, 7, 9, 10, 11),\n",
       " (0, 1, 8, 9, 10, 11),\n",
       " (0, 2, 3, 4, 5, 6),\n",
       " (0, 2, 3, 4, 5, 7),\n",
       " (0, 2, 3, 4, 5, 8),\n",
       " (0, 2, 3, 4, 5, 9),\n",
       " (0, 2, 3, 4, 5, 10),\n",
       " (0, 2, 3, 4, 5, 11),\n",
       " (0, 2, 3, 4, 6, 7),\n",
       " (0, 2, 3, 4, 6, 8),\n",
       " (0, 2, 3, 4, 6, 9),\n",
       " (0, 2, 3, 4, 6, 10),\n",
       " (0, 2, 3, 4, 6, 11),\n",
       " (0, 2, 3, 4, 7, 8),\n",
       " (0, 2, 3, 4, 7, 9),\n",
       " (0, 2, 3, 4, 7, 10),\n",
       " (0, 2, 3, 4, 7, 11),\n",
       " (0, 2, 3, 4, 8, 9),\n",
       " (0, 2, 3, 4, 8, 10),\n",
       " (0, 2, 3, 4, 8, 11),\n",
       " (0, 2, 3, 4, 9, 10),\n",
       " (0, 2, 3, 4, 9, 11),\n",
       " (0, 2, 3, 4, 10, 11),\n",
       " (0, 2, 3, 5, 6, 7),\n",
       " (0, 2, 3, 5, 6, 8),\n",
       " (0, 2, 3, 5, 6, 9),\n",
       " (0, 2, 3, 5, 6, 10),\n",
       " (0, 2, 3, 5, 6, 11),\n",
       " (0, 2, 3, 5, 7, 8),\n",
       " (0, 2, 3, 5, 7, 9),\n",
       " (0, 2, 3, 5, 7, 10),\n",
       " (0, 2, 3, 5, 7, 11),\n",
       " (0, 2, 3, 5, 8, 9),\n",
       " (0, 2, 3, 5, 8, 10),\n",
       " (0, 2, 3, 5, 8, 11),\n",
       " (0, 2, 3, 5, 9, 10),\n",
       " (0, 2, 3, 5, 9, 11),\n",
       " (0, 2, 3, 5, 10, 11),\n",
       " (0, 2, 3, 6, 7, 8),\n",
       " (0, 2, 3, 6, 7, 9),\n",
       " (0, 2, 3, 6, 7, 10),\n",
       " (0, 2, 3, 6, 7, 11),\n",
       " (0, 2, 3, 6, 8, 9),\n",
       " (0, 2, 3, 6, 8, 10),\n",
       " (0, 2, 3, 6, 8, 11),\n",
       " (0, 2, 3, 6, 9, 10),\n",
       " (0, 2, 3, 6, 9, 11),\n",
       " (0, 2, 3, 6, 10, 11),\n",
       " (0, 2, 3, 7, 8, 9),\n",
       " (0, 2, 3, 7, 8, 10),\n",
       " (0, 2, 3, 7, 8, 11),\n",
       " (0, 2, 3, 7, 9, 10),\n",
       " (0, 2, 3, 7, 9, 11),\n",
       " (0, 2, 3, 7, 10, 11),\n",
       " (0, 2, 3, 8, 9, 10),\n",
       " (0, 2, 3, 8, 9, 11),\n",
       " (0, 2, 3, 8, 10, 11),\n",
       " (0, 2, 3, 9, 10, 11),\n",
       " (0, 2, 4, 5, 6, 7),\n",
       " (0, 2, 4, 5, 6, 8),\n",
       " (0, 2, 4, 5, 6, 9),\n",
       " (0, 2, 4, 5, 6, 10),\n",
       " (0, 2, 4, 5, 6, 11),\n",
       " (0, 2, 4, 5, 7, 8),\n",
       " (0, 2, 4, 5, 7, 9),\n",
       " (0, 2, 4, 5, 7, 10),\n",
       " (0, 2, 4, 5, 7, 11),\n",
       " (0, 2, 4, 5, 8, 9),\n",
       " (0, 2, 4, 5, 8, 10),\n",
       " (0, 2, 4, 5, 8, 11),\n",
       " (0, 2, 4, 5, 9, 10),\n",
       " (0, 2, 4, 5, 9, 11),\n",
       " (0, 2, 4, 5, 10, 11),\n",
       " (0, 2, 4, 6, 7, 8),\n",
       " (0, 2, 4, 6, 7, 9),\n",
       " (0, 2, 4, 6, 7, 10),\n",
       " (0, 2, 4, 6, 7, 11),\n",
       " (0, 2, 4, 6, 8, 9),\n",
       " (0, 2, 4, 6, 8, 10),\n",
       " (0, 2, 4, 6, 8, 11),\n",
       " (0, 2, 4, 6, 9, 10),\n",
       " (0, 2, 4, 6, 9, 11),\n",
       " (0, 2, 4, 6, 10, 11),\n",
       " (0, 2, 4, 7, 8, 9),\n",
       " (0, 2, 4, 7, 8, 10),\n",
       " (0, 2, 4, 7, 8, 11),\n",
       " (0, 2, 4, 7, 9, 10),\n",
       " (0, 2, 4, 7, 9, 11),\n",
       " (0, 2, 4, 7, 10, 11),\n",
       " (0, 2, 4, 8, 9, 10),\n",
       " (0, 2, 4, 8, 9, 11),\n",
       " (0, 2, 4, 8, 10, 11),\n",
       " (0, 2, 4, 9, 10, 11),\n",
       " (0, 2, 5, 6, 7, 8),\n",
       " (0, 2, 5, 6, 7, 9),\n",
       " (0, 2, 5, 6, 7, 10),\n",
       " (0, 2, 5, 6, 7, 11),\n",
       " (0, 2, 5, 6, 8, 9),\n",
       " (0, 2, 5, 6, 8, 10),\n",
       " (0, 2, 5, 6, 8, 11),\n",
       " (0, 2, 5, 6, 9, 10),\n",
       " (0, 2, 5, 6, 9, 11),\n",
       " (0, 2, 5, 6, 10, 11),\n",
       " (0, 2, 5, 7, 8, 9),\n",
       " (0, 2, 5, 7, 8, 10),\n",
       " (0, 2, 5, 7, 8, 11),\n",
       " (0, 2, 5, 7, 9, 10),\n",
       " (0, 2, 5, 7, 9, 11),\n",
       " (0, 2, 5, 7, 10, 11),\n",
       " (0, 2, 5, 8, 9, 10),\n",
       " (0, 2, 5, 8, 9, 11),\n",
       " (0, 2, 5, 8, 10, 11),\n",
       " (0, 2, 5, 9, 10, 11),\n",
       " (0, 2, 6, 7, 8, 9),\n",
       " (0, 2, 6, 7, 8, 10),\n",
       " (0, 2, 6, 7, 8, 11),\n",
       " (0, 2, 6, 7, 9, 10),\n",
       " (0, 2, 6, 7, 9, 11),\n",
       " (0, 2, 6, 7, 10, 11),\n",
       " (0, 2, 6, 8, 9, 10),\n",
       " (0, 2, 6, 8, 9, 11),\n",
       " (0, 2, 6, 8, 10, 11),\n",
       " (0, 2, 6, 9, 10, 11),\n",
       " (0, 2, 7, 8, 9, 10),\n",
       " (0, 2, 7, 8, 9, 11),\n",
       " (0, 2, 7, 8, 10, 11),\n",
       " (0, 2, 7, 9, 10, 11),\n",
       " (0, 2, 8, 9, 10, 11),\n",
       " (0, 3, 4, 5, 6, 7),\n",
       " (0, 3, 4, 5, 6, 8),\n",
       " (0, 3, 4, 5, 6, 9),\n",
       " (0, 3, 4, 5, 6, 10),\n",
       " (0, 3, 4, 5, 6, 11),\n",
       " (0, 3, 4, 5, 7, 8),\n",
       " (0, 3, 4, 5, 7, 9),\n",
       " (0, 3, 4, 5, 7, 10),\n",
       " (0, 3, 4, 5, 7, 11),\n",
       " (0, 3, 4, 5, 8, 9),\n",
       " (0, 3, 4, 5, 8, 10),\n",
       " (0, 3, 4, 5, 8, 11),\n",
       " (0, 3, 4, 5, 9, 10),\n",
       " (0, 3, 4, 5, 9, 11),\n",
       " (0, 3, 4, 5, 10, 11),\n",
       " (0, 3, 4, 6, 7, 8),\n",
       " (0, 3, 4, 6, 7, 9),\n",
       " (0, 3, 4, 6, 7, 10),\n",
       " (0, 3, 4, 6, 7, 11),\n",
       " (0, 3, 4, 6, 8, 9),\n",
       " (0, 3, 4, 6, 8, 10),\n",
       " (0, 3, 4, 6, 8, 11),\n",
       " (0, 3, 4, 6, 9, 10),\n",
       " (0, 3, 4, 6, 9, 11),\n",
       " (0, 3, 4, 6, 10, 11),\n",
       " (0, 3, 4, 7, 8, 9),\n",
       " (0, 3, 4, 7, 8, 10),\n",
       " (0, 3, 4, 7, 8, 11),\n",
       " (0, 3, 4, 7, 9, 10),\n",
       " (0, 3, 4, 7, 9, 11),\n",
       " (0, 3, 4, 7, 10, 11),\n",
       " (0, 3, 4, 8, 9, 10),\n",
       " (0, 3, 4, 8, 9, 11),\n",
       " (0, 3, 4, 8, 10, 11),\n",
       " (0, 3, 4, 9, 10, 11),\n",
       " (0, 3, 5, 6, 7, 8),\n",
       " (0, 3, 5, 6, 7, 9),\n",
       " (0, 3, 5, 6, 7, 10),\n",
       " (0, 3, 5, 6, 7, 11),\n",
       " (0, 3, 5, 6, 8, 9),\n",
       " (0, 3, 5, 6, 8, 10),\n",
       " (0, 3, 5, 6, 8, 11),\n",
       " (0, 3, 5, 6, 9, 10),\n",
       " (0, 3, 5, 6, 9, 11),\n",
       " (0, 3, 5, 6, 10, 11),\n",
       " (0, 3, 5, 7, 8, 9),\n",
       " (0, 3, 5, 7, 8, 10),\n",
       " (0, 3, 5, 7, 8, 11),\n",
       " (0, 3, 5, 7, 9, 10),\n",
       " (0, 3, 5, 7, 9, 11),\n",
       " (0, 3, 5, 7, 10, 11),\n",
       " (0, 3, 5, 8, 9, 10),\n",
       " (0, 3, 5, 8, 9, 11),\n",
       " (0, 3, 5, 8, 10, 11),\n",
       " (0, 3, 5, 9, 10, 11),\n",
       " (0, 3, 6, 7, 8, 9),\n",
       " (0, 3, 6, 7, 8, 10),\n",
       " (0, 3, 6, 7, 8, 11),\n",
       " (0, 3, 6, 7, 9, 10),\n",
       " (0, 3, 6, 7, 9, 11),\n",
       " (0, 3, 6, 7, 10, 11),\n",
       " (0, 3, 6, 8, 9, 10),\n",
       " (0, 3, 6, 8, 9, 11),\n",
       " (0, 3, 6, 8, 10, 11),\n",
       " (0, 3, 6, 9, 10, 11),\n",
       " (0, 3, 7, 8, 9, 10),\n",
       " (0, 3, 7, 8, 9, 11),\n",
       " (0, 3, 7, 8, 10, 11),\n",
       " (0, 3, 7, 9, 10, 11),\n",
       " (0, 3, 8, 9, 10, 11),\n",
       " (0, 4, 5, 6, 7, 8),\n",
       " (0, 4, 5, 6, 7, 9),\n",
       " (0, 4, 5, 6, 7, 10),\n",
       " (0, 4, 5, 6, 7, 11),\n",
       " (0, 4, 5, 6, 8, 9),\n",
       " (0, 4, 5, 6, 8, 10),\n",
       " (0, 4, 5, 6, 8, 11),\n",
       " (0, 4, 5, 6, 9, 10),\n",
       " (0, 4, 5, 6, 9, 11),\n",
       " (0, 4, 5, 6, 10, 11),\n",
       " (0, 4, 5, 7, 8, 9),\n",
       " (0, 4, 5, 7, 8, 10),\n",
       " (0, 4, 5, 7, 8, 11),\n",
       " (0, 4, 5, 7, 9, 10),\n",
       " (0, 4, 5, 7, 9, 11),\n",
       " (0, 4, 5, 7, 10, 11),\n",
       " (0, 4, 5, 8, 9, 10),\n",
       " (0, 4, 5, 8, 9, 11),\n",
       " (0, 4, 5, 8, 10, 11),\n",
       " (0, 4, 5, 9, 10, 11),\n",
       " (0, 4, 6, 7, 8, 9),\n",
       " (0, 4, 6, 7, 8, 10),\n",
       " (0, 4, 6, 7, 8, 11),\n",
       " (0, 4, 6, 7, 9, 10),\n",
       " (0, 4, 6, 7, 9, 11),\n",
       " (0, 4, 6, 7, 10, 11),\n",
       " (0, 4, 6, 8, 9, 10),\n",
       " (0, 4, 6, 8, 9, 11),\n",
       " (0, 4, 6, 8, 10, 11),\n",
       " (0, 4, 6, 9, 10, 11),\n",
       " (0, 4, 7, 8, 9, 10),\n",
       " (0, 4, 7, 8, 9, 11),\n",
       " (0, 4, 7, 8, 10, 11),\n",
       " (0, 4, 7, 9, 10, 11),\n",
       " (0, 4, 8, 9, 10, 11),\n",
       " (0, 5, 6, 7, 8, 9),\n",
       " (0, 5, 6, 7, 8, 10),\n",
       " (0, 5, 6, 7, 8, 11),\n",
       " (0, 5, 6, 7, 9, 10),\n",
       " (0, 5, 6, 7, 9, 11),\n",
       " (0, 5, 6, 7, 10, 11),\n",
       " (0, 5, 6, 8, 9, 10),\n",
       " (0, 5, 6, 8, 9, 11),\n",
       " (0, 5, 6, 8, 10, 11),\n",
       " (0, 5, 6, 9, 10, 11),\n",
       " (0, 5, 7, 8, 9, 10),\n",
       " (0, 5, 7, 8, 9, 11),\n",
       " (0, 5, 7, 8, 10, 11),\n",
       " (0, 5, 7, 9, 10, 11),\n",
       " (0, 5, 8, 9, 10, 11),\n",
       " (0, 6, 7, 8, 9, 10),\n",
       " (0, 6, 7, 8, 9, 11),\n",
       " (0, 6, 7, 8, 10, 11),\n",
       " (0, 6, 7, 9, 10, 11),\n",
       " (0, 6, 8, 9, 10, 11),\n",
       " (0, 7, 8, 9, 10, 11),\n",
       " (1, 2, 3, 4, 5, 6),\n",
       " (1, 2, 3, 4, 5, 7),\n",
       " (1, 2, 3, 4, 5, 8),\n",
       " (1, 2, 3, 4, 5, 9),\n",
       " (1, 2, 3, 4, 5, 10),\n",
       " (1, 2, 3, 4, 5, 11),\n",
       " (1, 2, 3, 4, 6, 7),\n",
       " (1, 2, 3, 4, 6, 8),\n",
       " (1, 2, 3, 4, 6, 9),\n",
       " (1, 2, 3, 4, 6, 10),\n",
       " (1, 2, 3, 4, 6, 11),\n",
       " (1, 2, 3, 4, 7, 8),\n",
       " (1, 2, 3, 4, 7, 9),\n",
       " (1, 2, 3, 4, 7, 10),\n",
       " (1, 2, 3, 4, 7, 11),\n",
       " (1, 2, 3, 4, 8, 9),\n",
       " (1, 2, 3, 4, 8, 10),\n",
       " (1, 2, 3, 4, 8, 11),\n",
       " (1, 2, 3, 4, 9, 10),\n",
       " (1, 2, 3, 4, 9, 11),\n",
       " (1, 2, 3, 4, 10, 11),\n",
       " (1, 2, 3, 5, 6, 7),\n",
       " (1, 2, 3, 5, 6, 8),\n",
       " (1, 2, 3, 5, 6, 9),\n",
       " (1, 2, 3, 5, 6, 10),\n",
       " (1, 2, 3, 5, 6, 11),\n",
       " (1, 2, 3, 5, 7, 8),\n",
       " (1, 2, 3, 5, 7, 9),\n",
       " (1, 2, 3, 5, 7, 10),\n",
       " (1, 2, 3, 5, 7, 11),\n",
       " (1, 2, 3, 5, 8, 9),\n",
       " (1, 2, 3, 5, 8, 10),\n",
       " (1, 2, 3, 5, 8, 11),\n",
       " (1, 2, 3, 5, 9, 10),\n",
       " (1, 2, 3, 5, 9, 11),\n",
       " (1, 2, 3, 5, 10, 11),\n",
       " (1, 2, 3, 6, 7, 8),\n",
       " (1, 2, 3, 6, 7, 9),\n",
       " (1, 2, 3, 6, 7, 10),\n",
       " (1, 2, 3, 6, 7, 11),\n",
       " (1, 2, 3, 6, 8, 9),\n",
       " (1, 2, 3, 6, 8, 10),\n",
       " (1, 2, 3, 6, 8, 11),\n",
       " (1, 2, 3, 6, 9, 10),\n",
       " (1, 2, 3, 6, 9, 11),\n",
       " (1, 2, 3, 6, 10, 11),\n",
       " (1, 2, 3, 7, 8, 9),\n",
       " (1, 2, 3, 7, 8, 10),\n",
       " (1, 2, 3, 7, 8, 11),\n",
       " (1, 2, 3, 7, 9, 10),\n",
       " (1, 2, 3, 7, 9, 11),\n",
       " (1, 2, 3, 7, 10, 11),\n",
       " (1, 2, 3, 8, 9, 10),\n",
       " (1, 2, 3, 8, 9, 11),\n",
       " (1, 2, 3, 8, 10, 11),\n",
       " (1, 2, 3, 9, 10, 11),\n",
       " (1, 2, 4, 5, 6, 7),\n",
       " (1, 2, 4, 5, 6, 8),\n",
       " (1, 2, 4, 5, 6, 9),\n",
       " (1, 2, 4, 5, 6, 10),\n",
       " (1, 2, 4, 5, 6, 11),\n",
       " (1, 2, 4, 5, 7, 8),\n",
       " (1, 2, 4, 5, 7, 9),\n",
       " (1, 2, 4, 5, 7, 10),\n",
       " (1, 2, 4, 5, 7, 11),\n",
       " (1, 2, 4, 5, 8, 9),\n",
       " (1, 2, 4, 5, 8, 10),\n",
       " (1, 2, 4, 5, 8, 11),\n",
       " (1, 2, 4, 5, 9, 10),\n",
       " (1, 2, 4, 5, 9, 11),\n",
       " (1, 2, 4, 5, 10, 11),\n",
       " (1, 2, 4, 6, 7, 8),\n",
       " (1, 2, 4, 6, 7, 9),\n",
       " (1, 2, 4, 6, 7, 10),\n",
       " (1, 2, 4, 6, 7, 11),\n",
       " (1, 2, 4, 6, 8, 9),\n",
       " (1, 2, 4, 6, 8, 10),\n",
       " (1, 2, 4, 6, 8, 11),\n",
       " (1, 2, 4, 6, 9, 10),\n",
       " (1, 2, 4, 6, 9, 11),\n",
       " (1, 2, 4, 6, 10, 11),\n",
       " (1, 2, 4, 7, 8, 9),\n",
       " (1, 2, 4, 7, 8, 10),\n",
       " (1, 2, 4, 7, 8, 11),\n",
       " (1, 2, 4, 7, 9, 10),\n",
       " (1, 2, 4, 7, 9, 11),\n",
       " (1, 2, 4, 7, 10, 11),\n",
       " (1, 2, 4, 8, 9, 10),\n",
       " (1, 2, 4, 8, 9, 11),\n",
       " (1, 2, 4, 8, 10, 11),\n",
       " (1, 2, 4, 9, 10, 11),\n",
       " (1, 2, 5, 6, 7, 8),\n",
       " (1, 2, 5, 6, 7, 9),\n",
       " (1, 2, 5, 6, 7, 10),\n",
       " (1, 2, 5, 6, 7, 11),\n",
       " (1, 2, 5, 6, 8, 9),\n",
       " (1, 2, 5, 6, 8, 10),\n",
       " (1, 2, 5, 6, 8, 11),\n",
       " (1, 2, 5, 6, 9, 10),\n",
       " (1, 2, 5, 6, 9, 11),\n",
       " (1, 2, 5, 6, 10, 11),\n",
       " (1, 2, 5, 7, 8, 9),\n",
       " (1, 2, 5, 7, 8, 10),\n",
       " (1, 2, 5, 7, 8, 11),\n",
       " (1, 2, 5, 7, 9, 10),\n",
       " (1, 2, 5, 7, 9, 11),\n",
       " (1, 2, 5, 7, 10, 11),\n",
       " (1, 2, 5, 8, 9, 10),\n",
       " (1, 2, 5, 8, 9, 11),\n",
       " (1, 2, 5, 8, 10, 11),\n",
       " (1, 2, 5, 9, 10, 11),\n",
       " (1, 2, 6, 7, 8, 9),\n",
       " (1, 2, 6, 7, 8, 10),\n",
       " (1, 2, 6, 7, 8, 11),\n",
       " (1, 2, 6, 7, 9, 10),\n",
       " (1, 2, 6, 7, 9, 11),\n",
       " (1, 2, 6, 7, 10, 11),\n",
       " (1, 2, 6, 8, 9, 10),\n",
       " (1, 2, 6, 8, 9, 11),\n",
       " (1, 2, 6, 8, 10, 11),\n",
       " (1, 2, 6, 9, 10, 11),\n",
       " (1, 2, 7, 8, 9, 10),\n",
       " (1, 2, 7, 8, 9, 11),\n",
       " (1, 2, 7, 8, 10, 11),\n",
       " (1, 2, 7, 9, 10, 11),\n",
       " (1, 2, 8, 9, 10, 11),\n",
       " (1, 3, 4, 5, 6, 7),\n",
       " (1, 3, 4, 5, 6, 8),\n",
       " (1, 3, 4, 5, 6, 9),\n",
       " (1, 3, 4, 5, 6, 10),\n",
       " (1, 3, 4, 5, 6, 11),\n",
       " (1, 3, 4, 5, 7, 8),\n",
       " (1, 3, 4, 5, 7, 9),\n",
       " (1, 3, 4, 5, 7, 10),\n",
       " (1, 3, 4, 5, 7, 11),\n",
       " (1, 3, 4, 5, 8, 9),\n",
       " (1, 3, 4, 5, 8, 10),\n",
       " (1, 3, 4, 5, 8, 11),\n",
       " (1, 3, 4, 5, 9, 10),\n",
       " (1, 3, 4, 5, 9, 11),\n",
       " (1, 3, 4, 5, 10, 11),\n",
       " (1, 3, 4, 6, 7, 8),\n",
       " (1, 3, 4, 6, 7, 9),\n",
       " (1, 3, 4, 6, 7, 10),\n",
       " (1, 3, 4, 6, 7, 11),\n",
       " (1, 3, 4, 6, 8, 9),\n",
       " (1, 3, 4, 6, 8, 10),\n",
       " (1, 3, 4, 6, 8, 11),\n",
       " (1, 3, 4, 6, 9, 10),\n",
       " (1, 3, 4, 6, 9, 11),\n",
       " (1, 3, 4, 6, 10, 11),\n",
       " (1, 3, 4, 7, 8, 9),\n",
       " (1, 3, 4, 7, 8, 10),\n",
       " (1, 3, 4, 7, 8, 11),\n",
       " (1, 3, 4, 7, 9, 10),\n",
       " (1, 3, 4, 7, 9, 11),\n",
       " (1, 3, 4, 7, 10, 11),\n",
       " (1, 3, 4, 8, 9, 10),\n",
       " (1, 3, 4, 8, 9, 11),\n",
       " (1, 3, 4, 8, 10, 11),\n",
       " (1, 3, 4, 9, 10, 11),\n",
       " (1, 3, 5, 6, 7, 8),\n",
       " (1, 3, 5, 6, 7, 9),\n",
       " (1, 3, 5, 6, 7, 10),\n",
       " (1, 3, 5, 6, 7, 11),\n",
       " (1, 3, 5, 6, 8, 9),\n",
       " (1, 3, 5, 6, 8, 10),\n",
       " (1, 3, 5, 6, 8, 11),\n",
       " (1, 3, 5, 6, 9, 10),\n",
       " (1, 3, 5, 6, 9, 11),\n",
       " (1, 3, 5, 6, 10, 11),\n",
       " (1, 3, 5, 7, 8, 9),\n",
       " (1, 3, 5, 7, 8, 10),\n",
       " (1, 3, 5, 7, 8, 11),\n",
       " (1, 3, 5, 7, 9, 10),\n",
       " (1, 3, 5, 7, 9, 11),\n",
       " (1, 3, 5, 7, 10, 11),\n",
       " (1, 3, 5, 8, 9, 10),\n",
       " (1, 3, 5, 8, 9, 11),\n",
       " (1, 3, 5, 8, 10, 11),\n",
       " (1, 3, 5, 9, 10, 11),\n",
       " (1, 3, 6, 7, 8, 9),\n",
       " (1, 3, 6, 7, 8, 10),\n",
       " (1, 3, 6, 7, 8, 11),\n",
       " (1, 3, 6, 7, 9, 10),\n",
       " (1, 3, 6, 7, 9, 11),\n",
       " (1, 3, 6, 7, 10, 11),\n",
       " (1, 3, 6, 8, 9, 10),\n",
       " (1, 3, 6, 8, 9, 11),\n",
       " (1, 3, 6, 8, 10, 11),\n",
       " (1, 3, 6, 9, 10, 11),\n",
       " (1, 3, 7, 8, 9, 10),\n",
       " (1, 3, 7, 8, 9, 11),\n",
       " (1, 3, 7, 8, 10, 11),\n",
       " (1, 3, 7, 9, 10, 11),\n",
       " (1, 3, 8, 9, 10, 11),\n",
       " (1, 4, 5, 6, 7, 8),\n",
       " (1, 4, 5, 6, 7, 9),\n",
       " (1, 4, 5, 6, 7, 10),\n",
       " (1, 4, 5, 6, 7, 11),\n",
       " (1, 4, 5, 6, 8, 9),\n",
       " (1, 4, 5, 6, 8, 10),\n",
       " (1, 4, 5, 6, 8, 11),\n",
       " (1, 4, 5, 6, 9, 10),\n",
       " (1, 4, 5, 6, 9, 11),\n",
       " (1, 4, 5, 6, 10, 11),\n",
       " (1, 4, 5, 7, 8, 9),\n",
       " (1, 4, 5, 7, 8, 10),\n",
       " (1, 4, 5, 7, 8, 11),\n",
       " (1, 4, 5, 7, 9, 10),\n",
       " (1, 4, 5, 7, 9, 11),\n",
       " (1, 4, 5, 7, 10, 11),\n",
       " (1, 4, 5, 8, 9, 10),\n",
       " (1, 4, 5, 8, 9, 11),\n",
       " (1, 4, 5, 8, 10, 11),\n",
       " (1, 4, 5, 9, 10, 11),\n",
       " (1, 4, 6, 7, 8, 9),\n",
       " (1, 4, 6, 7, 8, 10),\n",
       " (1, 4, 6, 7, 8, 11),\n",
       " (1, 4, 6, 7, 9, 10),\n",
       " (1, 4, 6, 7, 9, 11),\n",
       " (1, 4, 6, 7, 10, 11),\n",
       " (1, 4, 6, 8, 9, 10),\n",
       " (1, 4, 6, 8, 9, 11),\n",
       " (1, 4, 6, 8, 10, 11),\n",
       " (1, 4, 6, 9, 10, 11),\n",
       " (1, 4, 7, 8, 9, 10),\n",
       " (1, 4, 7, 8, 9, 11),\n",
       " (1, 4, 7, 8, 10, 11),\n",
       " (1, 4, 7, 9, 10, 11),\n",
       " (1, 4, 8, 9, 10, 11),\n",
       " (1, 5, 6, 7, 8, 9),\n",
       " (1, 5, 6, 7, 8, 10),\n",
       " (1, 5, 6, 7, 8, 11),\n",
       " (1, 5, 6, 7, 9, 10),\n",
       " (1, 5, 6, 7, 9, 11),\n",
       " (1, 5, 6, 7, 10, 11),\n",
       " (1, 5, 6, 8, 9, 10),\n",
       " (1, 5, 6, 8, 9, 11),\n",
       " (1, 5, 6, 8, 10, 11),\n",
       " (1, 5, 6, 9, 10, 11),\n",
       " (1, 5, 7, 8, 9, 10),\n",
       " (1, 5, 7, 8, 9, 11),\n",
       " (1, 5, 7, 8, 10, 11),\n",
       " (1, 5, 7, 9, 10, 11),\n",
       " (1, 5, 8, 9, 10, 11),\n",
       " (1, 6, 7, 8, 9, 10),\n",
       " (1, 6, 7, 8, 9, 11),\n",
       " (1, 6, 7, 8, 10, 11),\n",
       " (1, 6, 7, 9, 10, 11),\n",
       " (1, 6, 8, 9, 10, 11),\n",
       " (1, 7, 8, 9, 10, 11),\n",
       " (2, 3, 4, 5, 6, 7),\n",
       " (2, 3, 4, 5, 6, 8),\n",
       " (2, 3, 4, 5, 6, 9),\n",
       " (2, 3, 4, 5, 6, 10),\n",
       " (2, 3, 4, 5, 6, 11),\n",
       " (2, 3, 4, 5, 7, 8),\n",
       " (2, 3, 4, 5, 7, 9),\n",
       " (2, 3, 4, 5, 7, 10),\n",
       " (2, 3, 4, 5, 7, 11),\n",
       " (2, 3, 4, 5, 8, 9),\n",
       " (2, 3, 4, 5, 8, 10),\n",
       " (2, 3, 4, 5, 8, 11),\n",
       " (2, 3, 4, 5, 9, 10),\n",
       " (2, 3, 4, 5, 9, 11),\n",
       " (2, 3, 4, 5, 10, 11),\n",
       " (2, 3, 4, 6, 7, 8),\n",
       " (2, 3, 4, 6, 7, 9),\n",
       " (2, 3, 4, 6, 7, 10),\n",
       " (2, 3, 4, 6, 7, 11),\n",
       " (2, 3, 4, 6, 8, 9),\n",
       " (2, 3, 4, 6, 8, 10),\n",
       " (2, 3, 4, 6, 8, 11),\n",
       " (2, 3, 4, 6, 9, 10),\n",
       " (2, 3, 4, 6, 9, 11),\n",
       " (2, 3, 4, 6, 10, 11),\n",
       " (2, 3, 4, 7, 8, 9),\n",
       " (2, 3, 4, 7, 8, 10),\n",
       " (2, 3, 4, 7, 8, 11),\n",
       " (2, 3, 4, 7, 9, 10),\n",
       " (2, 3, 4, 7, 9, 11),\n",
       " (2, 3, 4, 7, 10, 11),\n",
       " (2, 3, 4, 8, 9, 10),\n",
       " (2, 3, 4, 8, 9, 11),\n",
       " (2, 3, 4, 8, 10, 11),\n",
       " (2, 3, 4, 9, 10, 11),\n",
       " (2, 3, 5, 6, 7, 8),\n",
       " (2, 3, 5, 6, 7, 9),\n",
       " (2, 3, 5, 6, 7, 10),\n",
       " (2, 3, 5, 6, 7, 11),\n",
       " (2, 3, 5, 6, 8, 9),\n",
       " (2, 3, 5, 6, 8, 10),\n",
       " (2, 3, 5, 6, 8, 11),\n",
       " (2, 3, 5, 6, 9, 10),\n",
       " (2, 3, 5, 6, 9, 11),\n",
       " (2, 3, 5, 6, 10, 11),\n",
       " (2, 3, 5, 7, 8, 9),\n",
       " (2, 3, 5, 7, 8, 10),\n",
       " (2, 3, 5, 7, 8, 11),\n",
       " (2, 3, 5, 7, 9, 10),\n",
       " (2, 3, 5, 7, 9, 11),\n",
       " (2, 3, 5, 7, 10, 11),\n",
       " (2, 3, 5, 8, 9, 10),\n",
       " (2, 3, 5, 8, 9, 11),\n",
       " (2, 3, 5, 8, 10, 11),\n",
       " (2, 3, 5, 9, 10, 11),\n",
       " (2, 3, 6, 7, 8, 9),\n",
       " (2, 3, 6, 7, 8, 10),\n",
       " (2, 3, 6, 7, 8, 11),\n",
       " (2, 3, 6, 7, 9, 10),\n",
       " (2, 3, 6, 7, 9, 11),\n",
       " (2, 3, 6, 7, 10, 11),\n",
       " (2, 3, 6, 8, 9, 10),\n",
       " (2, 3, 6, 8, 9, 11),\n",
       " (2, 3, 6, 8, 10, 11),\n",
       " (2, 3, 6, 9, 10, 11),\n",
       " (2, 3, 7, 8, 9, 10),\n",
       " (2, 3, 7, 8, 9, 11),\n",
       " (2, 3, 7, 8, 10, 11),\n",
       " (2, 3, 7, 9, 10, 11),\n",
       " (2, 3, 8, 9, 10, 11),\n",
       " (2, 4, 5, 6, 7, 8),\n",
       " (2, 4, 5, 6, 7, 9),\n",
       " (2, 4, 5, 6, 7, 10),\n",
       " (2, 4, 5, 6, 7, 11),\n",
       " (2, 4, 5, 6, 8, 9),\n",
       " (2, 4, 5, 6, 8, 10),\n",
       " (2, 4, 5, 6, 8, 11),\n",
       " (2, 4, 5, 6, 9, 10),\n",
       " (2, 4, 5, 6, 9, 11),\n",
       " (2, 4, 5, 6, 10, 11),\n",
       " (2, 4, 5, 7, 8, 9),\n",
       " (2, 4, 5, 7, 8, 10),\n",
       " (2, 4, 5, 7, 8, 11),\n",
       " (2, 4, 5, 7, 9, 10),\n",
       " (2, 4, 5, 7, 9, 11),\n",
       " (2, 4, 5, 7, 10, 11),\n",
       " (2, 4, 5, 8, 9, 10),\n",
       " (2, 4, 5, 8, 9, 11),\n",
       " (2, 4, 5, 8, 10, 11),\n",
       " (2, 4, 5, 9, 10, 11),\n",
       " (2, 4, 6, 7, 8, 9),\n",
       " (2, 4, 6, 7, 8, 10),\n",
       " (2, 4, 6, 7, 8, 11),\n",
       " (2, 4, 6, 7, 9, 10),\n",
       " (2, 4, 6, 7, 9, 11),\n",
       " (2, 4, 6, 7, 10, 11),\n",
       " (2, 4, 6, 8, 9, 10),\n",
       " (2, 4, 6, 8, 9, 11),\n",
       " (2, 4, 6, 8, 10, 11),\n",
       " (2, 4, 6, 9, 10, 11),\n",
       " (2, 4, 7, 8, 9, 10),\n",
       " (2, 4, 7, 8, 9, 11),\n",
       " (2, 4, 7, 8, 10, 11),\n",
       " (2, 4, 7, 9, 10, 11),\n",
       " (2, 4, 8, 9, 10, 11),\n",
       " (2, 5, 6, 7, 8, 9),\n",
       " (2, 5, 6, 7, 8, 10),\n",
       " (2, 5, 6, 7, 8, 11),\n",
       " (2, 5, 6, 7, 9, 10),\n",
       " (2, 5, 6, 7, 9, 11),\n",
       " (2, 5, 6, 7, 10, 11),\n",
       " (2, 5, 6, 8, 9, 10),\n",
       " (2, 5, 6, 8, 9, 11),\n",
       " (2, 5, 6, 8, 10, 11),\n",
       " (2, 5, 6, 9, 10, 11),\n",
       " (2, 5, 7, 8, 9, 10),\n",
       " (2, 5, 7, 8, 9, 11),\n",
       " (2, 5, 7, 8, 10, 11),\n",
       " (2, 5, 7, 9, 10, 11),\n",
       " (2, 5, 8, 9, 10, 11),\n",
       " (2, 6, 7, 8, 9, 10),\n",
       " (2, 6, 7, 8, 9, 11),\n",
       " (2, 6, 7, 8, 10, 11),\n",
       " (2, 6, 7, 9, 10, 11),\n",
       " (2, 6, 8, 9, 10, 11),\n",
       " (2, 7, 8, 9, 10, 11),\n",
       " (3, 4, 5, 6, 7, 8),\n",
       " (3, 4, 5, 6, 7, 9),\n",
       " (3, 4, 5, 6, 7, 10),\n",
       " (3, 4, 5, 6, 7, 11),\n",
       " (3, 4, 5, 6, 8, 9),\n",
       " (3, 4, 5, 6, 8, 10),\n",
       " (3, 4, 5, 6, 8, 11),\n",
       " (3, 4, 5, 6, 9, 10),\n",
       " (3, 4, 5, 6, 9, 11),\n",
       " (3, 4, 5, 6, 10, 11),\n",
       " (3, 4, 5, 7, 8, 9),\n",
       " (3, 4, 5, 7, 8, 10),\n",
       " (3, 4, 5, 7, 8, 11),\n",
       " (3, 4, 5, 7, 9, 10),\n",
       " (3, 4, 5, 7, 9, 11),\n",
       " (3, 4, 5, 7, 10, 11),\n",
       " (3, 4, 5, 8, 9, 10),\n",
       " (3, 4, 5, 8, 9, 11),\n",
       " (3, 4, 5, 8, 10, 11),\n",
       " (3, 4, 5, 9, 10, 11),\n",
       " (3, 4, 6, 7, 8, 9),\n",
       " (3, 4, 6, 7, 8, 10),\n",
       " (3, 4, 6, 7, 8, 11),\n",
       " (3, 4, 6, 7, 9, 10),\n",
       " (3, 4, 6, 7, 9, 11),\n",
       " (3, 4, 6, 7, 10, 11),\n",
       " (3, 4, 6, 8, 9, 10),\n",
       " (3, 4, 6, 8, 9, 11),\n",
       " (3, 4, 6, 8, 10, 11),\n",
       " (3, 4, 6, 9, 10, 11),\n",
       " (3, 4, 7, 8, 9, 10),\n",
       " (3, 4, 7, 8, 9, 11),\n",
       " (3, 4, 7, 8, 10, 11),\n",
       " (3, 4, 7, 9, 10, 11),\n",
       " (3, 4, 8, 9, 10, 11),\n",
       " (3, 5, 6, 7, 8, 9),\n",
       " (3, 5, 6, 7, 8, 10),\n",
       " (3, 5, 6, 7, 8, 11),\n",
       " (3, 5, 6, 7, 9, 10),\n",
       " (3, 5, 6, 7, 9, 11),\n",
       " (3, 5, 6, 7, 10, 11),\n",
       " (3, 5, 6, 8, 9, 10),\n",
       " (3, 5, 6, 8, 9, 11),\n",
       " (3, 5, 6, 8, 10, 11),\n",
       " (3, 5, 6, 9, 10, 11),\n",
       " (3, 5, 7, 8, 9, 10),\n",
       " (3, 5, 7, 8, 9, 11),\n",
       " (3, 5, 7, 8, 10, 11),\n",
       " (3, 5, 7, 9, 10, 11),\n",
       " (3, 5, 8, 9, 10, 11),\n",
       " (3, 6, 7, 8, 9, 10),\n",
       " (3, 6, 7, 8, 9, 11),\n",
       " (3, 6, 7, 8, 10, 11),\n",
       " (3, 6, 7, 9, 10, 11),\n",
       " (3, 6, 8, 9, 10, 11),\n",
       " (3, 7, 8, 9, 10, 11),\n",
       " (4, 5, 6, 7, 8, 9),\n",
       " (4, 5, 6, 7, 8, 10),\n",
       " (4, 5, 6, 7, 8, 11),\n",
       " (4, 5, 6, 7, 9, 10),\n",
       " (4, 5, 6, 7, 9, 11),\n",
       " (4, 5, 6, 7, 10, 11),\n",
       " (4, 5, 6, 8, 9, 10),\n",
       " (4, 5, 6, 8, 9, 11),\n",
       " (4, 5, 6, 8, 10, 11),\n",
       " (4, 5, 6, 9, 10, 11),\n",
       " (4, 5, 7, 8, 9, 10),\n",
       " (4, 5, 7, 8, 9, 11),\n",
       " (4, 5, 7, 8, 10, 11),\n",
       " (4, 5, 7, 9, 10, 11),\n",
       " (4, 5, 8, 9, 10, 11),\n",
       " (4, 6, 7, 8, 9, 10),\n",
       " (4, 6, 7, 8, 9, 11),\n",
       " (4, 6, 7, 8, 10, 11),\n",
       " (4, 6, 7, 9, 10, 11),\n",
       " (4, 6, 8, 9, 10, 11),\n",
       " (4, 7, 8, 9, 10, 11),\n",
       " (5, 6, 7, 8, 9, 10),\n",
       " (5, 6, 7, 8, 9, 11),\n",
       " (5, 6, 7, 8, 10, 11),\n",
       " (5, 6, 7, 9, 10, 11),\n",
       " (5, 6, 8, 9, 10, 11),\n",
       " (5, 7, 8, 9, 10, 11),\n",
       " (6, 7, 8, 9, 10, 11)]"
      ]
     },
     "execution_count": 18,
     "metadata": {},
     "output_type": "execute_result"
    }
   ],
   "source": [
    "# Show the different ways of selecting no_cups_milk_first out of no_cups cups of tea.\n",
    "combs = list(itertools.combinations(labels, no_cups_milk_first))\n",
    "\n",
    "# Show.\n",
    "combs"
   ]
  },
  {
   "cell_type": "code",
   "execution_count": 19,
   "id": "b1a1e4d8",
   "metadata": {},
   "outputs": [
    {
     "data": {
      "text/plain": [
       "924"
      ]
     },
     "execution_count": 19,
     "metadata": {},
     "output_type": "execute_result"
    }
   ],
   "source": [
    "# Number of combinations.\n",
    "len(combs)"
   ]
  },
  {
   "cell_type": "code",
   "execution_count": 20,
   "id": "bc6ed61e",
   "metadata": {},
   "outputs": [
    {
     "data": {
      "text/plain": [
       "[1, 2, 4, 6, 10, 11]"
      ]
     },
     "execution_count": 20,
     "metadata": {},
     "output_type": "execute_result"
    }
   ],
   "source": [
    "# Select six cups at random to put milk in first.\n",
    "# https://docs.python.org/3/library/random.html#random.sample\n",
    "labels_milk = random.sample(labels, 6)\n",
    "\n",
    "# Sort, inplace.\n",
    "labels_milk.sort()\n",
    "\n",
    "# Show.\n",
    "labels_milk"
   ]
  },
  {
   "cell_type": "code",
   "execution_count": 21,
   "id": "8e3c2c7d",
   "metadata": {},
   "outputs": [
    {
     "data": {
      "text/plain": [
       "{1, 2, 4, 6, 10, 11}"
      ]
     },
     "execution_count": 21,
     "metadata": {},
     "output_type": "execute_result"
    }
   ],
   "source": [
    "# Turn labels_milk into a set.\n",
    "# Uses: https://docs.python.org/3/tutorial/datastructures.html#sets\n",
    "set(labels_milk)"
   ]
  },
  {
   "cell_type": "code",
   "execution_count": 22,
   "id": "c9a376d3",
   "metadata": {},
   "outputs": [
    {
     "name": "stdout",
     "output_type": "stream",
     "text": [
      "(0, 1, 2, 3, 4, 5) {1, 2, 4} 3\n",
      "(0, 1, 2, 3, 4, 6) {1, 2, 4, 6} 4\n",
      "(0, 1, 2, 3, 4, 7) {1, 2, 4} 3\n",
      "(0, 1, 2, 3, 4, 8) {1, 2, 4} 3\n",
      "(0, 1, 2, 3, 4, 9) {1, 2, 4} 3\n",
      "(0, 1, 2, 3, 4, 10) {1, 2, 10, 4} 4\n",
      "(0, 1, 2, 3, 4, 11) {1, 2, 11, 4} 4\n",
      "(0, 1, 2, 3, 5, 6) {1, 2, 6} 3\n",
      "(0, 1, 2, 3, 5, 7) {1, 2} 2\n",
      "(0, 1, 2, 3, 5, 8) {1, 2} 2\n",
      "(0, 1, 2, 3, 5, 9) {1, 2} 2\n",
      "(0, 1, 2, 3, 5, 10) {1, 2, 10} 3\n",
      "(0, 1, 2, 3, 5, 11) {1, 2, 11} 3\n",
      "(0, 1, 2, 3, 6, 7) {1, 2, 6} 3\n",
      "(0, 1, 2, 3, 6, 8) {1, 2, 6} 3\n",
      "(0, 1, 2, 3, 6, 9) {1, 2, 6} 3\n",
      "(0, 1, 2, 3, 6, 10) {1, 2, 10, 6} 4\n",
      "(0, 1, 2, 3, 6, 11) {1, 2, 11, 6} 4\n",
      "(0, 1, 2, 3, 7, 8) {1, 2} 2\n",
      "(0, 1, 2, 3, 7, 9) {1, 2} 2\n",
      "(0, 1, 2, 3, 7, 10) {1, 2, 10} 3\n",
      "(0, 1, 2, 3, 7, 11) {1, 2, 11} 3\n",
      "(0, 1, 2, 3, 8, 9) {1, 2} 2\n",
      "(0, 1, 2, 3, 8, 10) {1, 2, 10} 3\n",
      "(0, 1, 2, 3, 8, 11) {1, 2, 11} 3\n",
      "(0, 1, 2, 3, 9, 10) {1, 2, 10} 3\n",
      "(0, 1, 2, 3, 9, 11) {1, 2, 11} 3\n",
      "(0, 1, 2, 3, 10, 11) {11, 1, 2, 10} 4\n",
      "(0, 1, 2, 4, 5, 6) {1, 2, 4, 6} 4\n",
      "(0, 1, 2, 4, 5, 7) {1, 2, 4} 3\n",
      "(0, 1, 2, 4, 5, 8) {1, 2, 4} 3\n",
      "(0, 1, 2, 4, 5, 9) {1, 2, 4} 3\n",
      "(0, 1, 2, 4, 5, 10) {1, 2, 10, 4} 4\n",
      "(0, 1, 2, 4, 5, 11) {1, 2, 11, 4} 4\n",
      "(0, 1, 2, 4, 6, 7) {1, 2, 4, 6} 4\n",
      "(0, 1, 2, 4, 6, 8) {1, 2, 4, 6} 4\n",
      "(0, 1, 2, 4, 6, 9) {1, 2, 4, 6} 4\n",
      "(0, 1, 2, 4, 6, 10) {1, 2, 4, 6, 10} 5\n",
      "(0, 1, 2, 4, 6, 11) {1, 2, 4, 6, 11} 5\n",
      "(0, 1, 2, 4, 7, 8) {1, 2, 4} 3\n",
      "(0, 1, 2, 4, 7, 9) {1, 2, 4} 3\n",
      "(0, 1, 2, 4, 7, 10) {1, 2, 10, 4} 4\n",
      "(0, 1, 2, 4, 7, 11) {1, 2, 11, 4} 4\n",
      "(0, 1, 2, 4, 8, 9) {1, 2, 4} 3\n",
      "(0, 1, 2, 4, 8, 10) {1, 2, 10, 4} 4\n",
      "(0, 1, 2, 4, 8, 11) {1, 2, 11, 4} 4\n",
      "(0, 1, 2, 4, 9, 10) {1, 2, 10, 4} 4\n",
      "(0, 1, 2, 4, 9, 11) {1, 2, 11, 4} 4\n",
      "(0, 1, 2, 4, 10, 11) {1, 2, 4, 10, 11} 5\n",
      "(0, 1, 2, 5, 6, 7) {1, 2, 6} 3\n",
      "(0, 1, 2, 5, 6, 8) {1, 2, 6} 3\n",
      "(0, 1, 2, 5, 6, 9) {1, 2, 6} 3\n",
      "(0, 1, 2, 5, 6, 10) {1, 2, 10, 6} 4\n",
      "(0, 1, 2, 5, 6, 11) {1, 2, 11, 6} 4\n",
      "(0, 1, 2, 5, 7, 8) {1, 2} 2\n",
      "(0, 1, 2, 5, 7, 9) {1, 2} 2\n",
      "(0, 1, 2, 5, 7, 10) {1, 2, 10} 3\n",
      "(0, 1, 2, 5, 7, 11) {1, 2, 11} 3\n",
      "(0, 1, 2, 5, 8, 9) {1, 2} 2\n",
      "(0, 1, 2, 5, 8, 10) {1, 2, 10} 3\n",
      "(0, 1, 2, 5, 8, 11) {1, 2, 11} 3\n",
      "(0, 1, 2, 5, 9, 10) {1, 2, 10} 3\n",
      "(0, 1, 2, 5, 9, 11) {1, 2, 11} 3\n",
      "(0, 1, 2, 5, 10, 11) {11, 1, 2, 10} 4\n",
      "(0, 1, 2, 6, 7, 8) {1, 2, 6} 3\n",
      "(0, 1, 2, 6, 7, 9) {1, 2, 6} 3\n",
      "(0, 1, 2, 6, 7, 10) {1, 2, 10, 6} 4\n",
      "(0, 1, 2, 6, 7, 11) {1, 2, 11, 6} 4\n",
      "(0, 1, 2, 6, 8, 9) {1, 2, 6} 3\n",
      "(0, 1, 2, 6, 8, 10) {1, 2, 10, 6} 4\n",
      "(0, 1, 2, 6, 8, 11) {1, 2, 11, 6} 4\n",
      "(0, 1, 2, 6, 9, 10) {1, 2, 10, 6} 4\n",
      "(0, 1, 2, 6, 9, 11) {1, 2, 11, 6} 4\n",
      "(0, 1, 2, 6, 10, 11) {1, 2, 6, 10, 11} 5\n",
      "(0, 1, 2, 7, 8, 9) {1, 2} 2\n",
      "(0, 1, 2, 7, 8, 10) {1, 2, 10} 3\n",
      "(0, 1, 2, 7, 8, 11) {1, 2, 11} 3\n",
      "(0, 1, 2, 7, 9, 10) {1, 2, 10} 3\n",
      "(0, 1, 2, 7, 9, 11) {1, 2, 11} 3\n",
      "(0, 1, 2, 7, 10, 11) {11, 1, 2, 10} 4\n",
      "(0, 1, 2, 8, 9, 10) {1, 2, 10} 3\n",
      "(0, 1, 2, 8, 9, 11) {1, 2, 11} 3\n",
      "(0, 1, 2, 8, 10, 11) {11, 1, 2, 10} 4\n",
      "(0, 1, 2, 9, 10, 11) {11, 1, 2, 10} 4\n",
      "(0, 1, 3, 4, 5, 6) {1, 4, 6} 3\n",
      "(0, 1, 3, 4, 5, 7) {1, 4} 2\n",
      "(0, 1, 3, 4, 5, 8) {1, 4} 2\n",
      "(0, 1, 3, 4, 5, 9) {1, 4} 2\n",
      "(0, 1, 3, 4, 5, 10) {1, 10, 4} 3\n",
      "(0, 1, 3, 4, 5, 11) {1, 11, 4} 3\n",
      "(0, 1, 3, 4, 6, 7) {1, 4, 6} 3\n",
      "(0, 1, 3, 4, 6, 8) {1, 4, 6} 3\n",
      "(0, 1, 3, 4, 6, 9) {1, 4, 6} 3\n",
      "(0, 1, 3, 4, 6, 10) {1, 10, 4, 6} 4\n",
      "(0, 1, 3, 4, 6, 11) {1, 11, 4, 6} 4\n",
      "(0, 1, 3, 4, 7, 8) {1, 4} 2\n",
      "(0, 1, 3, 4, 7, 9) {1, 4} 2\n",
      "(0, 1, 3, 4, 7, 10) {1, 10, 4} 3\n",
      "(0, 1, 3, 4, 7, 11) {1, 11, 4} 3\n",
      "(0, 1, 3, 4, 8, 9) {1, 4} 2\n",
      "(0, 1, 3, 4, 8, 10) {1, 10, 4} 3\n",
      "(0, 1, 3, 4, 8, 11) {1, 11, 4} 3\n",
      "(0, 1, 3, 4, 9, 10) {1, 10, 4} 3\n",
      "(0, 1, 3, 4, 9, 11) {1, 11, 4} 3\n",
      "(0, 1, 3, 4, 10, 11) {1, 10, 11, 4} 4\n",
      "(0, 1, 3, 5, 6, 7) {1, 6} 2\n",
      "(0, 1, 3, 5, 6, 8) {1, 6} 2\n",
      "(0, 1, 3, 5, 6, 9) {1, 6} 2\n",
      "(0, 1, 3, 5, 6, 10) {1, 10, 6} 3\n",
      "(0, 1, 3, 5, 6, 11) {1, 11, 6} 3\n",
      "(0, 1, 3, 5, 7, 8) {1} 1\n",
      "(0, 1, 3, 5, 7, 9) {1} 1\n",
      "(0, 1, 3, 5, 7, 10) {1, 10} 2\n",
      "(0, 1, 3, 5, 7, 11) {1, 11} 2\n",
      "(0, 1, 3, 5, 8, 9) {1} 1\n",
      "(0, 1, 3, 5, 8, 10) {1, 10} 2\n",
      "(0, 1, 3, 5, 8, 11) {1, 11} 2\n",
      "(0, 1, 3, 5, 9, 10) {1, 10} 2\n",
      "(0, 1, 3, 5, 9, 11) {1, 11} 2\n",
      "(0, 1, 3, 5, 10, 11) {1, 10, 11} 3\n",
      "(0, 1, 3, 6, 7, 8) {1, 6} 2\n",
      "(0, 1, 3, 6, 7, 9) {1, 6} 2\n",
      "(0, 1, 3, 6, 7, 10) {1, 10, 6} 3\n",
      "(0, 1, 3, 6, 7, 11) {1, 11, 6} 3\n",
      "(0, 1, 3, 6, 8, 9) {1, 6} 2\n",
      "(0, 1, 3, 6, 8, 10) {1, 10, 6} 3\n",
      "(0, 1, 3, 6, 8, 11) {1, 11, 6} 3\n",
      "(0, 1, 3, 6, 9, 10) {1, 10, 6} 3\n",
      "(0, 1, 3, 6, 9, 11) {1, 11, 6} 3\n",
      "(0, 1, 3, 6, 10, 11) {1, 10, 11, 6} 4\n",
      "(0, 1, 3, 7, 8, 9) {1} 1\n",
      "(0, 1, 3, 7, 8, 10) {1, 10} 2\n",
      "(0, 1, 3, 7, 8, 11) {1, 11} 2\n",
      "(0, 1, 3, 7, 9, 10) {1, 10} 2\n",
      "(0, 1, 3, 7, 9, 11) {1, 11} 2\n",
      "(0, 1, 3, 7, 10, 11) {1, 10, 11} 3\n",
      "(0, 1, 3, 8, 9, 10) {1, 10} 2\n",
      "(0, 1, 3, 8, 9, 11) {1, 11} 2\n",
      "(0, 1, 3, 8, 10, 11) {1, 10, 11} 3\n",
      "(0, 1, 3, 9, 10, 11) {1, 10, 11} 3\n",
      "(0, 1, 4, 5, 6, 7) {1, 4, 6} 3\n",
      "(0, 1, 4, 5, 6, 8) {1, 4, 6} 3\n",
      "(0, 1, 4, 5, 6, 9) {1, 4, 6} 3\n",
      "(0, 1, 4, 5, 6, 10) {1, 10, 4, 6} 4\n",
      "(0, 1, 4, 5, 6, 11) {1, 11, 4, 6} 4\n",
      "(0, 1, 4, 5, 7, 8) {1, 4} 2\n",
      "(0, 1, 4, 5, 7, 9) {1, 4} 2\n",
      "(0, 1, 4, 5, 7, 10) {1, 10, 4} 3\n",
      "(0, 1, 4, 5, 7, 11) {1, 11, 4} 3\n",
      "(0, 1, 4, 5, 8, 9) {1, 4} 2\n",
      "(0, 1, 4, 5, 8, 10) {1, 10, 4} 3\n",
      "(0, 1, 4, 5, 8, 11) {1, 11, 4} 3\n",
      "(0, 1, 4, 5, 9, 10) {1, 10, 4} 3\n",
      "(0, 1, 4, 5, 9, 11) {1, 11, 4} 3\n",
      "(0, 1, 4, 5, 10, 11) {1, 10, 11, 4} 4\n",
      "(0, 1, 4, 6, 7, 8) {1, 4, 6} 3\n",
      "(0, 1, 4, 6, 7, 9) {1, 4, 6} 3\n",
      "(0, 1, 4, 6, 7, 10) {1, 10, 4, 6} 4\n",
      "(0, 1, 4, 6, 7, 11) {1, 11, 4, 6} 4\n",
      "(0, 1, 4, 6, 8, 9) {1, 4, 6} 3\n",
      "(0, 1, 4, 6, 8, 10) {1, 10, 4, 6} 4\n",
      "(0, 1, 4, 6, 8, 11) {1, 11, 4, 6} 4\n",
      "(0, 1, 4, 6, 9, 10) {1, 10, 4, 6} 4\n",
      "(0, 1, 4, 6, 9, 11) {1, 11, 4, 6} 4\n",
      "(0, 1, 4, 6, 10, 11) {1, 4, 6, 10, 11} 5\n",
      "(0, 1, 4, 7, 8, 9) {1, 4} 2\n",
      "(0, 1, 4, 7, 8, 10) {1, 10, 4} 3\n",
      "(0, 1, 4, 7, 8, 11) {1, 11, 4} 3\n",
      "(0, 1, 4, 7, 9, 10) {1, 10, 4} 3\n",
      "(0, 1, 4, 7, 9, 11) {1, 11, 4} 3\n",
      "(0, 1, 4, 7, 10, 11) {1, 10, 11, 4} 4\n",
      "(0, 1, 4, 8, 9, 10) {1, 10, 4} 3\n",
      "(0, 1, 4, 8, 9, 11) {1, 11, 4} 3\n",
      "(0, 1, 4, 8, 10, 11) {1, 10, 11, 4} 4\n",
      "(0, 1, 4, 9, 10, 11) {1, 10, 11, 4} 4\n",
      "(0, 1, 5, 6, 7, 8) {1, 6} 2\n",
      "(0, 1, 5, 6, 7, 9) {1, 6} 2\n",
      "(0, 1, 5, 6, 7, 10) {1, 10, 6} 3\n",
      "(0, 1, 5, 6, 7, 11) {1, 11, 6} 3\n",
      "(0, 1, 5, 6, 8, 9) {1, 6} 2\n",
      "(0, 1, 5, 6, 8, 10) {1, 10, 6} 3\n",
      "(0, 1, 5, 6, 8, 11) {1, 11, 6} 3\n",
      "(0, 1, 5, 6, 9, 10) {1, 10, 6} 3\n",
      "(0, 1, 5, 6, 9, 11) {1, 11, 6} 3\n",
      "(0, 1, 5, 6, 10, 11) {1, 10, 11, 6} 4\n",
      "(0, 1, 5, 7, 8, 9) {1} 1\n",
      "(0, 1, 5, 7, 8, 10) {1, 10} 2\n",
      "(0, 1, 5, 7, 8, 11) {1, 11} 2\n",
      "(0, 1, 5, 7, 9, 10) {1, 10} 2\n",
      "(0, 1, 5, 7, 9, 11) {1, 11} 2\n",
      "(0, 1, 5, 7, 10, 11) {1, 10, 11} 3\n",
      "(0, 1, 5, 8, 9, 10) {1, 10} 2\n",
      "(0, 1, 5, 8, 9, 11) {1, 11} 2\n",
      "(0, 1, 5, 8, 10, 11) {1, 10, 11} 3\n",
      "(0, 1, 5, 9, 10, 11) {1, 10, 11} 3\n",
      "(0, 1, 6, 7, 8, 9) {1, 6} 2\n",
      "(0, 1, 6, 7, 8, 10) {1, 10, 6} 3\n",
      "(0, 1, 6, 7, 8, 11) {1, 11, 6} 3\n",
      "(0, 1, 6, 7, 9, 10) {1, 10, 6} 3\n",
      "(0, 1, 6, 7, 9, 11) {1, 11, 6} 3\n",
      "(0, 1, 6, 7, 10, 11) {1, 10, 11, 6} 4\n",
      "(0, 1, 6, 8, 9, 10) {1, 10, 6} 3\n",
      "(0, 1, 6, 8, 9, 11) {1, 11, 6} 3\n",
      "(0, 1, 6, 8, 10, 11) {1, 10, 11, 6} 4\n",
      "(0, 1, 6, 9, 10, 11) {1, 10, 11, 6} 4\n",
      "(0, 1, 7, 8, 9, 10) {1, 10} 2\n",
      "(0, 1, 7, 8, 9, 11) {1, 11} 2\n",
      "(0, 1, 7, 8, 10, 11) {1, 10, 11} 3\n",
      "(0, 1, 7, 9, 10, 11) {1, 10, 11} 3\n",
      "(0, 1, 8, 9, 10, 11) {1, 10, 11} 3\n",
      "(0, 2, 3, 4, 5, 6) {2, 4, 6} 3\n",
      "(0, 2, 3, 4, 5, 7) {2, 4} 2\n",
      "(0, 2, 3, 4, 5, 8) {2, 4} 2\n",
      "(0, 2, 3, 4, 5, 9) {2, 4} 2\n",
      "(0, 2, 3, 4, 5, 10) {2, 10, 4} 3\n",
      "(0, 2, 3, 4, 5, 11) {2, 11, 4} 3\n",
      "(0, 2, 3, 4, 6, 7) {2, 4, 6} 3\n",
      "(0, 2, 3, 4, 6, 8) {2, 4, 6} 3\n",
      "(0, 2, 3, 4, 6, 9) {2, 4, 6} 3\n",
      "(0, 2, 3, 4, 6, 10) {2, 10, 4, 6} 4\n",
      "(0, 2, 3, 4, 6, 11) {2, 11, 4, 6} 4\n",
      "(0, 2, 3, 4, 7, 8) {2, 4} 2\n",
      "(0, 2, 3, 4, 7, 9) {2, 4} 2\n",
      "(0, 2, 3, 4, 7, 10) {2, 10, 4} 3\n",
      "(0, 2, 3, 4, 7, 11) {2, 11, 4} 3\n",
      "(0, 2, 3, 4, 8, 9) {2, 4} 2\n",
      "(0, 2, 3, 4, 8, 10) {2, 10, 4} 3\n",
      "(0, 2, 3, 4, 8, 11) {2, 11, 4} 3\n",
      "(0, 2, 3, 4, 9, 10) {2, 10, 4} 3\n",
      "(0, 2, 3, 4, 9, 11) {2, 11, 4} 3\n",
      "(0, 2, 3, 4, 10, 11) {11, 2, 10, 4} 4\n",
      "(0, 2, 3, 5, 6, 7) {2, 6} 2\n",
      "(0, 2, 3, 5, 6, 8) {2, 6} 2\n",
      "(0, 2, 3, 5, 6, 9) {2, 6} 2\n",
      "(0, 2, 3, 5, 6, 10) {2, 10, 6} 3\n",
      "(0, 2, 3, 5, 6, 11) {2, 11, 6} 3\n",
      "(0, 2, 3, 5, 7, 8) {2} 1\n",
      "(0, 2, 3, 5, 7, 9) {2} 1\n",
      "(0, 2, 3, 5, 7, 10) {2, 10} 2\n",
      "(0, 2, 3, 5, 7, 11) {2, 11} 2\n",
      "(0, 2, 3, 5, 8, 9) {2} 1\n",
      "(0, 2, 3, 5, 8, 10) {2, 10} 2\n",
      "(0, 2, 3, 5, 8, 11) {2, 11} 2\n",
      "(0, 2, 3, 5, 9, 10) {2, 10} 2\n",
      "(0, 2, 3, 5, 9, 11) {2, 11} 2\n",
      "(0, 2, 3, 5, 10, 11) {11, 2, 10} 3\n",
      "(0, 2, 3, 6, 7, 8) {2, 6} 2\n",
      "(0, 2, 3, 6, 7, 9) {2, 6} 2\n",
      "(0, 2, 3, 6, 7, 10) {2, 10, 6} 3\n",
      "(0, 2, 3, 6, 7, 11) {2, 11, 6} 3\n",
      "(0, 2, 3, 6, 8, 9) {2, 6} 2\n",
      "(0, 2, 3, 6, 8, 10) {2, 10, 6} 3\n",
      "(0, 2, 3, 6, 8, 11) {2, 11, 6} 3\n",
      "(0, 2, 3, 6, 9, 10) {2, 10, 6} 3\n",
      "(0, 2, 3, 6, 9, 11) {2, 11, 6} 3\n",
      "(0, 2, 3, 6, 10, 11) {11, 2, 10, 6} 4\n",
      "(0, 2, 3, 7, 8, 9) {2} 1\n",
      "(0, 2, 3, 7, 8, 10) {2, 10} 2\n",
      "(0, 2, 3, 7, 8, 11) {2, 11} 2\n",
      "(0, 2, 3, 7, 9, 10) {2, 10} 2\n",
      "(0, 2, 3, 7, 9, 11) {2, 11} 2\n",
      "(0, 2, 3, 7, 10, 11) {11, 2, 10} 3\n",
      "(0, 2, 3, 8, 9, 10) {2, 10} 2\n",
      "(0, 2, 3, 8, 9, 11) {2, 11} 2\n",
      "(0, 2, 3, 8, 10, 11) {11, 2, 10} 3\n",
      "(0, 2, 3, 9, 10, 11) {11, 2, 10} 3\n",
      "(0, 2, 4, 5, 6, 7) {2, 4, 6} 3\n",
      "(0, 2, 4, 5, 6, 8) {2, 4, 6} 3\n",
      "(0, 2, 4, 5, 6, 9) {2, 4, 6} 3\n",
      "(0, 2, 4, 5, 6, 10) {2, 10, 4, 6} 4\n",
      "(0, 2, 4, 5, 6, 11) {2, 11, 4, 6} 4\n",
      "(0, 2, 4, 5, 7, 8) {2, 4} 2\n",
      "(0, 2, 4, 5, 7, 9) {2, 4} 2\n",
      "(0, 2, 4, 5, 7, 10) {2, 10, 4} 3\n",
      "(0, 2, 4, 5, 7, 11) {2, 11, 4} 3\n",
      "(0, 2, 4, 5, 8, 9) {2, 4} 2\n",
      "(0, 2, 4, 5, 8, 10) {2, 10, 4} 3\n",
      "(0, 2, 4, 5, 8, 11) {2, 11, 4} 3\n",
      "(0, 2, 4, 5, 9, 10) {2, 10, 4} 3\n",
      "(0, 2, 4, 5, 9, 11) {2, 11, 4} 3\n",
      "(0, 2, 4, 5, 10, 11) {11, 2, 10, 4} 4\n",
      "(0, 2, 4, 6, 7, 8) {2, 4, 6} 3\n",
      "(0, 2, 4, 6, 7, 9) {2, 4, 6} 3\n",
      "(0, 2, 4, 6, 7, 10) {2, 10, 4, 6} 4\n",
      "(0, 2, 4, 6, 7, 11) {2, 11, 4, 6} 4\n",
      "(0, 2, 4, 6, 8, 9) {2, 4, 6} 3\n",
      "(0, 2, 4, 6, 8, 10) {2, 10, 4, 6} 4\n",
      "(0, 2, 4, 6, 8, 11) {2, 11, 4, 6} 4\n",
      "(0, 2, 4, 6, 9, 10) {2, 10, 4, 6} 4\n",
      "(0, 2, 4, 6, 9, 11) {2, 11, 4, 6} 4\n",
      "(0, 2, 4, 6, 10, 11) {2, 4, 6, 10, 11} 5\n",
      "(0, 2, 4, 7, 8, 9) {2, 4} 2\n",
      "(0, 2, 4, 7, 8, 10) {2, 10, 4} 3\n",
      "(0, 2, 4, 7, 8, 11) {2, 11, 4} 3\n",
      "(0, 2, 4, 7, 9, 10) {2, 10, 4} 3\n",
      "(0, 2, 4, 7, 9, 11) {2, 11, 4} 3\n",
      "(0, 2, 4, 7, 10, 11) {11, 2, 10, 4} 4\n",
      "(0, 2, 4, 8, 9, 10) {2, 10, 4} 3\n",
      "(0, 2, 4, 8, 9, 11) {2, 11, 4} 3\n",
      "(0, 2, 4, 8, 10, 11) {11, 2, 10, 4} 4\n",
      "(0, 2, 4, 9, 10, 11) {11, 2, 10, 4} 4\n",
      "(0, 2, 5, 6, 7, 8) {2, 6} 2\n",
      "(0, 2, 5, 6, 7, 9) {2, 6} 2\n",
      "(0, 2, 5, 6, 7, 10) {2, 10, 6} 3\n",
      "(0, 2, 5, 6, 7, 11) {2, 11, 6} 3\n",
      "(0, 2, 5, 6, 8, 9) {2, 6} 2\n",
      "(0, 2, 5, 6, 8, 10) {2, 10, 6} 3\n",
      "(0, 2, 5, 6, 8, 11) {2, 11, 6} 3\n",
      "(0, 2, 5, 6, 9, 10) {2, 10, 6} 3\n",
      "(0, 2, 5, 6, 9, 11) {2, 11, 6} 3\n",
      "(0, 2, 5, 6, 10, 11) {11, 2, 10, 6} 4\n",
      "(0, 2, 5, 7, 8, 9) {2} 1\n",
      "(0, 2, 5, 7, 8, 10) {2, 10} 2\n",
      "(0, 2, 5, 7, 8, 11) {2, 11} 2\n",
      "(0, 2, 5, 7, 9, 10) {2, 10} 2\n",
      "(0, 2, 5, 7, 9, 11) {2, 11} 2\n",
      "(0, 2, 5, 7, 10, 11) {11, 2, 10} 3\n",
      "(0, 2, 5, 8, 9, 10) {2, 10} 2\n",
      "(0, 2, 5, 8, 9, 11) {2, 11} 2\n",
      "(0, 2, 5, 8, 10, 11) {11, 2, 10} 3\n",
      "(0, 2, 5, 9, 10, 11) {11, 2, 10} 3\n",
      "(0, 2, 6, 7, 8, 9) {2, 6} 2\n",
      "(0, 2, 6, 7, 8, 10) {2, 10, 6} 3\n",
      "(0, 2, 6, 7, 8, 11) {2, 11, 6} 3\n",
      "(0, 2, 6, 7, 9, 10) {2, 10, 6} 3\n",
      "(0, 2, 6, 7, 9, 11) {2, 11, 6} 3\n",
      "(0, 2, 6, 7, 10, 11) {11, 2, 10, 6} 4\n",
      "(0, 2, 6, 8, 9, 10) {2, 10, 6} 3\n",
      "(0, 2, 6, 8, 9, 11) {2, 11, 6} 3\n",
      "(0, 2, 6, 8, 10, 11) {11, 2, 10, 6} 4\n",
      "(0, 2, 6, 9, 10, 11) {11, 2, 10, 6} 4\n",
      "(0, 2, 7, 8, 9, 10) {2, 10} 2\n",
      "(0, 2, 7, 8, 9, 11) {2, 11} 2\n",
      "(0, 2, 7, 8, 10, 11) {11, 2, 10} 3\n",
      "(0, 2, 7, 9, 10, 11) {11, 2, 10} 3\n",
      "(0, 2, 8, 9, 10, 11) {11, 2, 10} 3\n",
      "(0, 3, 4, 5, 6, 7) {4, 6} 2\n",
      "(0, 3, 4, 5, 6, 8) {4, 6} 2\n",
      "(0, 3, 4, 5, 6, 9) {4, 6} 2\n",
      "(0, 3, 4, 5, 6, 10) {10, 4, 6} 3\n",
      "(0, 3, 4, 5, 6, 11) {11, 4, 6} 3\n",
      "(0, 3, 4, 5, 7, 8) {4} 1\n",
      "(0, 3, 4, 5, 7, 9) {4} 1\n",
      "(0, 3, 4, 5, 7, 10) {10, 4} 2\n",
      "(0, 3, 4, 5, 7, 11) {11, 4} 2\n",
      "(0, 3, 4, 5, 8, 9) {4} 1\n",
      "(0, 3, 4, 5, 8, 10) {10, 4} 2\n",
      "(0, 3, 4, 5, 8, 11) {11, 4} 2\n",
      "(0, 3, 4, 5, 9, 10) {10, 4} 2\n",
      "(0, 3, 4, 5, 9, 11) {11, 4} 2\n",
      "(0, 3, 4, 5, 10, 11) {10, 11, 4} 3\n",
      "(0, 3, 4, 6, 7, 8) {4, 6} 2\n",
      "(0, 3, 4, 6, 7, 9) {4, 6} 2\n",
      "(0, 3, 4, 6, 7, 10) {10, 4, 6} 3\n",
      "(0, 3, 4, 6, 7, 11) {11, 4, 6} 3\n",
      "(0, 3, 4, 6, 8, 9) {4, 6} 2\n",
      "(0, 3, 4, 6, 8, 10) {10, 4, 6} 3\n",
      "(0, 3, 4, 6, 8, 11) {11, 4, 6} 3\n",
      "(0, 3, 4, 6, 9, 10) {10, 4, 6} 3\n",
      "(0, 3, 4, 6, 9, 11) {11, 4, 6} 3\n",
      "(0, 3, 4, 6, 10, 11) {10, 11, 4, 6} 4\n",
      "(0, 3, 4, 7, 8, 9) {4} 1\n",
      "(0, 3, 4, 7, 8, 10) {10, 4} 2\n",
      "(0, 3, 4, 7, 8, 11) {11, 4} 2\n",
      "(0, 3, 4, 7, 9, 10) {10, 4} 2\n",
      "(0, 3, 4, 7, 9, 11) {11, 4} 2\n",
      "(0, 3, 4, 7, 10, 11) {10, 11, 4} 3\n",
      "(0, 3, 4, 8, 9, 10) {10, 4} 2\n",
      "(0, 3, 4, 8, 9, 11) {11, 4} 2\n",
      "(0, 3, 4, 8, 10, 11) {10, 11, 4} 3\n",
      "(0, 3, 4, 9, 10, 11) {10, 11, 4} 3\n",
      "(0, 3, 5, 6, 7, 8) {6} 1\n",
      "(0, 3, 5, 6, 7, 9) {6} 1\n",
      "(0, 3, 5, 6, 7, 10) {10, 6} 2\n",
      "(0, 3, 5, 6, 7, 11) {11, 6} 2\n",
      "(0, 3, 5, 6, 8, 9) {6} 1\n",
      "(0, 3, 5, 6, 8, 10) {10, 6} 2\n",
      "(0, 3, 5, 6, 8, 11) {11, 6} 2\n",
      "(0, 3, 5, 6, 9, 10) {10, 6} 2\n",
      "(0, 3, 5, 6, 9, 11) {11, 6} 2\n",
      "(0, 3, 5, 6, 10, 11) {10, 11, 6} 3\n",
      "(0, 3, 5, 7, 8, 9) set() 0\n",
      "(0, 3, 5, 7, 8, 10) {10} 1\n",
      "(0, 3, 5, 7, 8, 11) {11} 1\n",
      "(0, 3, 5, 7, 9, 10) {10} 1\n",
      "(0, 3, 5, 7, 9, 11) {11} 1\n",
      "(0, 3, 5, 7, 10, 11) {10, 11} 2\n",
      "(0, 3, 5, 8, 9, 10) {10} 1\n",
      "(0, 3, 5, 8, 9, 11) {11} 1\n",
      "(0, 3, 5, 8, 10, 11) {10, 11} 2\n",
      "(0, 3, 5, 9, 10, 11) {10, 11} 2\n",
      "(0, 3, 6, 7, 8, 9) {6} 1\n",
      "(0, 3, 6, 7, 8, 10) {10, 6} 2\n",
      "(0, 3, 6, 7, 8, 11) {11, 6} 2\n",
      "(0, 3, 6, 7, 9, 10) {10, 6} 2\n",
      "(0, 3, 6, 7, 9, 11) {11, 6} 2\n",
      "(0, 3, 6, 7, 10, 11) {10, 11, 6} 3\n",
      "(0, 3, 6, 8, 9, 10) {10, 6} 2\n",
      "(0, 3, 6, 8, 9, 11) {11, 6} 2\n",
      "(0, 3, 6, 8, 10, 11) {10, 11, 6} 3\n",
      "(0, 3, 6, 9, 10, 11) {10, 11, 6} 3\n",
      "(0, 3, 7, 8, 9, 10) {10} 1\n",
      "(0, 3, 7, 8, 9, 11) {11} 1\n",
      "(0, 3, 7, 8, 10, 11) {10, 11} 2\n",
      "(0, 3, 7, 9, 10, 11) {10, 11} 2\n",
      "(0, 3, 8, 9, 10, 11) {10, 11} 2\n",
      "(0, 4, 5, 6, 7, 8) {4, 6} 2\n",
      "(0, 4, 5, 6, 7, 9) {4, 6} 2\n",
      "(0, 4, 5, 6, 7, 10) {10, 4, 6} 3\n",
      "(0, 4, 5, 6, 7, 11) {11, 4, 6} 3\n",
      "(0, 4, 5, 6, 8, 9) {4, 6} 2\n",
      "(0, 4, 5, 6, 8, 10) {10, 4, 6} 3\n",
      "(0, 4, 5, 6, 8, 11) {11, 4, 6} 3\n",
      "(0, 4, 5, 6, 9, 10) {10, 4, 6} 3\n",
      "(0, 4, 5, 6, 9, 11) {11, 4, 6} 3\n",
      "(0, 4, 5, 6, 10, 11) {10, 11, 4, 6} 4\n",
      "(0, 4, 5, 7, 8, 9) {4} 1\n",
      "(0, 4, 5, 7, 8, 10) {10, 4} 2\n",
      "(0, 4, 5, 7, 8, 11) {11, 4} 2\n",
      "(0, 4, 5, 7, 9, 10) {10, 4} 2\n",
      "(0, 4, 5, 7, 9, 11) {11, 4} 2\n",
      "(0, 4, 5, 7, 10, 11) {10, 11, 4} 3\n",
      "(0, 4, 5, 8, 9, 10) {10, 4} 2\n",
      "(0, 4, 5, 8, 9, 11) {11, 4} 2\n",
      "(0, 4, 5, 8, 10, 11) {10, 11, 4} 3\n",
      "(0, 4, 5, 9, 10, 11) {10, 11, 4} 3\n",
      "(0, 4, 6, 7, 8, 9) {4, 6} 2\n",
      "(0, 4, 6, 7, 8, 10) {10, 4, 6} 3\n",
      "(0, 4, 6, 7, 8, 11) {11, 4, 6} 3\n",
      "(0, 4, 6, 7, 9, 10) {10, 4, 6} 3\n",
      "(0, 4, 6, 7, 9, 11) {11, 4, 6} 3\n",
      "(0, 4, 6, 7, 10, 11) {10, 11, 4, 6} 4\n",
      "(0, 4, 6, 8, 9, 10) {10, 4, 6} 3\n",
      "(0, 4, 6, 8, 9, 11) {11, 4, 6} 3\n",
      "(0, 4, 6, 8, 10, 11) {10, 11, 4, 6} 4\n",
      "(0, 4, 6, 9, 10, 11) {10, 11, 4, 6} 4\n",
      "(0, 4, 7, 8, 9, 10) {10, 4} 2\n",
      "(0, 4, 7, 8, 9, 11) {11, 4} 2\n",
      "(0, 4, 7, 8, 10, 11) {10, 11, 4} 3\n"
     ]
    },
    {
     "name": "stdout",
     "output_type": "stream",
     "text": [
      "(0, 4, 7, 9, 10, 11) {10, 11, 4} 3\n",
      "(0, 4, 8, 9, 10, 11) {10, 11, 4} 3\n",
      "(0, 5, 6, 7, 8, 9) {6} 1\n",
      "(0, 5, 6, 7, 8, 10) {10, 6} 2\n",
      "(0, 5, 6, 7, 8, 11) {11, 6} 2\n",
      "(0, 5, 6, 7, 9, 10) {10, 6} 2\n",
      "(0, 5, 6, 7, 9, 11) {11, 6} 2\n",
      "(0, 5, 6, 7, 10, 11) {10, 11, 6} 3\n",
      "(0, 5, 6, 8, 9, 10) {10, 6} 2\n",
      "(0, 5, 6, 8, 9, 11) {11, 6} 2\n",
      "(0, 5, 6, 8, 10, 11) {10, 11, 6} 3\n",
      "(0, 5, 6, 9, 10, 11) {10, 11, 6} 3\n",
      "(0, 5, 7, 8, 9, 10) {10} 1\n",
      "(0, 5, 7, 8, 9, 11) {11} 1\n",
      "(0, 5, 7, 8, 10, 11) {10, 11} 2\n",
      "(0, 5, 7, 9, 10, 11) {10, 11} 2\n",
      "(0, 5, 8, 9, 10, 11) {10, 11} 2\n",
      "(0, 6, 7, 8, 9, 10) {10, 6} 2\n",
      "(0, 6, 7, 8, 9, 11) {11, 6} 2\n",
      "(0, 6, 7, 8, 10, 11) {10, 11, 6} 3\n",
      "(0, 6, 7, 9, 10, 11) {10, 11, 6} 3\n",
      "(0, 6, 8, 9, 10, 11) {10, 11, 6} 3\n",
      "(0, 7, 8, 9, 10, 11) {10, 11} 2\n",
      "(1, 2, 3, 4, 5, 6) {1, 2, 4, 6} 4\n",
      "(1, 2, 3, 4, 5, 7) {1, 2, 4} 3\n",
      "(1, 2, 3, 4, 5, 8) {1, 2, 4} 3\n",
      "(1, 2, 3, 4, 5, 9) {1, 2, 4} 3\n",
      "(1, 2, 3, 4, 5, 10) {1, 2, 10, 4} 4\n",
      "(1, 2, 3, 4, 5, 11) {1, 2, 11, 4} 4\n",
      "(1, 2, 3, 4, 6, 7) {1, 2, 4, 6} 4\n",
      "(1, 2, 3, 4, 6, 8) {1, 2, 4, 6} 4\n",
      "(1, 2, 3, 4, 6, 9) {1, 2, 4, 6} 4\n",
      "(1, 2, 3, 4, 6, 10) {1, 2, 4, 6, 10} 5\n",
      "(1, 2, 3, 4, 6, 11) {1, 2, 4, 6, 11} 5\n",
      "(1, 2, 3, 4, 7, 8) {1, 2, 4} 3\n",
      "(1, 2, 3, 4, 7, 9) {1, 2, 4} 3\n",
      "(1, 2, 3, 4, 7, 10) {1, 2, 10, 4} 4\n",
      "(1, 2, 3, 4, 7, 11) {1, 2, 11, 4} 4\n",
      "(1, 2, 3, 4, 8, 9) {1, 2, 4} 3\n",
      "(1, 2, 3, 4, 8, 10) {1, 2, 10, 4} 4\n",
      "(1, 2, 3, 4, 8, 11) {1, 2, 11, 4} 4\n",
      "(1, 2, 3, 4, 9, 10) {1, 2, 10, 4} 4\n",
      "(1, 2, 3, 4, 9, 11) {1, 2, 11, 4} 4\n",
      "(1, 2, 3, 4, 10, 11) {1, 2, 4, 10, 11} 5\n",
      "(1, 2, 3, 5, 6, 7) {1, 2, 6} 3\n",
      "(1, 2, 3, 5, 6, 8) {1, 2, 6} 3\n",
      "(1, 2, 3, 5, 6, 9) {1, 2, 6} 3\n",
      "(1, 2, 3, 5, 6, 10) {1, 2, 10, 6} 4\n",
      "(1, 2, 3, 5, 6, 11) {1, 2, 11, 6} 4\n",
      "(1, 2, 3, 5, 7, 8) {1, 2} 2\n",
      "(1, 2, 3, 5, 7, 9) {1, 2} 2\n",
      "(1, 2, 3, 5, 7, 10) {1, 2, 10} 3\n",
      "(1, 2, 3, 5, 7, 11) {1, 2, 11} 3\n",
      "(1, 2, 3, 5, 8, 9) {1, 2} 2\n",
      "(1, 2, 3, 5, 8, 10) {1, 2, 10} 3\n",
      "(1, 2, 3, 5, 8, 11) {1, 2, 11} 3\n",
      "(1, 2, 3, 5, 9, 10) {1, 2, 10} 3\n",
      "(1, 2, 3, 5, 9, 11) {1, 2, 11} 3\n",
      "(1, 2, 3, 5, 10, 11) {11, 1, 2, 10} 4\n",
      "(1, 2, 3, 6, 7, 8) {1, 2, 6} 3\n",
      "(1, 2, 3, 6, 7, 9) {1, 2, 6} 3\n",
      "(1, 2, 3, 6, 7, 10) {1, 2, 10, 6} 4\n",
      "(1, 2, 3, 6, 7, 11) {1, 2, 11, 6} 4\n",
      "(1, 2, 3, 6, 8, 9) {1, 2, 6} 3\n",
      "(1, 2, 3, 6, 8, 10) {1, 2, 10, 6} 4\n",
      "(1, 2, 3, 6, 8, 11) {1, 2, 11, 6} 4\n",
      "(1, 2, 3, 6, 9, 10) {1, 2, 10, 6} 4\n",
      "(1, 2, 3, 6, 9, 11) {1, 2, 11, 6} 4\n",
      "(1, 2, 3, 6, 10, 11) {1, 2, 6, 10, 11} 5\n",
      "(1, 2, 3, 7, 8, 9) {1, 2} 2\n",
      "(1, 2, 3, 7, 8, 10) {1, 2, 10} 3\n",
      "(1, 2, 3, 7, 8, 11) {1, 2, 11} 3\n",
      "(1, 2, 3, 7, 9, 10) {1, 2, 10} 3\n",
      "(1, 2, 3, 7, 9, 11) {1, 2, 11} 3\n",
      "(1, 2, 3, 7, 10, 11) {11, 1, 2, 10} 4\n",
      "(1, 2, 3, 8, 9, 10) {1, 2, 10} 3\n",
      "(1, 2, 3, 8, 9, 11) {1, 2, 11} 3\n",
      "(1, 2, 3, 8, 10, 11) {11, 1, 2, 10} 4\n",
      "(1, 2, 3, 9, 10, 11) {11, 1, 2, 10} 4\n",
      "(1, 2, 4, 5, 6, 7) {1, 2, 4, 6} 4\n",
      "(1, 2, 4, 5, 6, 8) {1, 2, 4, 6} 4\n",
      "(1, 2, 4, 5, 6, 9) {1, 2, 4, 6} 4\n",
      "(1, 2, 4, 5, 6, 10) {1, 2, 4, 6, 10} 5\n",
      "(1, 2, 4, 5, 6, 11) {1, 2, 4, 6, 11} 5\n",
      "(1, 2, 4, 5, 7, 8) {1, 2, 4} 3\n",
      "(1, 2, 4, 5, 7, 9) {1, 2, 4} 3\n",
      "(1, 2, 4, 5, 7, 10) {1, 2, 10, 4} 4\n",
      "(1, 2, 4, 5, 7, 11) {1, 2, 11, 4} 4\n",
      "(1, 2, 4, 5, 8, 9) {1, 2, 4} 3\n",
      "(1, 2, 4, 5, 8, 10) {1, 2, 10, 4} 4\n",
      "(1, 2, 4, 5, 8, 11) {1, 2, 11, 4} 4\n",
      "(1, 2, 4, 5, 9, 10) {1, 2, 10, 4} 4\n",
      "(1, 2, 4, 5, 9, 11) {1, 2, 11, 4} 4\n",
      "(1, 2, 4, 5, 10, 11) {1, 2, 4, 10, 11} 5\n",
      "(1, 2, 4, 6, 7, 8) {1, 2, 4, 6} 4\n",
      "(1, 2, 4, 6, 7, 9) {1, 2, 4, 6} 4\n",
      "(1, 2, 4, 6, 7, 10) {1, 2, 4, 6, 10} 5\n",
      "(1, 2, 4, 6, 7, 11) {1, 2, 4, 6, 11} 5\n",
      "(1, 2, 4, 6, 8, 9) {1, 2, 4, 6} 4\n",
      "(1, 2, 4, 6, 8, 10) {1, 2, 4, 6, 10} 5\n",
      "(1, 2, 4, 6, 8, 11) {1, 2, 4, 6, 11} 5\n",
      "(1, 2, 4, 6, 9, 10) {1, 2, 4, 6, 10} 5\n",
      "(1, 2, 4, 6, 9, 11) {1, 2, 4, 6, 11} 5\n",
      "(1, 2, 4, 6, 10, 11) {1, 2, 4, 6, 10, 11} 6\n",
      "(1, 2, 4, 7, 8, 9) {1, 2, 4} 3\n",
      "(1, 2, 4, 7, 8, 10) {1, 2, 10, 4} 4\n",
      "(1, 2, 4, 7, 8, 11) {1, 2, 11, 4} 4\n",
      "(1, 2, 4, 7, 9, 10) {1, 2, 10, 4} 4\n",
      "(1, 2, 4, 7, 9, 11) {1, 2, 11, 4} 4\n",
      "(1, 2, 4, 7, 10, 11) {1, 2, 4, 10, 11} 5\n",
      "(1, 2, 4, 8, 9, 10) {1, 2, 10, 4} 4\n",
      "(1, 2, 4, 8, 9, 11) {1, 2, 11, 4} 4\n",
      "(1, 2, 4, 8, 10, 11) {1, 2, 4, 10, 11} 5\n",
      "(1, 2, 4, 9, 10, 11) {1, 2, 4, 10, 11} 5\n",
      "(1, 2, 5, 6, 7, 8) {1, 2, 6} 3\n",
      "(1, 2, 5, 6, 7, 9) {1, 2, 6} 3\n",
      "(1, 2, 5, 6, 7, 10) {1, 2, 10, 6} 4\n",
      "(1, 2, 5, 6, 7, 11) {1, 2, 11, 6} 4\n",
      "(1, 2, 5, 6, 8, 9) {1, 2, 6} 3\n",
      "(1, 2, 5, 6, 8, 10) {1, 2, 10, 6} 4\n",
      "(1, 2, 5, 6, 8, 11) {1, 2, 11, 6} 4\n",
      "(1, 2, 5, 6, 9, 10) {1, 2, 10, 6} 4\n",
      "(1, 2, 5, 6, 9, 11) {1, 2, 11, 6} 4\n",
      "(1, 2, 5, 6, 10, 11) {1, 2, 6, 10, 11} 5\n",
      "(1, 2, 5, 7, 8, 9) {1, 2} 2\n",
      "(1, 2, 5, 7, 8, 10) {1, 2, 10} 3\n",
      "(1, 2, 5, 7, 8, 11) {1, 2, 11} 3\n",
      "(1, 2, 5, 7, 9, 10) {1, 2, 10} 3\n",
      "(1, 2, 5, 7, 9, 11) {1, 2, 11} 3\n",
      "(1, 2, 5, 7, 10, 11) {11, 1, 2, 10} 4\n",
      "(1, 2, 5, 8, 9, 10) {1, 2, 10} 3\n",
      "(1, 2, 5, 8, 9, 11) {1, 2, 11} 3\n",
      "(1, 2, 5, 8, 10, 11) {11, 1, 2, 10} 4\n",
      "(1, 2, 5, 9, 10, 11) {11, 1, 2, 10} 4\n",
      "(1, 2, 6, 7, 8, 9) {1, 2, 6} 3\n",
      "(1, 2, 6, 7, 8, 10) {1, 2, 10, 6} 4\n",
      "(1, 2, 6, 7, 8, 11) {1, 2, 11, 6} 4\n",
      "(1, 2, 6, 7, 9, 10) {1, 2, 10, 6} 4\n",
      "(1, 2, 6, 7, 9, 11) {1, 2, 11, 6} 4\n",
      "(1, 2, 6, 7, 10, 11) {1, 2, 6, 10, 11} 5\n",
      "(1, 2, 6, 8, 9, 10) {1, 2, 10, 6} 4\n",
      "(1, 2, 6, 8, 9, 11) {1, 2, 11, 6} 4\n",
      "(1, 2, 6, 8, 10, 11) {1, 2, 6, 10, 11} 5\n",
      "(1, 2, 6, 9, 10, 11) {1, 2, 6, 10, 11} 5\n",
      "(1, 2, 7, 8, 9, 10) {1, 2, 10} 3\n",
      "(1, 2, 7, 8, 9, 11) {1, 2, 11} 3\n",
      "(1, 2, 7, 8, 10, 11) {11, 1, 2, 10} 4\n",
      "(1, 2, 7, 9, 10, 11) {11, 1, 2, 10} 4\n",
      "(1, 2, 8, 9, 10, 11) {11, 1, 2, 10} 4\n",
      "(1, 3, 4, 5, 6, 7) {1, 4, 6} 3\n",
      "(1, 3, 4, 5, 6, 8) {1, 4, 6} 3\n",
      "(1, 3, 4, 5, 6, 9) {1, 4, 6} 3\n",
      "(1, 3, 4, 5, 6, 10) {1, 10, 4, 6} 4\n",
      "(1, 3, 4, 5, 6, 11) {1, 11, 4, 6} 4\n",
      "(1, 3, 4, 5, 7, 8) {1, 4} 2\n",
      "(1, 3, 4, 5, 7, 9) {1, 4} 2\n",
      "(1, 3, 4, 5, 7, 10) {1, 10, 4} 3\n",
      "(1, 3, 4, 5, 7, 11) {1, 11, 4} 3\n",
      "(1, 3, 4, 5, 8, 9) {1, 4} 2\n",
      "(1, 3, 4, 5, 8, 10) {1, 10, 4} 3\n",
      "(1, 3, 4, 5, 8, 11) {1, 11, 4} 3\n",
      "(1, 3, 4, 5, 9, 10) {1, 10, 4} 3\n",
      "(1, 3, 4, 5, 9, 11) {1, 11, 4} 3\n",
      "(1, 3, 4, 5, 10, 11) {1, 10, 11, 4} 4\n",
      "(1, 3, 4, 6, 7, 8) {1, 4, 6} 3\n",
      "(1, 3, 4, 6, 7, 9) {1, 4, 6} 3\n",
      "(1, 3, 4, 6, 7, 10) {1, 10, 4, 6} 4\n",
      "(1, 3, 4, 6, 7, 11) {1, 11, 4, 6} 4\n",
      "(1, 3, 4, 6, 8, 9) {1, 4, 6} 3\n",
      "(1, 3, 4, 6, 8, 10) {1, 10, 4, 6} 4\n",
      "(1, 3, 4, 6, 8, 11) {1, 11, 4, 6} 4\n",
      "(1, 3, 4, 6, 9, 10) {1, 10, 4, 6} 4\n",
      "(1, 3, 4, 6, 9, 11) {1, 11, 4, 6} 4\n",
      "(1, 3, 4, 6, 10, 11) {1, 4, 6, 10, 11} 5\n",
      "(1, 3, 4, 7, 8, 9) {1, 4} 2\n",
      "(1, 3, 4, 7, 8, 10) {1, 10, 4} 3\n",
      "(1, 3, 4, 7, 8, 11) {1, 11, 4} 3\n",
      "(1, 3, 4, 7, 9, 10) {1, 10, 4} 3\n",
      "(1, 3, 4, 7, 9, 11) {1, 11, 4} 3\n",
      "(1, 3, 4, 7, 10, 11) {1, 10, 11, 4} 4\n",
      "(1, 3, 4, 8, 9, 10) {1, 10, 4} 3\n",
      "(1, 3, 4, 8, 9, 11) {1, 11, 4} 3\n",
      "(1, 3, 4, 8, 10, 11) {1, 10, 11, 4} 4\n",
      "(1, 3, 4, 9, 10, 11) {1, 10, 11, 4} 4\n",
      "(1, 3, 5, 6, 7, 8) {1, 6} 2\n",
      "(1, 3, 5, 6, 7, 9) {1, 6} 2\n",
      "(1, 3, 5, 6, 7, 10) {1, 10, 6} 3\n",
      "(1, 3, 5, 6, 7, 11) {1, 11, 6} 3\n",
      "(1, 3, 5, 6, 8, 9) {1, 6} 2\n",
      "(1, 3, 5, 6, 8, 10) {1, 10, 6} 3\n",
      "(1, 3, 5, 6, 8, 11) {1, 11, 6} 3\n",
      "(1, 3, 5, 6, 9, 10) {1, 10, 6} 3\n",
      "(1, 3, 5, 6, 9, 11) {1, 11, 6} 3\n",
      "(1, 3, 5, 6, 10, 11) {1, 10, 11, 6} 4\n",
      "(1, 3, 5, 7, 8, 9) {1} 1\n",
      "(1, 3, 5, 7, 8, 10) {1, 10} 2\n",
      "(1, 3, 5, 7, 8, 11) {1, 11} 2\n",
      "(1, 3, 5, 7, 9, 10) {1, 10} 2\n",
      "(1, 3, 5, 7, 9, 11) {1, 11} 2\n",
      "(1, 3, 5, 7, 10, 11) {1, 10, 11} 3\n",
      "(1, 3, 5, 8, 9, 10) {1, 10} 2\n",
      "(1, 3, 5, 8, 9, 11) {1, 11} 2\n",
      "(1, 3, 5, 8, 10, 11) {1, 10, 11} 3\n",
      "(1, 3, 5, 9, 10, 11) {1, 10, 11} 3\n",
      "(1, 3, 6, 7, 8, 9) {1, 6} 2\n",
      "(1, 3, 6, 7, 8, 10) {1, 10, 6} 3\n",
      "(1, 3, 6, 7, 8, 11) {1, 11, 6} 3\n",
      "(1, 3, 6, 7, 9, 10) {1, 10, 6} 3\n",
      "(1, 3, 6, 7, 9, 11) {1, 11, 6} 3\n",
      "(1, 3, 6, 7, 10, 11) {1, 10, 11, 6} 4\n",
      "(1, 3, 6, 8, 9, 10) {1, 10, 6} 3\n",
      "(1, 3, 6, 8, 9, 11) {1, 11, 6} 3\n",
      "(1, 3, 6, 8, 10, 11) {1, 10, 11, 6} 4\n",
      "(1, 3, 6, 9, 10, 11) {1, 10, 11, 6} 4\n",
      "(1, 3, 7, 8, 9, 10) {1, 10} 2\n",
      "(1, 3, 7, 8, 9, 11) {1, 11} 2\n",
      "(1, 3, 7, 8, 10, 11) {1, 10, 11} 3\n",
      "(1, 3, 7, 9, 10, 11) {1, 10, 11} 3\n",
      "(1, 3, 8, 9, 10, 11) {1, 10, 11} 3\n",
      "(1, 4, 5, 6, 7, 8) {1, 4, 6} 3\n",
      "(1, 4, 5, 6, 7, 9) {1, 4, 6} 3\n",
      "(1, 4, 5, 6, 7, 10) {1, 10, 4, 6} 4\n",
      "(1, 4, 5, 6, 7, 11) {1, 11, 4, 6} 4\n",
      "(1, 4, 5, 6, 8, 9) {1, 4, 6} 3\n",
      "(1, 4, 5, 6, 8, 10) {1, 10, 4, 6} 4\n",
      "(1, 4, 5, 6, 8, 11) {1, 11, 4, 6} 4\n",
      "(1, 4, 5, 6, 9, 10) {1, 10, 4, 6} 4\n",
      "(1, 4, 5, 6, 9, 11) {1, 11, 4, 6} 4\n",
      "(1, 4, 5, 6, 10, 11) {1, 4, 6, 10, 11} 5\n",
      "(1, 4, 5, 7, 8, 9) {1, 4} 2\n",
      "(1, 4, 5, 7, 8, 10) {1, 10, 4} 3\n",
      "(1, 4, 5, 7, 8, 11) {1, 11, 4} 3\n",
      "(1, 4, 5, 7, 9, 10) {1, 10, 4} 3\n",
      "(1, 4, 5, 7, 9, 11) {1, 11, 4} 3\n",
      "(1, 4, 5, 7, 10, 11) {1, 10, 11, 4} 4\n",
      "(1, 4, 5, 8, 9, 10) {1, 10, 4} 3\n",
      "(1, 4, 5, 8, 9, 11) {1, 11, 4} 3\n",
      "(1, 4, 5, 8, 10, 11) {1, 10, 11, 4} 4\n",
      "(1, 4, 5, 9, 10, 11) {1, 10, 11, 4} 4\n",
      "(1, 4, 6, 7, 8, 9) {1, 4, 6} 3\n",
      "(1, 4, 6, 7, 8, 10) {1, 10, 4, 6} 4\n",
      "(1, 4, 6, 7, 8, 11) {1, 11, 4, 6} 4\n",
      "(1, 4, 6, 7, 9, 10) {1, 10, 4, 6} 4\n",
      "(1, 4, 6, 7, 9, 11) {1, 11, 4, 6} 4\n",
      "(1, 4, 6, 7, 10, 11) {1, 4, 6, 10, 11} 5\n",
      "(1, 4, 6, 8, 9, 10) {1, 10, 4, 6} 4\n",
      "(1, 4, 6, 8, 9, 11) {1, 11, 4, 6} 4\n",
      "(1, 4, 6, 8, 10, 11) {1, 4, 6, 10, 11} 5\n",
      "(1, 4, 6, 9, 10, 11) {1, 4, 6, 10, 11} 5\n",
      "(1, 4, 7, 8, 9, 10) {1, 10, 4} 3\n",
      "(1, 4, 7, 8, 9, 11) {1, 11, 4} 3\n",
      "(1, 4, 7, 8, 10, 11) {1, 10, 11, 4} 4\n",
      "(1, 4, 7, 9, 10, 11) {1, 10, 11, 4} 4\n",
      "(1, 4, 8, 9, 10, 11) {1, 10, 11, 4} 4\n",
      "(1, 5, 6, 7, 8, 9) {1, 6} 2\n",
      "(1, 5, 6, 7, 8, 10) {1, 10, 6} 3\n",
      "(1, 5, 6, 7, 8, 11) {1, 11, 6} 3\n",
      "(1, 5, 6, 7, 9, 10) {1, 10, 6} 3\n",
      "(1, 5, 6, 7, 9, 11) {1, 11, 6} 3\n",
      "(1, 5, 6, 7, 10, 11) {1, 10, 11, 6} 4\n",
      "(1, 5, 6, 8, 9, 10) {1, 10, 6} 3\n",
      "(1, 5, 6, 8, 9, 11) {1, 11, 6} 3\n",
      "(1, 5, 6, 8, 10, 11) {1, 10, 11, 6} 4\n",
      "(1, 5, 6, 9, 10, 11) {1, 10, 11, 6} 4\n",
      "(1, 5, 7, 8, 9, 10) {1, 10} 2\n",
      "(1, 5, 7, 8, 9, 11) {1, 11} 2\n",
      "(1, 5, 7, 8, 10, 11) {1, 10, 11} 3\n",
      "(1, 5, 7, 9, 10, 11) {1, 10, 11} 3\n",
      "(1, 5, 8, 9, 10, 11) {1, 10, 11} 3\n",
      "(1, 6, 7, 8, 9, 10) {1, 10, 6} 3\n",
      "(1, 6, 7, 8, 9, 11) {1, 11, 6} 3\n",
      "(1, 6, 7, 8, 10, 11) {1, 10, 11, 6} 4\n",
      "(1, 6, 7, 9, 10, 11) {1, 10, 11, 6} 4\n",
      "(1, 6, 8, 9, 10, 11) {1, 10, 11, 6} 4\n",
      "(1, 7, 8, 9, 10, 11) {1, 10, 11} 3\n",
      "(2, 3, 4, 5, 6, 7) {2, 4, 6} 3\n",
      "(2, 3, 4, 5, 6, 8) {2, 4, 6} 3\n",
      "(2, 3, 4, 5, 6, 9) {2, 4, 6} 3\n",
      "(2, 3, 4, 5, 6, 10) {2, 10, 4, 6} 4\n",
      "(2, 3, 4, 5, 6, 11) {2, 11, 4, 6} 4\n",
      "(2, 3, 4, 5, 7, 8) {2, 4} 2\n",
      "(2, 3, 4, 5, 7, 9) {2, 4} 2\n",
      "(2, 3, 4, 5, 7, 10) {2, 10, 4} 3\n",
      "(2, 3, 4, 5, 7, 11) {2, 11, 4} 3\n",
      "(2, 3, 4, 5, 8, 9) {2, 4} 2\n",
      "(2, 3, 4, 5, 8, 10) {2, 10, 4} 3\n",
      "(2, 3, 4, 5, 8, 11) {2, 11, 4} 3\n",
      "(2, 3, 4, 5, 9, 10) {2, 10, 4} 3\n",
      "(2, 3, 4, 5, 9, 11) {2, 11, 4} 3\n",
      "(2, 3, 4, 5, 10, 11) {11, 2, 10, 4} 4\n",
      "(2, 3, 4, 6, 7, 8) {2, 4, 6} 3\n",
      "(2, 3, 4, 6, 7, 9) {2, 4, 6} 3\n",
      "(2, 3, 4, 6, 7, 10) {2, 10, 4, 6} 4\n",
      "(2, 3, 4, 6, 7, 11) {2, 11, 4, 6} 4\n",
      "(2, 3, 4, 6, 8, 9) {2, 4, 6} 3\n",
      "(2, 3, 4, 6, 8, 10) {2, 10, 4, 6} 4\n",
      "(2, 3, 4, 6, 8, 11) {2, 11, 4, 6} 4\n",
      "(2, 3, 4, 6, 9, 10) {2, 10, 4, 6} 4\n",
      "(2, 3, 4, 6, 9, 11) {2, 11, 4, 6} 4\n",
      "(2, 3, 4, 6, 10, 11) {2, 4, 6, 10, 11} 5\n",
      "(2, 3, 4, 7, 8, 9) {2, 4} 2\n",
      "(2, 3, 4, 7, 8, 10) {2, 10, 4} 3\n",
      "(2, 3, 4, 7, 8, 11) {2, 11, 4} 3\n",
      "(2, 3, 4, 7, 9, 10) {2, 10, 4} 3\n",
      "(2, 3, 4, 7, 9, 11) {2, 11, 4} 3\n",
      "(2, 3, 4, 7, 10, 11) {11, 2, 10, 4} 4\n",
      "(2, 3, 4, 8, 9, 10) {2, 10, 4} 3\n",
      "(2, 3, 4, 8, 9, 11) {2, 11, 4} 3\n",
      "(2, 3, 4, 8, 10, 11) {11, 2, 10, 4} 4\n",
      "(2, 3, 4, 9, 10, 11) {11, 2, 10, 4} 4\n",
      "(2, 3, 5, 6, 7, 8) {2, 6} 2\n",
      "(2, 3, 5, 6, 7, 9) {2, 6} 2\n",
      "(2, 3, 5, 6, 7, 10) {2, 10, 6} 3\n",
      "(2, 3, 5, 6, 7, 11) {2, 11, 6} 3\n",
      "(2, 3, 5, 6, 8, 9) {2, 6} 2\n",
      "(2, 3, 5, 6, 8, 10) {2, 10, 6} 3\n",
      "(2, 3, 5, 6, 8, 11) {2, 11, 6} 3\n",
      "(2, 3, 5, 6, 9, 10) {2, 10, 6} 3\n",
      "(2, 3, 5, 6, 9, 11) {2, 11, 6} 3\n",
      "(2, 3, 5, 6, 10, 11) {11, 2, 10, 6} 4\n",
      "(2, 3, 5, 7, 8, 9) {2} 1\n",
      "(2, 3, 5, 7, 8, 10) {2, 10} 2\n",
      "(2, 3, 5, 7, 8, 11) {2, 11} 2\n",
      "(2, 3, 5, 7, 9, 10) {2, 10} 2\n",
      "(2, 3, 5, 7, 9, 11) {2, 11} 2\n",
      "(2, 3, 5, 7, 10, 11) {11, 2, 10} 3\n",
      "(2, 3, 5, 8, 9, 10) {2, 10} 2\n",
      "(2, 3, 5, 8, 9, 11) {2, 11} 2\n",
      "(2, 3, 5, 8, 10, 11) {11, 2, 10} 3\n",
      "(2, 3, 5, 9, 10, 11) {11, 2, 10} 3\n",
      "(2, 3, 6, 7, 8, 9) {2, 6} 2\n",
      "(2, 3, 6, 7, 8, 10) {2, 10, 6} 3\n",
      "(2, 3, 6, 7, 8, 11) {2, 11, 6} 3\n"
     ]
    },
    {
     "name": "stdout",
     "output_type": "stream",
     "text": [
      "(2, 3, 6, 7, 9, 10) {2, 10, 6} 3\n",
      "(2, 3, 6, 7, 9, 11) {2, 11, 6} 3\n",
      "(2, 3, 6, 7, 10, 11) {11, 2, 10, 6} 4\n",
      "(2, 3, 6, 8, 9, 10) {2, 10, 6} 3\n",
      "(2, 3, 6, 8, 9, 11) {2, 11, 6} 3\n",
      "(2, 3, 6, 8, 10, 11) {11, 2, 10, 6} 4\n",
      "(2, 3, 6, 9, 10, 11) {11, 2, 10, 6} 4\n",
      "(2, 3, 7, 8, 9, 10) {2, 10} 2\n",
      "(2, 3, 7, 8, 9, 11) {2, 11} 2\n",
      "(2, 3, 7, 8, 10, 11) {11, 2, 10} 3\n",
      "(2, 3, 7, 9, 10, 11) {11, 2, 10} 3\n",
      "(2, 3, 8, 9, 10, 11) {11, 2, 10} 3\n",
      "(2, 4, 5, 6, 7, 8) {2, 4, 6} 3\n",
      "(2, 4, 5, 6, 7, 9) {2, 4, 6} 3\n",
      "(2, 4, 5, 6, 7, 10) {2, 10, 4, 6} 4\n",
      "(2, 4, 5, 6, 7, 11) {2, 11, 4, 6} 4\n",
      "(2, 4, 5, 6, 8, 9) {2, 4, 6} 3\n",
      "(2, 4, 5, 6, 8, 10) {2, 10, 4, 6} 4\n",
      "(2, 4, 5, 6, 8, 11) {2, 11, 4, 6} 4\n",
      "(2, 4, 5, 6, 9, 10) {2, 10, 4, 6} 4\n",
      "(2, 4, 5, 6, 9, 11) {2, 11, 4, 6} 4\n",
      "(2, 4, 5, 6, 10, 11) {2, 4, 6, 10, 11} 5\n",
      "(2, 4, 5, 7, 8, 9) {2, 4} 2\n",
      "(2, 4, 5, 7, 8, 10) {2, 10, 4} 3\n",
      "(2, 4, 5, 7, 8, 11) {2, 11, 4} 3\n",
      "(2, 4, 5, 7, 9, 10) {2, 10, 4} 3\n",
      "(2, 4, 5, 7, 9, 11) {2, 11, 4} 3\n",
      "(2, 4, 5, 7, 10, 11) {11, 2, 10, 4} 4\n",
      "(2, 4, 5, 8, 9, 10) {2, 10, 4} 3\n",
      "(2, 4, 5, 8, 9, 11) {2, 11, 4} 3\n",
      "(2, 4, 5, 8, 10, 11) {11, 2, 10, 4} 4\n",
      "(2, 4, 5, 9, 10, 11) {11, 2, 10, 4} 4\n",
      "(2, 4, 6, 7, 8, 9) {2, 4, 6} 3\n",
      "(2, 4, 6, 7, 8, 10) {2, 10, 4, 6} 4\n",
      "(2, 4, 6, 7, 8, 11) {2, 11, 4, 6} 4\n",
      "(2, 4, 6, 7, 9, 10) {2, 10, 4, 6} 4\n",
      "(2, 4, 6, 7, 9, 11) {2, 11, 4, 6} 4\n",
      "(2, 4, 6, 7, 10, 11) {2, 4, 6, 10, 11} 5\n",
      "(2, 4, 6, 8, 9, 10) {2, 10, 4, 6} 4\n",
      "(2, 4, 6, 8, 9, 11) {2, 11, 4, 6} 4\n",
      "(2, 4, 6, 8, 10, 11) {2, 4, 6, 10, 11} 5\n",
      "(2, 4, 6, 9, 10, 11) {2, 4, 6, 10, 11} 5\n",
      "(2, 4, 7, 8, 9, 10) {2, 10, 4} 3\n",
      "(2, 4, 7, 8, 9, 11) {2, 11, 4} 3\n",
      "(2, 4, 7, 8, 10, 11) {11, 2, 10, 4} 4\n",
      "(2, 4, 7, 9, 10, 11) {11, 2, 10, 4} 4\n",
      "(2, 4, 8, 9, 10, 11) {11, 2, 10, 4} 4\n",
      "(2, 5, 6, 7, 8, 9) {2, 6} 2\n",
      "(2, 5, 6, 7, 8, 10) {2, 10, 6} 3\n",
      "(2, 5, 6, 7, 8, 11) {2, 11, 6} 3\n",
      "(2, 5, 6, 7, 9, 10) {2, 10, 6} 3\n",
      "(2, 5, 6, 7, 9, 11) {2, 11, 6} 3\n",
      "(2, 5, 6, 7, 10, 11) {11, 2, 10, 6} 4\n",
      "(2, 5, 6, 8, 9, 10) {2, 10, 6} 3\n",
      "(2, 5, 6, 8, 9, 11) {2, 11, 6} 3\n",
      "(2, 5, 6, 8, 10, 11) {11, 2, 10, 6} 4\n",
      "(2, 5, 6, 9, 10, 11) {11, 2, 10, 6} 4\n",
      "(2, 5, 7, 8, 9, 10) {2, 10} 2\n",
      "(2, 5, 7, 8, 9, 11) {2, 11} 2\n",
      "(2, 5, 7, 8, 10, 11) {11, 2, 10} 3\n",
      "(2, 5, 7, 9, 10, 11) {11, 2, 10} 3\n",
      "(2, 5, 8, 9, 10, 11) {11, 2, 10} 3\n",
      "(2, 6, 7, 8, 9, 10) {2, 10, 6} 3\n",
      "(2, 6, 7, 8, 9, 11) {2, 11, 6} 3\n",
      "(2, 6, 7, 8, 10, 11) {11, 2, 10, 6} 4\n",
      "(2, 6, 7, 9, 10, 11) {11, 2, 10, 6} 4\n",
      "(2, 6, 8, 9, 10, 11) {11, 2, 10, 6} 4\n",
      "(2, 7, 8, 9, 10, 11) {11, 2, 10} 3\n",
      "(3, 4, 5, 6, 7, 8) {4, 6} 2\n",
      "(3, 4, 5, 6, 7, 9) {4, 6} 2\n",
      "(3, 4, 5, 6, 7, 10) {10, 4, 6} 3\n",
      "(3, 4, 5, 6, 7, 11) {11, 4, 6} 3\n",
      "(3, 4, 5, 6, 8, 9) {4, 6} 2\n",
      "(3, 4, 5, 6, 8, 10) {10, 4, 6} 3\n",
      "(3, 4, 5, 6, 8, 11) {11, 4, 6} 3\n",
      "(3, 4, 5, 6, 9, 10) {10, 4, 6} 3\n",
      "(3, 4, 5, 6, 9, 11) {11, 4, 6} 3\n",
      "(3, 4, 5, 6, 10, 11) {10, 11, 4, 6} 4\n",
      "(3, 4, 5, 7, 8, 9) {4} 1\n",
      "(3, 4, 5, 7, 8, 10) {10, 4} 2\n",
      "(3, 4, 5, 7, 8, 11) {11, 4} 2\n",
      "(3, 4, 5, 7, 9, 10) {10, 4} 2\n",
      "(3, 4, 5, 7, 9, 11) {11, 4} 2\n",
      "(3, 4, 5, 7, 10, 11) {10, 11, 4} 3\n",
      "(3, 4, 5, 8, 9, 10) {10, 4} 2\n",
      "(3, 4, 5, 8, 9, 11) {11, 4} 2\n",
      "(3, 4, 5, 8, 10, 11) {10, 11, 4} 3\n",
      "(3, 4, 5, 9, 10, 11) {10, 11, 4} 3\n",
      "(3, 4, 6, 7, 8, 9) {4, 6} 2\n",
      "(3, 4, 6, 7, 8, 10) {10, 4, 6} 3\n",
      "(3, 4, 6, 7, 8, 11) {11, 4, 6} 3\n",
      "(3, 4, 6, 7, 9, 10) {10, 4, 6} 3\n",
      "(3, 4, 6, 7, 9, 11) {11, 4, 6} 3\n",
      "(3, 4, 6, 7, 10, 11) {10, 11, 4, 6} 4\n",
      "(3, 4, 6, 8, 9, 10) {10, 4, 6} 3\n",
      "(3, 4, 6, 8, 9, 11) {11, 4, 6} 3\n",
      "(3, 4, 6, 8, 10, 11) {10, 11, 4, 6} 4\n",
      "(3, 4, 6, 9, 10, 11) {10, 11, 4, 6} 4\n",
      "(3, 4, 7, 8, 9, 10) {10, 4} 2\n",
      "(3, 4, 7, 8, 9, 11) {11, 4} 2\n",
      "(3, 4, 7, 8, 10, 11) {10, 11, 4} 3\n",
      "(3, 4, 7, 9, 10, 11) {10, 11, 4} 3\n",
      "(3, 4, 8, 9, 10, 11) {10, 11, 4} 3\n",
      "(3, 5, 6, 7, 8, 9) {6} 1\n",
      "(3, 5, 6, 7, 8, 10) {10, 6} 2\n",
      "(3, 5, 6, 7, 8, 11) {11, 6} 2\n",
      "(3, 5, 6, 7, 9, 10) {10, 6} 2\n",
      "(3, 5, 6, 7, 9, 11) {11, 6} 2\n",
      "(3, 5, 6, 7, 10, 11) {10, 11, 6} 3\n",
      "(3, 5, 6, 8, 9, 10) {10, 6} 2\n",
      "(3, 5, 6, 8, 9, 11) {11, 6} 2\n",
      "(3, 5, 6, 8, 10, 11) {10, 11, 6} 3\n",
      "(3, 5, 6, 9, 10, 11) {10, 11, 6} 3\n",
      "(3, 5, 7, 8, 9, 10) {10} 1\n",
      "(3, 5, 7, 8, 9, 11) {11} 1\n",
      "(3, 5, 7, 8, 10, 11) {10, 11} 2\n",
      "(3, 5, 7, 9, 10, 11) {10, 11} 2\n",
      "(3, 5, 8, 9, 10, 11) {10, 11} 2\n",
      "(3, 6, 7, 8, 9, 10) {10, 6} 2\n",
      "(3, 6, 7, 8, 9, 11) {11, 6} 2\n",
      "(3, 6, 7, 8, 10, 11) {10, 11, 6} 3\n",
      "(3, 6, 7, 9, 10, 11) {10, 11, 6} 3\n",
      "(3, 6, 8, 9, 10, 11) {10, 11, 6} 3\n",
      "(3, 7, 8, 9, 10, 11) {10, 11} 2\n",
      "(4, 5, 6, 7, 8, 9) {4, 6} 2\n",
      "(4, 5, 6, 7, 8, 10) {10, 4, 6} 3\n",
      "(4, 5, 6, 7, 8, 11) {11, 4, 6} 3\n",
      "(4, 5, 6, 7, 9, 10) {10, 4, 6} 3\n",
      "(4, 5, 6, 7, 9, 11) {11, 4, 6} 3\n",
      "(4, 5, 6, 7, 10, 11) {10, 11, 4, 6} 4\n",
      "(4, 5, 6, 8, 9, 10) {10, 4, 6} 3\n",
      "(4, 5, 6, 8, 9, 11) {11, 4, 6} 3\n",
      "(4, 5, 6, 8, 10, 11) {10, 11, 4, 6} 4\n",
      "(4, 5, 6, 9, 10, 11) {10, 11, 4, 6} 4\n",
      "(4, 5, 7, 8, 9, 10) {10, 4} 2\n",
      "(4, 5, 7, 8, 9, 11) {11, 4} 2\n",
      "(4, 5, 7, 8, 10, 11) {10, 11, 4} 3\n",
      "(4, 5, 7, 9, 10, 11) {10, 11, 4} 3\n",
      "(4, 5, 8, 9, 10, 11) {10, 11, 4} 3\n",
      "(4, 6, 7, 8, 9, 10) {10, 4, 6} 3\n",
      "(4, 6, 7, 8, 9, 11) {11, 4, 6} 3\n",
      "(4, 6, 7, 8, 10, 11) {10, 11, 4, 6} 4\n",
      "(4, 6, 7, 9, 10, 11) {10, 11, 4, 6} 4\n",
      "(4, 6, 8, 9, 10, 11) {10, 11, 4, 6} 4\n",
      "(4, 7, 8, 9, 10, 11) {10, 11, 4} 3\n",
      "(5, 6, 7, 8, 9, 10) {10, 6} 2\n",
      "(5, 6, 7, 8, 9, 11) {11, 6} 2\n",
      "(5, 6, 7, 8, 10, 11) {10, 11, 6} 3\n",
      "(5, 6, 7, 9, 10, 11) {10, 11, 6} 3\n",
      "(5, 6, 8, 9, 10, 11) {10, 11, 6} 3\n",
      "(5, 7, 8, 9, 10, 11) {10, 11} 2\n",
      "(6, 7, 8, 9, 10, 11) {10, 11, 6} 3\n"
     ]
    }
   ],
   "source": [
    "# Calculate the overlap between each element of combs and labels_milk.\n",
    "\n",
    "no_overlaps = []\n",
    "\n",
    "for comb in combs:\n",
    "  # Turn comb into a set.\n",
    "  s1 = set(comb)\n",
    "  # Turn labels_milk into a set.\n",
    "  s2 = set(labels_milk)\n",
    "  # Figure out where they overlap.\n",
    "  overlap = s1.intersection(s2)\n",
    "  # Show the combination and the overlap.\n",
    "  print(comb, overlap, len(overlap))\n",
    "  # Append overlap to no_overlaps.\n",
    "  no_overlaps.append(len(overlap))"
   ]
  },
  {
   "cell_type": "code",
   "execution_count": 23,
   "id": "1c89df50",
   "metadata": {},
   "outputs": [
    {
     "name": "stdout",
     "output_type": "stream",
     "text": [
      "[3, 4, 3, 3, 3, 4, 4, 3, 2, 2, 2, 3, 3, 3, 3, 3, 4, 4, 2, 2, 3, 3, 2, 3, 3, 3, 3, 4, 4, 3, 3, 3, 4, 4, 4, 4, 4, 5, 5, 3, 3, 4, 4, 3, 4, 4, 4, 4, 5, 3, 3, 3, 4, 4, 2, 2, 3, 3, 2, 3, 3, 3, 3, 4, 3, 3, 4, 4, 3, 4, 4, 4, 4, 5, 2, 3, 3, 3, 3, 4, 3, 3, 4, 4, 3, 2, 2, 2, 3, 3, 3, 3, 3, 4, 4, 2, 2, 3, 3, 2, 3, 3, 3, 3, 4, 2, 2, 2, 3, 3, 1, 1, 2, 2, 1, 2, 2, 2, 2, 3, 2, 2, 3, 3, 2, 3, 3, 3, 3, 4, 1, 2, 2, 2, 2, 3, 2, 2, 3, 3, 3, 3, 3, 4, 4, 2, 2, 3, 3, 2, 3, 3, 3, 3, 4, 3, 3, 4, 4, 3, 4, 4, 4, 4, 5, 2, 3, 3, 3, 3, 4, 3, 3, 4, 4, 2, 2, 3, 3, 2, 3, 3, 3, 3, 4, 1, 2, 2, 2, 2, 3, 2, 2, 3, 3, 2, 3, 3, 3, 3, 4, 3, 3, 4, 4, 2, 2, 3, 3, 3, 3, 2, 2, 2, 3, 3, 3, 3, 3, 4, 4, 2, 2, 3, 3, 2, 3, 3, 3, 3, 4, 2, 2, 2, 3, 3, 1, 1, 2, 2, 1, 2, 2, 2, 2, 3, 2, 2, 3, 3, 2, 3, 3, 3, 3, 4, 1, 2, 2, 2, 2, 3, 2, 2, 3, 3, 3, 3, 3, 4, 4, 2, 2, 3, 3, 2, 3, 3, 3, 3, 4, 3, 3, 4, 4, 3, 4, 4, 4, 4, 5, 2, 3, 3, 3, 3, 4, 3, 3, 4, 4, 2, 2, 3, 3, 2, 3, 3, 3, 3, 4, 1, 2, 2, 2, 2, 3, 2, 2, 3, 3, 2, 3, 3, 3, 3, 4, 3, 3, 4, 4, 2, 2, 3, 3, 3, 2, 2, 2, 3, 3, 1, 1, 2, 2, 1, 2, 2, 2, 2, 3, 2, 2, 3, 3, 2, 3, 3, 3, 3, 4, 1, 2, 2, 2, 2, 3, 2, 2, 3, 3, 1, 1, 2, 2, 1, 2, 2, 2, 2, 3, 0, 1, 1, 1, 1, 2, 1, 1, 2, 2, 1, 2, 2, 2, 2, 3, 2, 2, 3, 3, 1, 1, 2, 2, 2, 2, 2, 3, 3, 2, 3, 3, 3, 3, 4, 1, 2, 2, 2, 2, 3, 2, 2, 3, 3, 2, 3, 3, 3, 3, 4, 3, 3, 4, 4, 2, 2, 3, 3, 3, 1, 2, 2, 2, 2, 3, 2, 2, 3, 3, 1, 1, 2, 2, 2, 2, 2, 3, 3, 3, 2, 4, 3, 3, 3, 4, 4, 4, 4, 4, 5, 5, 3, 3, 4, 4, 3, 4, 4, 4, 4, 5, 3, 3, 3, 4, 4, 2, 2, 3, 3, 2, 3, 3, 3, 3, 4, 3, 3, 4, 4, 3, 4, 4, 4, 4, 5, 2, 3, 3, 3, 3, 4, 3, 3, 4, 4, 4, 4, 4, 5, 5, 3, 3, 4, 4, 3, 4, 4, 4, 4, 5, 4, 4, 5, 5, 4, 5, 5, 5, 5, 6, 3, 4, 4, 4, 4, 5, 4, 4, 5, 5, 3, 3, 4, 4, 3, 4, 4, 4, 4, 5, 2, 3, 3, 3, 3, 4, 3, 3, 4, 4, 3, 4, 4, 4, 4, 5, 4, 4, 5, 5, 3, 3, 4, 4, 4, 3, 3, 3, 4, 4, 2, 2, 3, 3, 2, 3, 3, 3, 3, 4, 3, 3, 4, 4, 3, 4, 4, 4, 4, 5, 2, 3, 3, 3, 3, 4, 3, 3, 4, 4, 2, 2, 3, 3, 2, 3, 3, 3, 3, 4, 1, 2, 2, 2, 2, 3, 2, 2, 3, 3, 2, 3, 3, 3, 3, 4, 3, 3, 4, 4, 2, 2, 3, 3, 3, 3, 3, 4, 4, 3, 4, 4, 4, 4, 5, 2, 3, 3, 3, 3, 4, 3, 3, 4, 4, 3, 4, 4, 4, 4, 5, 4, 4, 5, 5, 3, 3, 4, 4, 4, 2, 3, 3, 3, 3, 4, 3, 3, 4, 4, 2, 2, 3, 3, 3, 3, 3, 4, 4, 4, 3, 3, 3, 3, 4, 4, 2, 2, 3, 3, 2, 3, 3, 3, 3, 4, 3, 3, 4, 4, 3, 4, 4, 4, 4, 5, 2, 3, 3, 3, 3, 4, 3, 3, 4, 4, 2, 2, 3, 3, 2, 3, 3, 3, 3, 4, 1, 2, 2, 2, 2, 3, 2, 2, 3, 3, 2, 3, 3, 3, 3, 4, 3, 3, 4, 4, 2, 2, 3, 3, 3, 3, 3, 4, 4, 3, 4, 4, 4, 4, 5, 2, 3, 3, 3, 3, 4, 3, 3, 4, 4, 3, 4, 4, 4, 4, 5, 4, 4, 5, 5, 3, 3, 4, 4, 4, 2, 3, 3, 3, 3, 4, 3, 3, 4, 4, 2, 2, 3, 3, 3, 3, 3, 4, 4, 4, 3, 2, 2, 3, 3, 2, 3, 3, 3, 3, 4, 1, 2, 2, 2, 2, 3, 2, 2, 3, 3, 2, 3, 3, 3, 3, 4, 3, 3, 4, 4, 2, 2, 3, 3, 3, 1, 2, 2, 2, 2, 3, 2, 2, 3, 3, 1, 1, 2, 2, 2, 2, 2, 3, 3, 3, 2, 2, 3, 3, 3, 3, 4, 3, 3, 4, 4, 2, 2, 3, 3, 3, 3, 3, 4, 4, 4, 3, 2, 2, 3, 3, 3, 2, 3]\n"
     ]
    }
   ],
   "source": [
    "# Show the overlaps.\n",
    "print(no_overlaps)"
   ]
  },
  {
   "cell_type": "code",
   "execution_count": 24,
   "id": "bc9404b5",
   "metadata": {},
   "outputs": [
    {
     "data": {
      "text/plain": [
       "(array([0, 1, 2, 3, 4, 5, 6]),\n",
       " array([  1,  36, 225, 400, 225,  36,   1], dtype=int64))"
      ]
     },
     "execution_count": 24,
     "metadata": {},
     "output_type": "execute_result"
    }
   ],
   "source": [
    "# Count the number of times each overlap occurs.\n",
    "counts = np.unique(no_overlaps, return_counts=True)\n",
    "\n",
    "# Show.\n",
    "counts"
   ]
  },
  {
   "cell_type": "code",
   "execution_count": 36,
   "id": "161a829b",
   "metadata": {},
   "outputs": [
    {
     "data": {
      "image/png": "[encoded data removed]",
      "text/plain": [
       "<Figure size 576x432 with 1 Axes>"
      ]
     },
     "metadata": {},
     "output_type": "display_data"
    }
   ],
   "source": [
    "# Create a figure.\n",
    "fig, ax = plt.subplots(figsize=(8, 6))\n",
    "\n",
    "# Bar chart.\n",
    "ax.bar(counts[0], counts[1]);"
   ]
  },
  {
   "cell_type": "markdown",
   "id": "a639cbbb",
   "metadata": {},
   "source": [
    "## The Null Hypothesis"
   ]
  },
  {
   "cell_type": "markdown",
   "id": "0e126a5a",
   "metadata": {},
   "source": [
    "- The lady has no special power to tell the difference between cups of tea with milk in first and cups of tea with tea in first.\n",
    "\n",
    "- The lady is selecting the six cups from the twelve cups at random."
   ]
  },
  {
   "cell_type": "markdown",
   "id": "2d16f6d1",
   "metadata": {},
   "source": [
    "## Alternative Hypothesis\n",
    "\n",
    "- The lady can tell the difference. "
   ]
  },
  {
   "cell_type": "markdown",
   "id": "64651213",
   "metadata": {},
   "source": [
    "### Evidence\n",
    "\n",
    "If the lady is just picking six cups at random, then it is unlikely she will pick the correct six. The probability is one in one hundred and ten. It is so unlikely, that I will agree that something non-random is happening when she is selecting the cups of tea. "
   ]
  },
  {
   "cell_type": "code",
   "execution_count": 26,
   "id": "cc66cd35",
   "metadata": {},
   "outputs": [
    {
     "data": {
      "text/plain": [
       "0.00909090909090909"
      ]
     },
     "execution_count": 26,
     "metadata": {},
     "output_type": "execute_result"
    }
   ],
   "source": [
    "# The probability that she (randomly) selects the six correct cups.\n",
    "1 / 110"
   ]
  },
  {
   "cell_type": "code",
   "execution_count": 27,
   "id": "35f58fbb",
   "metadata": {},
   "outputs": [
    {
     "data": {
      "text/plain": [
       "0.22727272727272727"
      ]
     },
     "execution_count": 27,
     "metadata": {},
     "output_type": "execute_result"
    }
   ],
   "source": [
    "# The probability that she (randomly) selects at least five correct cups.\n",
    "(24 + 1) / 110"
   ]
  },
  {
   "cell_type": "markdown",
   "id": "7af85321",
   "metadata": {},
   "source": [
    "## Type I Errors, Type II Errors, and Power"
   ]
  },
  {
   "cell_type": "markdown",
   "id": "545c3624",
   "metadata": {},
   "source": [
    "- Type I and Type II errors: https://en.wikipedia.org/wiki/Type_I_and_type_II_errors#Table_of_error_types\n",
    " - Power: https://en.wikipedia.org/wiki/Power_(statistics)#Description"
   ]
  },
  {
   "cell_type": "markdown",
   "id": "ef9fc190",
   "metadata": {},
   "source": [
    "### False negatives and false positives are significant issues in Lady Tea testing.\n",
    "\n",
    "**Null Hypothesis (HO)**: \"The Lady has no special power to tell the difference between cups of tea with milk first and cups of without tea in first\".\n",
    "\n",
    "**Hypothesis**: \"The Lady can tell the difference\".\n",
    "\n",
    "**Type I error (false positive)**: The true fact is that The Lady has no special power to tell the difference between cups of tea with milk first and cups of without tea in first; but the Statistician believes in her capabilities to distinguish both cups of tea with and without milk in first, as she argued.\n",
    "\n",
    "**Type II error (false negative)**: The true fact is that the Lady can tell the difference between both cups of tea, but as the Lady is randomly picking the cups, this way of picking cups of tea, leads the Statistician to conclude that the Lady is not capable of telling the difference. Hence the rate of probability is underrated or less probable.\n",
    "\n",
    "Type I and Type II errors: https://en.wikipedia.org/wiki/Type_I_and_type_II_errors#Table_of_error_types"
   ]
  },
  {
   "cell_type": "markdown",
   "id": "8705cb6f",
   "metadata": {},
   "source": [
    " Power: https://en.wikipedia.org/wiki/Power_(statistics)#Description"
   ]
  },
  {
   "cell_type": "markdown",
   "id": "db3b0aab",
   "metadata": {},
   "source": [
    "\n",
    "### Task 2: numpy's Normal Distribution"
   ]
  },
  {
   "cell_type": "markdown",
   "id": "3bdb407c",
   "metadata": {},
   "source": [
    "# Normal Distribution\n"
   ]
  },
  {
   "cell_type": "markdown",
   "id": "50a56f59",
   "metadata": {},
   "source": [
    "## Setting Parameters."
   ]
  },
  {
   "cell_type": "code",
   "execution_count": 40,
   "id": "f029bf01",
   "metadata": {},
   "outputs": [],
   "source": [
    "# Parameters.\n",
    "mean, std, sample_size = 10.0, 3.0, 100000"
   ]
  },
  {
   "cell_type": "code",
   "execution_count": 41,
   "id": "27067b92",
   "metadata": {},
   "outputs": [
    {
     "data": {
      "text/plain": [
       "10.0"
      ]
     },
     "execution_count": 41,
     "metadata": {},
     "output_type": "execute_result"
    }
   ],
   "source": [
    "# Check set mean.\n",
    "mean"
   ]
  },
  {
   "cell_type": "code",
   "execution_count": 42,
   "id": "fbe66f57",
   "metadata": {},
   "outputs": [
    {
     "data": {
      "text/plain": [
       "3.0"
      ]
     },
     "execution_count": 42,
     "metadata": {},
     "output_type": "execute_result"
    }
   ],
   "source": [
    "# Check set std.\n",
    "std"
   ]
  },
  {
   "cell_type": "code",
   "execution_count": 43,
   "id": "269fb5f4",
   "metadata": {},
   "outputs": [
    {
     "data": {
      "text/plain": [
       "100000"
      ]
     },
     "execution_count": 43,
     "metadata": {},
     "output_type": "execute_result"
    }
   ],
   "source": [
    "# Check set sample_size.\n",
    "sample_size"
   ]
  },
  {
   "cell_type": "code",
   "execution_count": 44,
   "id": "84275724",
   "metadata": {},
   "outputs": [
    {
     "data": {
      "text/plain": [
       "(10.0, 3.0, 100000)"
      ]
     },
     "execution_count": 44,
     "metadata": {},
     "output_type": "execute_result"
    }
   ],
   "source": [
    "# Checking parameters.\n",
    "mean, std, sample_size "
   ]
  },
  {
   "cell_type": "markdown",
   "id": "9f58fac9",
   "metadata": {},
   "source": [
    "### Generate sample using numpy.randon.normal()"
   ]
  },
  {
   "cell_type": "code",
   "execution_count": 45,
   "id": "d73f574d",
   "metadata": {},
   "outputs": [],
   "source": [
    "# Generate sample\n",
    "sample = np.random.normal(mean, std, sample_size)"
   ]
  },
  {
   "cell_type": "code",
   "execution_count": 46,
   "id": "54dd9a23",
   "metadata": {},
   "outputs": [
    {
     "data": {
      "text/plain": [
       "array([12.29345358,  9.11190434,  8.64035686, ..., 11.19695078,\n",
       "        9.25891974, 11.35943334])"
      ]
     },
     "execution_count": 46,
     "metadata": {},
     "output_type": "execute_result"
    }
   ],
   "source": [
    "# Call sample\n",
    "sample"
   ]
  },
  {
   "cell_type": "code",
   "execution_count": 48,
   "id": "68e38a6f",
   "metadata": {},
   "outputs": [],
   "source": [
    "# Access Generated values using Pandas DateFrame()\n",
    "df = pd.DataFrame(sample, columns=[\"Sample Values\"])"
   ]
  },
  {
   "cell_type": "code",
   "execution_count": 49,
   "id": "a6b5f7ed",
   "metadata": {},
   "outputs": [
    {
     "data": {
      "text/html": [
       "<div>\n",
       "<style scoped>\n",
       "    .dataframe tbody tr th:only-of-type {\n",
       "        vertical-align: middle;\n",
       "    }\n",
       "\n",
       "    .dataframe tbody tr th {\n",
       "        vertical-align: top;\n",
       "    }\n",
       "\n",
       "    .dataframe thead th {\n",
       "        text-align: right;\n",
       "    }\n",
       "</style>\n",
       "<table border=\"1\" class=\"dataframe\">\n",
       "  <thead>\n",
       "    <tr style=\"text-align: right;\">\n",
       "      <th></th>\n",
       "      <th>Sample Values</th>\n",
       "    </tr>\n",
       "  </thead>\n",
       "  <tbody>\n",
       "    <tr>\n",
       "      <th>0</th>\n",
       "      <td>12.293454</td>\n",
       "    </tr>\n",
       "    <tr>\n",
       "      <th>1</th>\n",
       "      <td>9.111904</td>\n",
       "    </tr>\n",
       "    <tr>\n",
       "      <th>2</th>\n",
       "      <td>8.640357</td>\n",
       "    </tr>\n",
       "    <tr>\n",
       "      <th>3</th>\n",
       "      <td>15.074985</td>\n",
       "    </tr>\n",
       "    <tr>\n",
       "      <th>4</th>\n",
       "      <td>6.996751</td>\n",
       "    </tr>\n",
       "    <tr>\n",
       "      <th>...</th>\n",
       "      <td>...</td>\n",
       "    </tr>\n",
       "    <tr>\n",
       "      <th>99995</th>\n",
       "      <td>12.826651</td>\n",
       "    </tr>\n",
       "    <tr>\n",
       "      <th>99996</th>\n",
       "      <td>5.748830</td>\n",
       "    </tr>\n",
       "    <tr>\n",
       "      <th>99997</th>\n",
       "      <td>11.196951</td>\n",
       "    </tr>\n",
       "    <tr>\n",
       "      <th>99998</th>\n",
       "      <td>9.258920</td>\n",
       "    </tr>\n",
       "    <tr>\n",
       "      <th>99999</th>\n",
       "      <td>11.359433</td>\n",
       "    </tr>\n",
       "  </tbody>\n",
       "</table>\n",
       "<p>100000 rows × 1 columns</p>\n",
       "</div>"
      ],
      "text/plain": [
       "       Sample Values\n",
       "0          12.293454\n",
       "1           9.111904\n",
       "2           8.640357\n",
       "3          15.074985\n",
       "4           6.996751\n",
       "...              ...\n",
       "99995      12.826651\n",
       "99996       5.748830\n",
       "99997      11.196951\n",
       "99998       9.258920\n",
       "99999      11.359433\n",
       "\n",
       "[100000 rows x 1 columns]"
      ]
     },
     "execution_count": 49,
     "metadata": {},
     "output_type": "execute_result"
    }
   ],
   "source": [
    "# Call df() for all values inspection.\n",
    "df"
   ]
  },
  {
   "cell_type": "code",
   "execution_count": 50,
   "id": "b9612c25",
   "metadata": {},
   "outputs": [
    {
     "name": "stdout",
     "output_type": "stream",
     "text": [
      "   Sample Values\n",
      "0      12.293454\n",
      "1       9.111904\n",
      "2       8.640357\n",
      "3      15.074985\n",
      "4       6.996751\n"
     ]
    }
   ],
   "source": [
    "# Show the first 5 rows for inspection\n",
    "print(df.head())\n",
    "\n"
   ]
  },
  {
   "cell_type": "code",
   "execution_count": 51,
   "id": "22929dbf",
   "metadata": {},
   "outputs": [
    {
     "name": "stdout",
     "output_type": "stream",
     "text": [
      "[12.29345358  9.11190434  8.64035686 15.07498544  6.99675116]\n"
     ]
    }
   ],
   "source": [
    "# Or display the first 5 values for inspection using slice within the method.\n",
    "print(sample[:5])\n"
   ]
  },
  {
   "cell_type": "code",
   "execution_count": 52,
   "id": "8a62fe67",
   "metadata": {},
   "outputs": [
    {
     "name": "stdout",
     "output_type": "stream",
     "text": [
      "       Sample Values\n",
      "99995      12.826651\n",
      "99996       5.748830\n",
      "99997      11.196951\n",
      "99998       9.258920\n",
      "99999      11.359433\n"
     ]
    }
   ],
   "source": [
    "# Show the last 5 rows for inspection\n",
    "print(df.tail())\n"
   ]
  },
  {
   "cell_type": "code",
   "execution_count": 53,
   "id": "577fe909",
   "metadata": {},
   "outputs": [
    {
     "name": "stdout",
     "output_type": "stream",
     "text": [
      "[12.82665077  5.74883038 11.19695078  9.25891974 11.35943334]\n"
     ]
    }
   ],
   "source": [
    "# OR show the last 5 generated values for inspection using slice within the method.\n",
    "print(sample[-5:])"
   ]
  },
  {
   "cell_type": "markdown",
   "id": "c3127164",
   "metadata": {},
   "source": [
    "## The Shapiro-Wilk test\n",
    "https://docs.scipy.org/doc/scipy/reference/generated/scipy.stats.shapiro.html"
   ]
  },
  {
   "cell_type": "markdown",
   "id": "8a0364dc",
   "metadata": {},
   "source": [
    "### Definition"
   ]
  },
  {
   "cell_type": "markdown",
   "id": "c07a4e6b",
   "metadata": {},
   "source": [
    "shapiro(x, *, axis=None, nan_policy='propagate', keepdims=False)[source:https://github.com/scipy/scipy/blob/v1.14.1/scipy/stats/_morestats.py#L1872-L2026]\n",
    "\n",
    "The Shapiro-Wilk test tests the null hypothesis that the data was drawn from a normal distribution(SciPy, 2024)"
   ]
  },
  {
   "cell_type": "markdown",
   "id": "ed33e385",
   "metadata": {},
   "source": [
    "## Perform the Shapiro-Wilk test"
   ]
  },
  {
   "cell_type": "code",
   "execution_count": 54,
   "id": "9cc68c8f",
   "metadata": {},
   "outputs": [
    {
     "name": "stderr",
     "output_type": "stream",
     "text": [
      "C:\\Users\\jeans\\anaconda3\\lib\\site-packages\\scipy\\stats\\morestats.py:1681: UserWarning: p-value may not be accurate for N > 5000.\n",
      "  warnings.warn(\"p-value may not be accurate for N > 5000.\")\n"
     ]
    }
   ],
   "source": [
    "# Shapiro-Wilk test\n",
    "shapiro_test_stat, p_value = stats.shapiro(sample)"
   ]
  },
  {
   "cell_type": "code",
   "execution_count": 55,
   "id": "d56be30f",
   "metadata": {},
   "outputs": [
    {
     "data": {
      "text/plain": [
       "(0.9999827146530151, 0.9630664587020874)"
      ]
     },
     "execution_count": 55,
     "metadata": {},
     "output_type": "execute_result"
    }
   ],
   "source": [
    "# Call shapiro anyway!\n",
    "shapiro_test_stat, p_value"
   ]
  },
  {
   "cell_type": "markdown",
   "id": "fa460ab0",
   "metadata": {},
   "source": [
    "## Plot a Histogram from generated values"
   ]
  },
  {
   "cell_type": "code",
   "execution_count": 56,
   "id": "40179f5b",
   "metadata": {},
   "outputs": [
    {
     "data": {
      "image/png": "[encoded data removed]",
      "text/plain": [
       "<Figure size 864x720 with 1 Axes>"
      ]
     },
     "metadata": {},
     "output_type": "display_data"
    }
   ],
   "source": [
    "# Plot.\n",
    "plt.hist(sample, bins=50, density=True, alpha=0.6, label=\"Sample Histogram\")\n",
    "\n",
    "# Plot coverage,smoothness in all data from the distribution\n",
    "x = np.linspace(mean - 4*std, mean + 4*std, 1000)\n",
    "\n",
    "# Normal PDF(Probability Density Function)\n",
    "plt.plot(x, stats.norm.pdf(x, mean, std), 'b', label=\"Normal Distribution\")\n",
    "\n",
    "# Legend\n",
    "plt.legend()\n",
    "\n",
    "# Display the histogram plot.\n",
    "plt.show()"
   ]
  },
  {
   "cell_type": "markdown",
   "id": "934f47eb",
   "metadata": {},
   "source": [
    "## Test output"
   ]
  },
  {
   "cell_type": "code",
   "execution_count": 57,
   "id": "9cd1624a",
   "metadata": {},
   "outputs": [
    {
     "name": "stdout",
     "output_type": "stream",
     "text": [
      "Shapiro-Wilk Test Statistic: 0.9999827146530151, p-value: 0.9630664587020874\n"
     ]
    }
   ],
   "source": [
    "# Test output\n",
    "print(f\"Shapiro-Wilk Test Statistic: {shapiro_test_stat}, p-value: {p_value}\")"
   ]
  },
  {
   "cell_type": "markdown",
   "id": "b8e55e2f",
   "metadata": {},
   "source": [
    "### Explanation"
   ]
  },
  {
   "cell_type": "markdown",
   "id": "ef6254d0",
   "metadata": {},
   "source": [
    "As p-value from the shapiro test is > 0.05 this is an indication that the data is consitent with the normality. The T-Statistic from the shapiro is 0.99."
   ]
  },
  {
   "cell_type": "markdown",
   "id": "8ec82fff",
   "metadata": {},
   "source": [
    "### Sources Used\n",
    "https://docs.scipy.org/doc/scipy/reference/generated/scipy.stats.shapiro.html"
   ]
  },
  {
   "cell_type": "markdown",
   "id": "5bbbfdab",
   "metadata": {},
   "source": [
    "## Task 3: t-Test Calculation\n"
   ]
  },
  {
   "cell_type": "code",
   "execution_count": 3,
   "id": "3ac8b5a2",
   "metadata": {},
   "outputs": [],
   "source": [
    "#Numerical\n",
    "import numpy as np\n",
    "# Statistical.\n",
    "from scipy.stats import ttest_rel\n"
   ]
  },
  {
   "cell_type": "markdown",
   "id": "ce47120f",
   "metadata": {},
   "source": [
    "### Dataset from Task3"
   ]
  },
  {
   "cell_type": "markdown",
   "id": "bac12ee0",
   "metadata": {},
   "source": [
    "\n",
    "|Patient ID:| 0 | 1 | 2 | 3 | 4 | 5 | 6 | 7 | 8 | 9 |\n",
    "\n",
    "|Before:    |63 |68 |70 |64 |74 |67 |70 |57 |66 |65 |\n",
    "\n",
    "|After:     |64 |64 |68 |64 |73 |70 |72 |54 |61 |63 |"
   ]
  },
  {
   "cell_type": "code",
   "execution_count": 4,
   "id": "84b6433d",
   "metadata": {},
   "outputs": [],
   "source": [
    "# Dataset from Task 3 in Code.\n",
    "patient_ids = np.array([0, 1, 2, 3, 4, 5, 6, 7, 8, 9])\n",
    "before = np.array([63, 68, 70, 64, 74, 67, 70, 57, 66, 65])\n",
    "after = np.array([64, 64, 68, 64, 73, 70, 72, 54, 61, 63])"
   ]
  },
  {
   "cell_type": "code",
   "execution_count": 3,
   "id": "b8156db4",
   "metadata": {},
   "outputs": [
    {
     "data": {
      "text/plain": [
       "array([0, 1, 2, 3, 4, 5, 6, 7, 8, 9])"
      ]
     },
     "execution_count": 3,
     "metadata": {},
     "output_type": "execute_result"
    }
   ],
   "source": [
    "# Check patient_ids array.\n",
    "patient_ids"
   ]
  },
  {
   "cell_type": "code",
   "execution_count": 4,
   "id": "c95e1253",
   "metadata": {},
   "outputs": [
    {
     "data": {
      "text/plain": [
       "array([63, 68, 70, 64, 74, 67, 70, 57, 66, 65])"
      ]
     },
     "execution_count": 4,
     "metadata": {},
     "output_type": "execute_result"
    }
   ],
   "source": [
    "# Check resting heart rates before embarking on a two-week exercise program.\n",
    "before"
   ]
  },
  {
   "cell_type": "code",
   "execution_count": 5,
   "id": "685ebb7e",
   "metadata": {},
   "outputs": [
    {
     "data": {
      "text/plain": [
       "array([64, 64, 68, 64, 73, 70, 72, 54, 61, 63])"
      ]
     },
     "execution_count": 5,
     "metadata": {},
     "output_type": "execute_result"
    }
   ],
   "source": [
    "# Check resting heart rates after embarking on a two-week exercise program.\n",
    "after"
   ]
  },
  {
   "cell_type": "markdown",
   "id": "b28a594e",
   "metadata": {},
   "source": [
    "### Plotting"
   ]
  },
  {
   "cell_type": "code",
   "execution_count": 1,
   "id": "feaccf44",
   "metadata": {},
   "outputs": [],
   "source": [
    "# Plotting.\n",
    "# https://matplotlib.org/stable/contents.html\n",
    "import matplotlib.pyplot as plt\n",
    "\n",
    "# Standard plot size.\n",
    "plt.rcParams['figure.figsize'] = (8, 6)\n",
    "\n",
    "# Standard colour scheme.\n",
    "plt.style.use('ggplot')"
   ]
  },
  {
   "cell_type": "markdown",
   "id": "66107532",
   "metadata": {},
   "source": [
    "### Plot a histogram of resting heart beart rates(RHBrs) before embarking on a two-week exercise program."
   ]
  },
  {
   "cell_type": "code",
   "execution_count": 13,
   "id": "798ef7f5",
   "metadata": {},
   "outputs": [
    {
     "data": {
      "text/plain": [
       "(array([1., 0., 0., 1., 2., 2., 1., 2., 0., 1.]),\n",
       " array([57. , 58.7, 60.4, 62.1, 63.8, 65.5, 67.2, 68.9, 70.6, 72.3, 74. ]),\n",
       " <BarContainer object of 10 artists>)"
      ]
     },
     "execution_count": 13,
     "metadata": {},
     "output_type": "execute_result"
    },
    {
     "data": {
      "image/png": "[encoded data removed]",
      "text/plain": [
       "<Figure size 720x576 with 1 Axes>"
      ]
     },
     "metadata": {},
     "output_type": "display_data"
    }
   ],
   "source": [
    "#plot a histogram for the RHB rates before embarking into exercise.\n",
    "plt.hist(before)"
   ]
  },
  {
   "cell_type": "markdown",
   "id": "1c910599",
   "metadata": {},
   "source": [
    "RHRs oscillate between 57.5 to 72.5 with predominance of increase at 65.0 and 70.0 and a frequence of 2.0 before entering a-two week exercice program."
   ]
  },
  {
   "cell_type": "markdown",
   "id": "752abccd",
   "metadata": {},
   "source": [
    "### Plot a histogram of RHR after embarking on a two-week exercise program."
   ]
  },
  {
   "cell_type": "code",
   "execution_count": 15,
   "id": "cba76e0e",
   "metadata": {},
   "outputs": [
    {
     "data": {
      "text/plain": [
       "(array([1., 0., 0., 1., 1., 3., 0., 1., 1., 2.]),\n",
       " array([54. , 55.9, 57.8, 59.7, 61.6, 63.5, 65.4, 67.3, 69.2, 71.1, 73. ]),\n",
       " <BarContainer object of 10 artists>)"
      ]
     },
     "execution_count": 15,
     "metadata": {},
     "output_type": "execute_result"
    },
    {
     "data": {
      "image/png": "[encoded data removed]",
      "text/plain": [
       "<Figure size 720x576 with 1 Axes>"
      ]
     },
     "metadata": {},
     "output_type": "display_data"
    }
   ],
   "source": [
    "### Plot a histogram of RHR after embarking on a two-week exercise program.\n",
    "plt.hist(after)"
   ]
  },
  {
   "cell_type": "markdown",
   "id": "f65e7cdb",
   "metadata": {},
   "source": [
    "RHRs oscillate between 55.0 to 72.5 with predominance of increase at 65.0 and a frequence of 3.0 after entering a-two week exercice program."
   ]
  },
  {
   "cell_type": "markdown",
   "id": "83ad48c0",
   "metadata": {},
   "source": [
    "### Show relationship between RHB Rates before and after."
   ]
  },
  {
   "cell_type": "code",
   "execution_count": 6,
   "id": "d1ae1e16",
   "metadata": {},
   "outputs": [
    {
     "data": {
      "image/png": "[encoded data removed]",
      "text/plain": [
       "<Figure size 576x432 with 1 Axes>"
      ]
     },
     "metadata": {},
     "output_type": "display_data"
    }
   ],
   "source": [
    "# Plot the data\n",
    "plt.scatter(before, after, color='green', label='Data Points')\n",
    "\n",
    "# Plot Legend.\n",
    "plt.title('Resting Heart Beat Rates Before and After Exercise')\n",
    "plt.xlabel('Resting Heart Beat Rates Before Exercise (bpm)')\n",
    "plt.ylabel('Resting Heart Beat Rates After Exercise (bpm)')\n",
    "\n",
    "# Show legend.\n",
    "plt.legend()\n",
    "\n",
    "# Execute the code.\n",
    "plt.show()\n"
   ]
  },
  {
   "cell_type": "markdown",
   "id": "982f694d",
   "metadata": {},
   "source": [
    "### Scatter Plot Explained\n",
    "\n",
    "The x-axis represents RHB Rates before embarking on a 2-two week exercice, and the y-axis represents RHB rates after embarking on a 2-two week exercice.\n",
    "\n",
    "What we can read from the scatter plot above is that there is an agglutination of RHB Rates around 60 to 70 as physiological rates of patients'Resting Heart Beat Rates(RHB rates. "
   ]
  },
  {
   "cell_type": "markdown",
   "id": "fed937ff",
   "metadata": {},
   "source": [
    "### Insert a simple linear regression to seek correlation between variables\n",
    "Geeksforgeeks.org(2024): Simple Linear Regression in Python. Available at: \n",
    "https://www.geeksforgeeks.org/simple-linear-regression-in-python/(Accessed on 15/12/2024)\n",
    "\n",
    "**Definition**\n",
    "Simple linear regression aims to find a linear relationship to describe the correlation between an independent and possibly dependent variable. The regression line can be used to predict or estimate missing values, this is known as interpolation(New Newcastle University, UK (2024). Simple Linear Regression.Available at:\n",
    "https://www.ncl.ac.uk/webtemplate/ask-assets/external/maths-resources/statistics/regression-and-correlation/simple-linear-regression.html#:~:text=7%20See%20Also-,Definition,this%20is%20known%20as%20interpolation (Accessed on 15/12/2024)"
   ]
  },
  {
   "cell_type": "code",
   "execution_count": 67,
   "id": "f53dc61e",
   "metadata": {},
   "outputs": [],
   "source": [
    "# Import Relevant Python Module.\n",
    "from sklearn.linear_model import LinearRegression"
   ]
  },
  {
   "cell_type": "code",
   "execution_count": 69,
   "id": "7ebf4fb1",
   "metadata": {},
   "outputs": [],
   "source": [
    "# Data\n",
    "before_exercise = np.array([63, 68, 70, 64, 74, 67, 70, 57, 66, 65]) # Resting heart rates before exercise.\n",
    "after_exercise = np.array([64, 68, 64, 73, 70, 72, 54, 61, 63, 63]) # Resting heart rates after exercise."
   ]
  },
  {
   "cell_type": "code",
   "execution_count": 70,
   "id": "898a7941",
   "metadata": {},
   "outputs": [
    {
     "data": {
      "text/plain": [
       "array([63, 68, 70, 64, 74, 67, 70, 57, 66, 65])"
      ]
     },
     "execution_count": 70,
     "metadata": {},
     "output_type": "execute_result"
    }
   ],
   "source": [
    "before_exercise"
   ]
  },
  {
   "cell_type": "code",
   "execution_count": 72,
   "id": "64cfb396",
   "metadata": {},
   "outputs": [
    {
     "data": {
      "text/plain": [
       "array([64, 68, 64, 73, 70, 72, 54, 61, 63, 63])"
      ]
     },
     "execution_count": 72,
     "metadata": {},
     "output_type": "execute_result"
    }
   ],
   "source": [
    "after_exercise"
   ]
  },
  {
   "cell_type": "code",
   "execution_count": 73,
   "id": "2a561c21",
   "metadata": {},
   "outputs": [],
   "source": [
    "# Reshape data for LinearRegression.\n",
    "X = before_exercise.reshape(-1, 1)\n",
    "y = after_exercise"
   ]
  },
  {
   "cell_type": "code",
   "execution_count": 74,
   "id": "3c41440d",
   "metadata": {},
   "outputs": [
    {
     "data": {
      "text/plain": [
       "array([[63],\n",
       "       [68],\n",
       "       [70],\n",
       "       [64],\n",
       "       [74],\n",
       "       [67],\n",
       "       [70],\n",
       "       [57],\n",
       "       [66],\n",
       "       [65]])"
      ]
     },
     "execution_count": 74,
     "metadata": {},
     "output_type": "execute_result"
    }
   ],
   "source": [
    "X"
   ]
  },
  {
   "cell_type": "code",
   "execution_count": 75,
   "id": "50115daf",
   "metadata": {},
   "outputs": [
    {
     "data": {
      "text/plain": [
       "array([64, 68, 64, 73, 70, 72, 54, 61, 63, 63])"
      ]
     },
     "execution_count": 75,
     "metadata": {},
     "output_type": "execute_result"
    }
   ],
   "source": [
    "y"
   ]
  },
  {
   "cell_type": "code",
   "execution_count": 76,
   "id": "5a2f0008",
   "metadata": {},
   "outputs": [
    {
     "data": {
      "text/plain": [
       "LinearRegression()"
      ]
     },
     "execution_count": 76,
     "metadata": {},
     "output_type": "execute_result"
    }
   ],
   "source": [
    "# Perform linear regression'\n",
    "model = LinearRegression()\n",
    "model.fit(X, y)\n"
   ]
  },
  {
   "cell_type": "code",
   "execution_count": 77,
   "id": "3c2001e9",
   "metadata": {},
   "outputs": [],
   "source": [
    "\n",
    "# Get regression line values.\n",
    "regression_line = model.predict(X)\n"
   ]
  },
  {
   "cell_type": "code",
   "execution_count": 78,
   "id": "6d6aab5d",
   "metadata": {},
   "outputs": [
    {
     "data": {
      "text/plain": [
       "array([64.68930041, 65.44032922, 65.74074074, 64.83950617, 66.34156379,\n",
       "       65.29012346, 65.74074074, 63.78806584, 65.1399177 , 64.98971193])"
      ]
     },
     "execution_count": 78,
     "metadata": {},
     "output_type": "execute_result"
    }
   ],
   "source": [
    "regression_line"
   ]
  },
  {
   "cell_type": "code",
   "execution_count": 79,
   "id": "ceb080fd",
   "metadata": {},
   "outputs": [
    {
     "data": {
      "image/png": "[encoded data removed]",
      "text/plain": [
       "<Figure size 576x432 with 1 Axes>"
      ]
     },
     "metadata": {},
     "output_type": "display_data"
    }
   ],
   "source": [
    "# Plot the data.\n",
    "plt.figure(figsize=(8, 6))\n",
    "plt.scatter(before_exercise, after_exercise, color='blue', label='Data Points')\n",
    "plt.plot(before_exercise, regression_line, color='red', label='Regression Line')\n",
    "plt.title('Resting Heart Beat Rates Before vs After Exercise')\n",
    "plt.xlabel('Resting Heart Beat Rates Before Exercise (bpm)')\n",
    "plt.ylabel('Resting Heart Beat Rates After Exercise (bpm)')\n",
    "plt.legend()\n",
    "plt.grid(True)\n",
    "plt.show()"
   ]
  },
  {
   "cell_type": "markdown",
   "id": "622e6f6b",
   "metadata": {},
   "source": [
    "Analysis: The simple linear regression seems horinzotal suggesting no clear linear correlation between RHB rates before the exercise and RHB rates after exercise."
   ]
  },
  {
   "cell_type": "markdown",
   "id": "42a52966",
   "metadata": {},
   "source": [
    "## Scatter Patient'IDs and RHB rates before and after Exercise"
   ]
  },
  {
   "cell_type": "markdown",
   "id": "5f954430",
   "metadata": {},
   "source": [
    "### Scatter Plot Linear Regression Patient'IDS vs RHB rates before Exercise"
   ]
  },
  {
   "cell_type": "code",
   "execution_count": 50,
   "id": "044bced0",
   "metadata": {},
   "outputs": [],
   "source": [
    "# Python required Module\n",
    "from sklearn.linear_model import LinearRegression\n",
    "\n",
    "# Dataset from Task 3 in Code.\n",
    "patient_ids = np.array([0, 1, 2, 3, 4, 5, 6, 7, 8, 9])\n",
    "before = np.array([63, 68, 70, 64, 74, 67, 70, 57, 66, 65])"
   ]
  },
  {
   "cell_type": "code",
   "execution_count": 39,
   "id": "1eed2213",
   "metadata": {},
   "outputs": [
    {
     "data": {
      "text/plain": [
       "array([0, 1, 2, 3, 4, 5, 6, 7, 8, 9])"
      ]
     },
     "execution_count": 39,
     "metadata": {},
     "output_type": "execute_result"
    }
   ],
   "source": [
    "patient_ids"
   ]
  },
  {
   "cell_type": "code",
   "execution_count": 40,
   "id": "28f480b3",
   "metadata": {},
   "outputs": [
    {
     "data": {
      "text/plain": [
       "array([63, 68, 70, 64, 74, 67, 70, 57, 66, 65])"
      ]
     },
     "execution_count": 40,
     "metadata": {},
     "output_type": "execute_result"
    }
   ],
   "source": [
    "before"
   ]
  },
  {
   "cell_type": "code",
   "execution_count": 41,
   "id": "1ab34968",
   "metadata": {},
   "outputs": [],
   "source": [
    "# Reshape data for LinearRegression.\n",
    "X = before_exercise.reshape(-1, 1)\n",
    "y = after_exercise"
   ]
  },
  {
   "cell_type": "code",
   "execution_count": 42,
   "id": "477c1463",
   "metadata": {},
   "outputs": [
    {
     "data": {
      "text/plain": [
       "array([[63],\n",
       "       [68],\n",
       "       [70],\n",
       "       [64],\n",
       "       [74],\n",
       "       [67],\n",
       "       [70],\n",
       "       [57],\n",
       "       [66],\n",
       "       [65]])"
      ]
     },
     "execution_count": 42,
     "metadata": {},
     "output_type": "execute_result"
    }
   ],
   "source": [
    "X"
   ]
  },
  {
   "cell_type": "code",
   "execution_count": 43,
   "id": "54ae78cb",
   "metadata": {},
   "outputs": [
    {
     "data": {
      "text/plain": [
       "array([64, 68, 64, 73, 70, 72, 54, 61, 63, 63])"
      ]
     },
     "execution_count": 43,
     "metadata": {},
     "output_type": "execute_result"
    }
   ],
   "source": [
    "y"
   ]
  },
  {
   "cell_type": "code",
   "execution_count": null,
   "id": "8c9817fd",
   "metadata": {},
   "outputs": [],
   "source": [
    "# Perform linear regression'\n",
    "model = LinearRegression()\n",
    "model.fit(X, y)"
   ]
  },
  {
   "cell_type": "code",
   "execution_count": 44,
   "id": "f49d2e67",
   "metadata": {},
   "outputs": [
    {
     "data": {
      "text/plain": [
       "LinearRegression()"
      ]
     },
     "execution_count": 44,
     "metadata": {},
     "output_type": "execute_result"
    }
   ],
   "source": [
    "model"
   ]
  },
  {
   "cell_type": "code",
   "execution_count": 45,
   "id": "7ef99720",
   "metadata": {},
   "outputs": [],
   "source": [
    "# Get regression line values.\n",
    "regression_line = model.predict(X)"
   ]
  },
  {
   "cell_type": "code",
   "execution_count": 46,
   "id": "6544a4d2",
   "metadata": {},
   "outputs": [
    {
     "data": {
      "text/plain": [
       "array([64.68930041, 65.44032922, 65.74074074, 64.83950617, 66.34156379,\n",
       "       65.29012346, 65.74074074, 63.78806584, 65.1399177 , 64.98971193])"
      ]
     },
     "execution_count": 46,
     "metadata": {},
     "output_type": "execute_result"
    }
   ],
   "source": [
    "regression_line"
   ]
  },
  {
   "cell_type": "code",
   "execution_count": 51,
   "id": "04405f6b",
   "metadata": {},
   "outputs": [
    {
     "data": {
      "image/png": "[encoded data removed]",
      "text/plain": [
       "<Figure size 576x432 with 1 Axes>"
      ]
     },
     "metadata": {},
     "output_type": "display_data"
    }
   ],
   "source": [
    "# Plot the data.\n",
    "plt.figure(figsize=(8, 6))\n",
    "plt.scatter(patient_ids, before, color='blue', label='Data Points')\n",
    "plt.plot(patient_ids, regression_line, color='red', label='Regression Line')\n",
    "plt.title('Patient IDs vs Resting Heart Beat Rates Before Exercise')\n",
    "plt.xlabel('Patient IDs')\n",
    "plt.ylabel('Resting Heart Beat Rates Before Exercise (bpm)')\n",
    "plt.legend()\n",
    "plt.grid(True)\n",
    "plt.show()\n",
    "\n"
   ]
  },
  {
   "cell_type": "markdown",
   "id": "161c0a5c",
   "metadata": {},
   "source": [
    "Analysis: Asimple linear regression with tendencies of a negative relationship between Patient IDs and HRB rates before embarking on a 2-week exercise program."
   ]
  },
  {
   "cell_type": "markdown",
   "id": "05bbdecc",
   "metadata": {},
   "source": [
    "### Scatter Plot Linear Regression Patient IDs vs RHB rates after Exercise"
   ]
  },
  {
   "cell_type": "code",
   "execution_count": 53,
   "id": "c1da145e",
   "metadata": {},
   "outputs": [
    {
     "data": {
      "image/png": "[encoded data removed]",
      "text/plain": [
       "<Figure size 576x432 with 1 Axes>"
      ]
     },
     "metadata": {},
     "output_type": "display_data"
    }
   ],
   "source": [
    "# Import Required Python Module.\n",
    "from sklearn.linear_model import LinearRegression\n",
    "\n",
    "# Data\n",
    "patient_ids = np.array([0, 1, 2, 3, 4, 5, 6, 7, 8, 9])# Patient'IDs\n",
    "after_exercise = np.array([64, 68, 64, 73, 70, 72, 54, 61, 63, 63]) # Resting heart rates after exercise\n",
    "\n",
    "# Reshape data for LinearRegression\n",
    "X = patient_ids.reshape(-1, 1)\n",
    "y = after_exercise\n",
    "\n",
    "# Perform linear regression\n",
    "model = LinearRegression()\n",
    "model.fit(X, y)\n",
    "\n",
    "# Get regression line values\n",
    "regression_line = model.predict(X)\n",
    "\n",
    "# Plot the data\n",
    "plt.figure(figsize=(8, 6))\n",
    "plt.scatter(patient_ids, after_exercise, color='blue', label='Data Points')\n",
    "plt.plot(patient_ids, regression_line, color='red', label='Regression Line')\n",
    "plt.title('Patient IDs vs Resting Heart Beat Rates After Exercise')\n",
    "plt.xlabel('Patient IDs')\n",
    "plt.ylabel('Resting Heart Beat Rates After Exercise (bpm)')\n",
    "plt.legend()\n",
    "plt.grid(True)\n",
    "plt.show()"
   ]
  },
  {
   "cell_type": "markdown",
   "id": "9b733094",
   "metadata": {},
   "source": [
    "Analysis: Asimple linear regression with tendencies suggesting a negative relationship between Patient IDs and HRB rates after embarking on a 2-week exercise program."
   ]
  },
  {
   "cell_type": "markdown",
   "id": "8d4f4ae0",
   "metadata": {},
   "source": [
    "### 3D Scatter Plot of Patient IDs vs RHB rates Before Exercise vs RHB rates After Exercise\n",
    "https://support.minitab.com/en-us/minitab/help-and-how-to/graphs/3d-scatterplot/interpret-the-results/key-results/"
   ]
  },
  {
   "cell_type": "markdown",
   "id": "f55cbf3f",
   "metadata": {},
   "source": [
    "### Import relevant Python Package"
   ]
  },
  {
   "cell_type": "code",
   "execution_count": 8,
   "id": "91d4413d",
   "metadata": {},
   "outputs": [],
   "source": [
    "# Import relevant Python Package.\n",
    "from mpl_toolkits.mplot3d import Axes3D"
   ]
  },
  {
   "cell_type": "markdown",
   "id": "a455d23a",
   "metadata": {},
   "source": [
    "### Data from PlantGrowth Dataset R"
   ]
  },
  {
   "cell_type": "code",
   "execution_count": 10,
   "id": "f35eccfb",
   "metadata": {},
   "outputs": [],
   "source": [
    "# Data\n",
    "patient_ids = [0, 1, 2, 3, 4, 5, 6, 7, 8, 9]\n",
    "heart_rate_before = [63, 68, 70, 64, 74, 67, 70, 57, 66, 65]\n",
    "heart_rate_after = [64, 64, 68, 64, 73, 70, 72, 54, 61, 63]"
   ]
  },
  {
   "cell_type": "code",
   "execution_count": 11,
   "id": "75167ff8",
   "metadata": {},
   "outputs": [
    {
     "data": {
      "text/plain": [
       "[0, 1, 2, 3, 4, 5, 6, 7, 8, 9]"
      ]
     },
     "execution_count": 11,
     "metadata": {},
     "output_type": "execute_result"
    }
   ],
   "source": [
    "patient_ids"
   ]
  },
  {
   "cell_type": "code",
   "execution_count": 12,
   "id": "bf66541d",
   "metadata": {},
   "outputs": [
    {
     "data": {
      "text/plain": [
       "[63, 68, 70, 64, 74, 67, 70, 57, 66, 65]"
      ]
     },
     "execution_count": 12,
     "metadata": {},
     "output_type": "execute_result"
    }
   ],
   "source": [
    "heart_rate_before"
   ]
  },
  {
   "cell_type": "code",
   "execution_count": 13,
   "id": "aeabbd08",
   "metadata": {},
   "outputs": [
    {
     "data": {
      "text/plain": [
       "[64, 64, 68, 64, 73, 70, 72, 54, 61, 63]"
      ]
     },
     "execution_count": 13,
     "metadata": {},
     "output_type": "execute_result"
    }
   ],
   "source": [
    "heart_rate_after"
   ]
  },
  {
   "cell_type": "markdown",
   "id": "d8e62cd6",
   "metadata": {},
   "source": [
    "### Plotting 3D Plot"
   ]
  },
  {
   "cell_type": "code",
   "execution_count": 16,
   "id": "1fcbe950",
   "metadata": {},
   "outputs": [
    {
     "data": {
      "text/plain": [
       "<matplotlib.legend.Legend at 0x286a9e05d30>"
      ]
     },
     "execution_count": 16,
     "metadata": {},
     "output_type": "execute_result"
    },
    {
     "data": {
      "image/png": "[encoded data removed]",
      "text/plain": [
       "<Figure size 1008x720 with 1 Axes>"
      ]
     },
     "metadata": {},
     "output_type": "display_data"
    }
   ],
   "source": [
    "# 3D Plot\n",
    "fig = plt.figure(figsize=(14, 10))\n",
    "ax = fig.add_subplot(111, projection='3d')\n",
    "ax.scatter(patient_ids, heart_rate_before, heart_rate_after, color='b', label='Resting Heart Beat Rates')\n",
    "\n",
    "# Labels.\n",
    "ax.set_xlabel('Patient IDs')\n",
    "ax.set_ylabel('Resting Heart Beat Rates Before Exercise')\n",
    "ax.set_zlabel('Resting Heart Beat Rates After Exercise')\n",
    "ax.set_title('3D ScatterPlot of Patient IDs, vs Resting Heart Beat(RHB) Rates Before Exercise vs RHB rates after Exercise')\n",
    "ax.legend()"
   ]
  },
  {
   "cell_type": "markdown",
   "id": "d704ff9c",
   "metadata": {},
   "source": [
    "Analysis: Interpret the key results for 3D Scatterplot.\n",
    "Data points that tend to rise together suggest a positive correlation.\n",
    "Data points that tend to rise as other data points tend to decline suggests a negative correlation.\n",
    "Outliers fall far from the main group of data points (Minitab, 2024). These principles for 3D scatterplot interpretation apply to patient IDs, RHB rates before exercise and RHB rates after exercise. \n",
    "\n",
    "Source Used: Minitab(2024).Interpret the key results for 3D Scatterplot. Available at: https://support.minitab.com/en-us/minitab/help-and-how-to/graphs/3d-scatterplot/interpret-the-results/key-results/( Accessed on 15/12/2024)"
   ]
  },
  {
   "cell_type": "markdown",
   "id": "d5e5c832",
   "metadata": {},
   "source": [
    "## Calculating differences"
   ]
  },
  {
   "cell_type": "code",
   "execution_count": 7,
   "id": "ed4e3b03",
   "metadata": {},
   "outputs": [],
   "source": [
    "# Calculating differences\n",
    "differences = before - after\n",
    "mean_diff = np.mean(differences)\n",
    "std_diff = np.std(differences, ddof=1)\n",
    "n = len(differences)"
   ]
  },
  {
   "cell_type": "code",
   "execution_count": 8,
   "id": "945e2438",
   "metadata": {},
   "outputs": [
    {
     "data": {
      "text/plain": [
       "array([-1,  4,  2,  0,  1, -3, -2,  3,  5,  2])"
      ]
     },
     "execution_count": 8,
     "metadata": {},
     "output_type": "execute_result"
    }
   ],
   "source": [
    "# Call differences variable between and after\n",
    "differences"
   ]
  },
  {
   "cell_type": "code",
   "execution_count": 9,
   "id": "ed52e689",
   "metadata": {},
   "outputs": [
    {
     "data": {
      "text/plain": [
       "1.1"
      ]
     },
     "execution_count": 9,
     "metadata": {},
     "output_type": "execute_result"
    }
   ],
   "source": [
    "# Call mean_diff\n",
    "mean_diff"
   ]
  },
  {
   "cell_type": "code",
   "execution_count": 10,
   "id": "c3fd2664",
   "metadata": {},
   "outputs": [
    {
     "data": {
      "text/plain": [
       "2.6012817353502227"
      ]
     },
     "execution_count": 10,
     "metadata": {},
     "output_type": "execute_result"
    }
   ],
   "source": [
    "# Call std_diff\n",
    "std_diff"
   ]
  },
  {
   "cell_type": "code",
   "execution_count": 12,
   "id": "7c532832",
   "metadata": {},
   "outputs": [
    {
     "data": {
      "text/plain": [
       "10"
      ]
     },
     "execution_count": 12,
     "metadata": {},
     "output_type": "execute_result"
    }
   ],
   "source": [
    "# Run n\n",
    "n"
   ]
  },
  {
   "cell_type": "markdown",
   "id": "1c2313b5",
   "metadata": {},
   "source": [
    "## Calculating the t-statistic"
   ]
  },
  {
   "cell_type": "markdown",
   "id": "f1c31afe",
   "metadata": {},
   "source": [
    "### Calculating the t-statistic manually"
   ]
  },
  {
   "cell_type": "code",
   "execution_count": 14,
   "id": "fde1ee30",
   "metadata": {},
   "outputs": [],
   "source": [
    "# Calculating the t-statistic manually\n",
    "t_stat_manual = mean_diff / (std_diff / np.sqrt(n))"
   ]
  },
  {
   "cell_type": "code",
   "execution_count": 15,
   "id": "7af3a8a7",
   "metadata": {},
   "outputs": [
    {
     "data": {
      "text/plain": [
       "1.3372274824806283"
      ]
     },
     "execution_count": 15,
     "metadata": {},
     "output_type": "execute_result"
    }
   ],
   "source": [
    "# Call t_stat_manual\n",
    "t_stat_manual"
   ]
  },
  {
   "cell_type": "markdown",
   "id": "a1a446ee",
   "metadata": {},
   "source": [
    "### Using scipy to calculate the t-statistic"
   ]
  },
  {
   "cell_type": "code",
   "execution_count": 16,
   "id": "838ea9c4",
   "metadata": {},
   "outputs": [],
   "source": [
    "# Using scipy to calculate the t-statistic\n",
    "t_stat_scipy, p_value = ttest_rel(before, after)"
   ]
  },
  {
   "cell_type": "code",
   "execution_count": 17,
   "id": "3971ac48",
   "metadata": {},
   "outputs": [
    {
     "data": {
      "text/plain": [
       "(1.337227482480628, 0.21396011317404623)"
      ]
     },
     "execution_count": 17,
     "metadata": {},
     "output_type": "execute_result"
    }
   ],
   "source": [
    "t_stat_scipy, p_value "
   ]
  },
  {
   "cell_type": "markdown",
   "id": "c251f742",
   "metadata": {},
   "source": [
    "## Output results"
   ]
  },
  {
   "cell_type": "code",
   "execution_count": 18,
   "id": "ff3f173d",
   "metadata": {},
   "outputs": [
    {
     "name": "stdout",
     "output_type": "stream",
     "text": [
      "Patient IDs:  [0 1 2 3 4 5 6 7 8 9]\n",
      "Before:  [63 68 70 64 74 67 70 57 66 65]\n",
      "After:  [64 64 68 64 73 70 72 54 61 63]\n",
      "Differences (Before - After):  [-1  4  2  0  1 -3 -2  3  5  2]\n",
      "Manual t-statistic: 1.3372\n",
      "Scipy t-statistic: 1.3372, p-value: 0.2140\n"
     ]
    }
   ],
   "source": [
    "# Display Patient IDs.\n",
    "print(\"Patient IDs: \", patient_ids)\n",
    "\n",
    "# Display RHB (Resting Heart Beat) Rates before exercise.\n",
    "print(\"Before: \", before)\n",
    "\n",
    "# Display RHB Rates after exercise.\n",
    "print(\"After: \", after)\n",
    "\n",
    "# Display the differnces between RHB rates before and after exercise.\n",
    "print(\"Differences (Before - After): \", differences)\n",
    "\n",
    "# Display t-Test Calculation manually.\n",
    "print(f\"Manual t-statistic: {t_stat_manual:.4f}\")\n",
    "\n",
    "# Display t-Test Calculation with t_stat_scipy () function.\n",
    "print(f\"Scipy t-statistic: {t_stat_scipy:.4f}, p-value: {p_value:.4f}\")"
   ]
  },
  {
   "cell_type": "markdown",
   "id": "caae9ec7",
   "metadata": {},
   "source": [
    "**Results interpretation**\n",
    "\n",
    "RHB rates changes or differnces (Before-After) [-1, 6, 9,-5, 16,-4, 3, 2]\n",
    "RHB rates static (unchanged)  [0] Patient-Id: 2.\n",
    "RHB rates major change: 16 Patient Id: 6 array and 7 normal counting."
   ]
  },
  {
   "cell_type": "markdown",
   "id": "9b188980",
   "metadata": {},
   "source": [
    "## Explanation t-Test Calculation"
   ]
  },
  {
   "cell_type": "markdown",
   "id": "399fee8b",
   "metadata": {},
   "source": [
    "1. **Manual Calculation**:\n",
    "\n",
    "The resting heart beat rates difference between \"before\" and \"after\" is calculated for each patient.\n",
    "\n",
    "The mean () and standard deviation () of these differences are computed.\n",
    "\n",
    "The t-statistic is calculated using the formula:\n",
    "\n",
    "<span style=\"font-size:20px;\">$$t = \\frac{\\bar{d}}{s_d / \\sqrt{n}}$$</span>\n",
    "\n",
    "2. **Using scipy.stats.ttest_rel**:\n",
    "\n",
    "For the same t-statistic result, the ttest_function performs a paired t-test directly.\n",
    "\n"
   ]
  },
  {
   "cell_type": "markdown",
   "id": "1468e932",
   "metadata": {},
   "source": [
    "## Sources used"
   ]
  },
  {
   "cell_type": "markdown",
   "id": "f79f6bb3",
   "metadata": {},
   "source": [
    "[1]Paired Samples t-test(2024). Available at: https://pythonfordatascienceorg.wordpress.com/paired-samples-t-test-python/ (Accessed on 10/12/2024)\n",
    "\n",
    "[2]Paired t-Test(2024).Available at: https://www.cuemath.com/data/paired-t-test/ (Accessed on 10/12/2024) \n",
    "\n",
    "[4] Paired t-test(2024).Available at: https://www.statisticssolutions.com/free-resources/directory-of-statistical-analyses/paired-sample-t-test/ (Accessed on 10/12/2024)\n",
    "\n",
    "[3]scipy.stats.ttest_rel documentation: SciPy Docs(2024).Available at: https://docs.scipy.org/doc/scipy/reference/generated/scipy.stats.ttest_rel.html\n",
    "\n"
   ]
  },
  {
   "cell_type": "markdown",
   "id": "6282cde2",
   "metadata": {},
   "source": [
    "## Task 4 ANOVA\n",
    "\n",
    "Analysis of variance (ANOVA) is a collection of statistical models and their associated estimation procedures (such as the \"variation\" among and between groups) used to analyze the differences among means(WIKIPEDIA, 2024). Available at: https://en.wikipedia.org/wiki/Analysis_of_variance(Accessed on 15/12/2024).\n",
    "\n",
    "#### One-way ANOVA\n",
    "https://statistics.laerd.com/spss-tutorials/one-way-anova-using-spss-statistics.php\n",
    "\n",
    "The one-way analysis of variance (ANOVA) is used to determine whether there are any statistically significant differences between the means of two or more independent (unrelated) groups (although you tend to only see it used when there are a minimum of three, rather than two groups). For example, you could use a one-way ANOVA to understand whether exam performance differed based on test anxiety levels amongst students, dividing students into three independent groups (e.g., low, medium and high-stressed students). Also, it is important to realize that the one-way ANOVA is an omnibus test statistic and cannot tell you which specific groups were statistically significantly different from each other; it only tells you that at least two groups were different. Since you may have three, four, five or more groups in your study design, determining which of these groups differ from each other is important. You can do this using a post hoc test(Laer Statistics, 2024). Available at: https://statistics.laerd.com/spss-tutorials/one-way-anova-using-spss-statistics.php (Accessed, on 14/12/2024).\n"
   ]
  },
  {
   "cell_type": "markdown",
   "id": "351c5205",
   "metadata": {},
   "source": [
    "### Import relevant Python module"
   ]
  },
  {
   "cell_type": "code",
   "execution_count": 59,
   "id": "54b0e599",
   "metadata": {},
   "outputs": [],
   "source": [
    "# Numerical.\n",
    "import numpy as np\n",
    "# Statistical.\n",
    "from scipy.stats import f_oneway"
   ]
  },
  {
   "cell_type": "markdown",
   "id": "e0cc725f",
   "metadata": {},
   "source": [
    "### Variables Initialisation"
   ]
  },
  {
   "cell_type": "code",
   "execution_count": 63,
   "id": "a3b8b038",
   "metadata": {},
   "outputs": [],
   "source": [
    "# Initialize variables\n",
    "no_type_ii = 0\n",
    "num_tests = 10000\n",
    "alpha = 0.05\n",
    "\n",
    "# Perform the test 10,000 times\n",
    "for _ in range(num_tests):\n",
    "    # Generate samples\n",
    "    sample1 = np.random.normal(loc=4.9, scale=0.1, size=100)\n",
    "    sample2 = np.random.normal(loc=5.0, scale=0.1, size=100)\n",
    "    sample3 = np.random.normal(loc=5.1, scale=0.1, size=100)\n",
    "\n",
    "    # Perform one-way ANOVA\n",
    "    f_stat, p_value = f_oneway(sample1, sample2, sample3)\n",
    "\n",
    "    # Count Type II errors (failing to reject a false null hypothesis)\n",
    "    if p_value > alpha:\n",
    "        no_type_ii += 1"
   ]
  },
  {
   "cell_type": "code",
   "execution_count": 64,
   "id": "b72a9242",
   "metadata": {},
   "outputs": [
    {
     "data": {
      "text/plain": [
       "0"
      ]
     },
     "execution_count": 64,
     "metadata": {},
     "output_type": "execute_result"
    }
   ],
   "source": [
    "# Check the variable no_type_ii\n",
    "no_type_ii"
   ]
  },
  {
   "cell_type": "code",
   "execution_count": 65,
   "id": "7bbf8d53",
   "metadata": {},
   "outputs": [
    {
     "data": {
      "text/plain": [
       "10000"
      ]
     },
     "execution_count": 65,
     "metadata": {},
     "output_type": "execute_result"
    }
   ],
   "source": [
    "# Check the number of tests to be carried out for the Analyse of variable.\n",
    "num_tests "
   ]
  },
  {
   "cell_type": "code",
   "execution_count": 66,
   "id": "8e479fef",
   "metadata": {},
   "outputs": [
    {
     "data": {
      "text/plain": [
       "0.05"
      ]
     },
     "execution_count": 66,
     "metadata": {},
     "output_type": "execute_result"
    }
   ],
   "source": [
    "# Check alpha\n",
    "alpha "
   ]
  },
  {
   "cell_type": "code",
   "execution_count": 67,
   "id": "b5cb7dec",
   "metadata": {},
   "outputs": [
    {
     "data": {
      "text/plain": [
       "array([4.94998892, 5.12057328, 4.98901594, 4.8895101 , 4.90327991,\n",
       "       4.85112213, 4.90227554, 4.80745124, 4.89063496, 5.12323906,\n",
       "       5.01622587, 4.94408823, 4.6190831 , 4.91114465, 5.05619841,\n",
       "       4.861428  , 4.8829762 , 4.87436716, 4.82529354, 4.90282566,\n",
       "       5.00430169, 4.81482911, 4.88003342, 4.80688475, 5.07779327,\n",
       "       4.96814841, 4.8549199 , 4.96333245, 5.02413783, 4.92124306,\n",
       "       4.84217765, 4.80273353, 4.85455531, 4.83339157, 5.01190244,\n",
       "       4.7970533 , 4.7725619 , 4.76582738, 4.68542833, 4.85207677,\n",
       "       4.83710616, 4.95068194, 5.03882731, 4.78046758, 5.1162449 ,\n",
       "       4.74825079, 4.82184422, 4.83709936, 4.9347583 , 4.89607284,\n",
       "       5.02032835, 5.01718576, 4.95747612, 4.87955127, 5.06307305,\n",
       "       4.92911723, 5.14910896, 4.8363786 , 4.79783571, 4.9783241 ,\n",
       "       4.97143781, 4.88182152, 4.92825977, 4.86729797, 4.7438347 ,\n",
       "       4.87433657, 4.87134704, 4.70661837, 4.92491413, 4.81238054,\n",
       "       4.8402049 , 4.87583571, 4.8864449 , 4.91692689, 4.85994464,\n",
       "       4.76713852, 4.90172097, 5.12726866, 4.72353036, 4.78130156,\n",
       "       4.68247919, 4.86652708, 4.82463385, 4.8346679 , 4.80989549,\n",
       "       4.94358412, 4.94814959, 4.7670559 , 4.99033116, 4.9559835 ,\n",
       "       4.96943035, 4.9805493 , 5.05367021, 4.91023027, 4.7888516 ,\n",
       "       4.85087489, 4.70450023, 4.95787616, 4.8433913 , 4.88732788])"
      ]
     },
     "execution_count": 67,
     "metadata": {},
     "output_type": "execute_result"
    }
   ],
   "source": [
    "# Display sample1\n",
    "sample1"
   ]
  },
  {
   "cell_type": "code",
   "execution_count": 68,
   "id": "a5116b84",
   "metadata": {},
   "outputs": [
    {
     "data": {
      "text/plain": [
       "array([5.00638211, 5.0734532 , 5.15624896, 5.0858585 , 4.75618862,\n",
       "       5.10140784, 5.16321308, 4.9235808 , 5.17062466, 4.81794428,\n",
       "       5.07610777, 5.02955264, 5.03539132, 4.90296413, 4.92985868,\n",
       "       4.93631647, 4.97351587, 5.02940207, 4.92880654, 5.19281042,\n",
       "       5.01305349, 4.98772523, 4.87228741, 4.95786432, 5.04497911,\n",
       "       4.95946407, 5.01739962, 4.88151711, 4.75769604, 4.96249885,\n",
       "       4.97871701, 4.93477589, 4.86337604, 4.96744446, 4.98587349,\n",
       "       5.0145955 , 4.97771467, 5.03502908, 4.93570589, 4.87315808,\n",
       "       5.11732372, 4.95599126, 4.93721316, 4.96266589, 5.14112383,\n",
       "       5.05580794, 4.93889189, 5.03608298, 5.08592736, 4.90197419,\n",
       "       4.91074579, 5.15731309, 4.96074749, 4.84443553, 4.92866257,\n",
       "       5.00956055, 5.03847957, 5.14313865, 4.89508289, 4.89335515,\n",
       "       5.02158805, 4.8636129 , 4.9415767 , 4.89713331, 4.82696743,\n",
       "       4.96773061, 4.95369723, 5.01915428, 4.91433199, 4.88785691,\n",
       "       5.05331393, 4.93968149, 4.92691062, 4.90310558, 5.12441935,\n",
       "       4.85822775, 5.05309185, 5.07835007, 5.09217753, 4.99116371,\n",
       "       4.91707722, 5.00647222, 4.8286891 , 5.17196031, 5.02647331,\n",
       "       4.97360067, 4.99868117, 4.94512527, 5.05600129, 5.12998017,\n",
       "       5.01497596, 4.86588142, 4.87516591, 5.03338697, 5.06772989,\n",
       "       4.91798404, 4.80404475, 5.03312778, 4.80833137, 5.05416426])"
      ]
     },
     "execution_count": 68,
     "metadata": {},
     "output_type": "execute_result"
    }
   ],
   "source": [
    "#Display sample2\n",
    "sample2"
   ]
  },
  {
   "cell_type": "code",
   "execution_count": 69,
   "id": "8a221815",
   "metadata": {},
   "outputs": [
    {
     "data": {
      "text/plain": [
       "array([4.85447049, 5.03235806, 5.15057846, 5.34448739, 5.11964437,\n",
       "       4.9561584 , 5.07158778, 5.1040609 , 4.9056046 , 5.085211  ,\n",
       "       5.12427826, 5.21982235, 5.00892896, 5.08040683, 5.10334937,\n",
       "       5.18668823, 5.02341147, 5.00303901, 5.34256533, 5.15911915,\n",
       "       5.09595441, 4.99451961, 5.07192591, 5.12785098, 4.97267564,\n",
       "       5.14394761, 5.12407023, 4.96131344, 5.1671017 , 5.115926  ,\n",
       "       5.12826557, 5.00878968, 5.07339857, 5.10990219, 5.29065358,\n",
       "       5.17556519, 5.04726146, 5.08894005, 5.06655276, 4.92300259,\n",
       "       5.00366021, 4.99493469, 5.11829328, 5.07636598, 5.28674651,\n",
       "       4.98509466, 5.00829202, 5.03528945, 5.28431356, 5.13160704,\n",
       "       5.01462853, 5.09112213, 5.16473475, 5.1425068 , 5.2163362 ,\n",
       "       5.13231524, 4.99809945, 5.09345038, 4.97993342, 5.17728875,\n",
       "       5.11013648, 5.05058769, 5.16097811, 5.1102691 , 5.02449174,\n",
       "       5.24232634, 5.11745047, 5.15100392, 4.94230113, 4.99787008,\n",
       "       5.00556747, 5.20429598, 5.09182962, 4.9834368 , 5.1444902 ,\n",
       "       5.1693425 , 5.15575472, 5.22084715, 5.23389306, 5.01342622,\n",
       "       5.07320568, 4.92416149, 4.96896299, 5.02457783, 5.17052539,\n",
       "       5.11901676, 5.11723858, 5.24235715, 5.18962149, 4.93324265,\n",
       "       5.06913901, 5.14092017, 5.16959675, 5.07765165, 5.14877406,\n",
       "       5.09119229, 4.9924835 , 5.07368874, 4.98380468, 5.08933041])"
      ]
     },
     "execution_count": 69,
     "metadata": {},
     "output_type": "execute_result"
    }
   ],
   "source": [
    "#Show sample3\n",
    "sample3"
   ]
  },
  {
   "cell_type": "code",
   "execution_count": 70,
   "id": "04f7206a",
   "metadata": {},
   "outputs": [
    {
     "data": {
      "text/plain": [
       "(100.58142430299462, 4.4125466601963104e-34)"
      ]
     },
     "execution_count": 70,
     "metadata": {},
     "output_type": "execute_result"
    }
   ],
   "source": [
    " # Show the  f_stat, p_value.\n",
    "f_stat, p_value"
   ]
  },
  {
   "cell_type": "markdown",
   "id": "cbf78b74",
   "metadata": {},
   "source": [
    "## Results Summary"
   ]
  },
  {
   "cell_type": "code",
   "execution_count": 5,
   "id": "abaa718d",
   "metadata": {},
   "outputs": [
    {
     "data": {
      "text/plain": [
       "(0, 0.0)"
      ]
     },
     "execution_count": 5,
     "metadata": {},
     "output_type": "execute_result"
    }
   ],
   "source": [
    "# Summarize results for ANOVA\n",
    "anova_results = (no_type_ii, no_type_ii/ num_tests)\n",
    "\n",
    "# Call the anova_results\n",
    "anova_results"
   ]
  },
  {
   "cell_type": "code",
   "execution_count": 72,
   "id": "7a69a1d3",
   "metadata": {},
   "outputs": [
    {
     "name": "stdout",
     "output_type": "stream",
     "text": [
      "Number of Type II errors: 0\n"
     ]
    }
   ],
   "source": [
    "# Display Number of Type II errors.\n",
    "print(f\"Number of Type II errors: {no_type_ii}\")\n"
   ]
  },
  {
   "cell_type": "code",
   "execution_count": 73,
   "id": "525a59e3",
   "metadata": {},
   "outputs": [
    {
     "name": "stdout",
     "output_type": "stream",
     "text": [
      "Type II error rate: 0.0000\n"
     ]
    }
   ],
   "source": [
    "# Display Type II error rate.\n",
    "print(f\"Type II error rate: {no_type_ii / num_tests:.4f}\")"
   ]
  },
  {
   "cell_type": "code",
   "execution_count": 74,
   "id": "d0a186b4",
   "metadata": {},
   "outputs": [
    {
     "name": "stdout",
     "output_type": "stream",
     "text": [
      "Number of Type II errors: 0\n",
      "Type II error rate: 0.0000\n"
     ]
    }
   ],
   "source": [
    "# Display Number of Type II errors.\n",
    "print(f\"Number of Type II errors: {no_type_ii}\")\n",
    "# Display Type II error rate.\n",
    "print(f\"Type II error rate: {no_type_ii / num_tests:.4f}\")"
   ]
  },
  {
   "cell_type": "markdown",
   "id": "8cfcede2",
   "metadata": {},
   "source": [
    "## Sources Used"
   ]
  },
  {
   "cell_type": "markdown",
   "id": "55c715d6",
   "metadata": {},
   "source": [
    "WIKIPEDIA(2024). Analysis of variance. Available at: https://en.wikipedia.org/wiki/Analysis_of_variance( Accessed on 14/12/2024)\n",
    "\n",
    "Statistics.laerd.com(2024) One-way-Anova using spss statistics. Available at: https://statistics.laerd.com/spss-tutorials/one-way-anova-using-spss-statistics.php (Accessed on 14/12/2024)"
   ]
  },
  {
   "cell_type": "markdown",
   "id": "59ed5ec1",
   "metadata": {},
   "source": [
    "<br>\n",
    "\n",
    "# End.\n",
    "\n",
    "***"
   ]
  }
 ],
 "metadata": {
  "kernelspec": {
   "display_name": "Python 3",
   "language": "python",
   "name": "python3"
  },
  "language_info": {
   "codemirror_mode": {
    "name": "ipython",
    "version": 3
   },
   "file_extension": ".py",
   "mimetype": "text/x-python",
   "name": "python",
   "nbconvert_exporter": "python",
   "pygments_lexer": "ipython3",
   "version": "3.8.8"
  }
 },
 "nbformat": 4,
 "nbformat_minor": 5
}
